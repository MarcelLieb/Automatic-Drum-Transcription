{
 "cells": [
  {
   "cell_type": "code",
   "id": "initial_id",
   "metadata": {
    "collapsed": true,
    "ExecuteTime": {
     "end_time": "2024-05-26T15:55:24.764717Z",
     "start_time": "2024-05-26T15:55:24.762887Z"
    }
   },
   "source": [
    "import torch\n",
    "from model.cnn import CNN\n",
    "from settings import *\n",
    "import torch.onnx as onnx"
   ],
   "outputs": [],
   "execution_count": 4
  },
  {
   "metadata": {
    "ExecuteTime": {
     "end_time": "2024-05-26T15:55:25.404553Z",
     "start_time": "2024-05-26T15:55:25.386798Z"
    }
   },
   "cell_type": "code",
   "source": [
    "# Load checkpoint\n",
    "checkpoint = torch.load('models/trained_model_63.96.pt')\n",
    "settings = checkpoint['model_settings']\n",
    "cnn_settings = CNNSettings(**settings)\n",
    "model = CNN(**settings)\n",
    "model.load_state_dict(checkpoint['model'])\n",
    "model"
   ],
   "id": "126d9118d257a9db",
   "outputs": [
    {
     "data": {
      "text/plain": [
       "CNN(\n",
       "  (activation): SELU()\n",
       "  (conv1): ResidualBlock(\n",
       "    (conv1): CausalConv2d(\n",
       "      (conv): Conv2d(1, 16, kernel_size=(3, 3), stride=(1, 1), padding=(1, 2), bias=False)\n",
       "    )\n",
       "    (conv2): CausalConv2d(\n",
       "      (conv): Conv2d(16, 16, kernel_size=(3, 3), stride=(1, 1), padding=(1, 2), bias=False)\n",
       "    )\n",
       "    (norm1): BatchNorm2d(16, eps=1e-05, momentum=0.1, affine=True, track_running_stats=True)\n",
       "    (norm2): BatchNorm2d(16, eps=1e-05, momentum=0.1, affine=True, track_running_stats=True)\n",
       "    (activation): SELU()\n",
       "    (re_sample): Conv2d(1, 16, kernel_size=(1, 1), stride=(1, 1), bias=False)\n",
       "  )\n",
       "  (pool1): MaxPool2d(kernel_size=(2, 1), stride=(2, 1), padding=0, dilation=1, ceil_mode=False)\n",
       "  (conv2): ResidualBlock(\n",
       "    (conv1): CausalConv2d(\n",
       "      (conv): Conv2d(16, 32, kernel_size=(3, 3), stride=(1, 1), padding=(1, 2), bias=False)\n",
       "    )\n",
       "    (conv2): CausalConv2d(\n",
       "      (conv): Conv2d(32, 32, kernel_size=(3, 3), stride=(1, 1), padding=(1, 2), bias=False)\n",
       "    )\n",
       "    (norm1): BatchNorm2d(32, eps=1e-05, momentum=0.1, affine=True, track_running_stats=True)\n",
       "    (norm2): BatchNorm2d(32, eps=1e-05, momentum=0.1, affine=True, track_running_stats=True)\n",
       "    (activation): SELU()\n",
       "    (re_sample): Conv2d(16, 32, kernel_size=(1, 1), stride=(1, 1), bias=False)\n",
       "  )\n",
       "  (pool2): MaxPool2d(kernel_size=(2, 1), stride=(2, 1), padding=0, dilation=1, ceil_mode=False)\n",
       "  (residuals): ModuleList(\n",
       "    (0-8): 9 x ResidualBlock1d(\n",
       "      (conv1): Conv1dVNormActivation(\n",
       "        (conv): Conv1dVertical(\n",
       "          (conv): Conv2d(32, 32, kernel_size=(3, 1), stride=(1, 1), padding=(1, 0), bias=False)\n",
       "        )\n",
       "        (norm): BatchNorm2d(32, eps=1e-05, momentum=0.1, affine=True, track_running_stats=True)\n",
       "        (activation): SELU()\n",
       "      )\n",
       "      (conv2): Conv1dVNormActivation(\n",
       "        (conv): Conv1dVertical(\n",
       "          (conv): Conv2d(32, 32, kernel_size=(3, 1), stride=(1, 1), padding=(1, 0), bias=False)\n",
       "        )\n",
       "        (norm): BatchNorm2d(32, eps=1e-05, momentum=0.1, affine=True, track_running_stats=True)\n",
       "        (activation): SELU()\n",
       "      )\n",
       "    )\n",
       "  )\n",
       "  (fc1): Linear(in_features=1344, out_features=64, bias=True)\n",
       "  (dropout): Dropout(p=0.1, inplace=False)\n",
       "  (fc2): Linear(in_features=64, out_features=3, bias=True)\n",
       ")"
      ]
     },
     "execution_count": 5,
     "metadata": {},
     "output_type": "execute_result"
    }
   ],
   "execution_count": 5
  },
  {
   "metadata": {
    "ExecuteTime": {
     "end_time": "2024-05-26T15:55:55.054204Z",
     "start_time": "2024-05-26T15:55:54.933806Z"
    }
   },
   "cell_type": "code",
   "source": [
    "export_options = torch.onnx.ExportOptions(dynamic_shapes=True)\n",
    "onnx.export(\n",
    "    model, \n",
    "    torch.zeros(1, cnn_settings.n_mels, 12),\n",
    "    \"./models/cnn.onnx\",\n",
    "    input_names=[\"mel_spec\"],\n",
    "    output_names=[\"activation\"],\n",
    "    dynamic_axes={\n",
    "        \"mel_spec\": [0, 2],\n",
    "        \"activation\": [0, 2],\n",
    "    },\n",
    ")"
   ],
   "id": "ab193903e2587497",
   "outputs": [],
   "execution_count": 8
  },
  {
   "metadata": {},
   "cell_type": "code",
   "outputs": [],
   "execution_count": null,
   "source": "",
   "id": "670680d3724aca8e"
  }
 ],
 "metadata": {
  "kernelspec": {
   "display_name": "Python 3",
   "language": "python",
   "name": "python3"
  },
  "language_info": {
   "codemirror_mode": {
    "name": "ipython",
    "version": 2
   },
   "file_extension": ".py",
   "mimetype": "text/x-python",
   "name": "python",
   "nbconvert_exporter": "python",
   "pygments_lexer": "ipython2",
   "version": "2.7.6"
  }
 },
 "nbformat": 4,
 "nbformat_minor": 5
}
