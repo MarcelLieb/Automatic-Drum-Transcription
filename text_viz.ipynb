{
 "cells": [
  {
   "metadata": {},
   "cell_type": "code",
   "outputs": [],
   "execution_count": null,
   "source": [
    "import fcwt\n",
    "import librosa\n",
    "import matplotlib.pyplot as plt\n",
    "import numpy as np\n",
    "\n",
    "from debug import index"
   ],
   "id": "9241df2b2b023a2d"
  },
  {
   "metadata": {},
   "cell_type": "code",
   "outputs": [],
   "execution_count": null,
   "source": [
    "# Load the audio file\n",
    "\n",
    "audio_path = 'data/snare.wav'\n",
    "y, sr = librosa.load(audio_path, sr=None)\n",
    "print(y.shape, sr)\n",
    "y = y[:int(sr*1)]\n"
   ],
   "id": "2aa3334ada93b6eb"
  },
  {
   "metadata": {},
   "cell_type": "code",
   "outputs": [],
   "execution_count": null,
   "source": [
    "# plot the audio signal\n",
    "plt.figure()\n",
    "plt.plot(y)\n",
    "plt.xlabel('Time (samples)')\n",
    "plt.ylabel('Amplitude')\n",
    "plt.title('Audio Signal')\n",
    "plt.show()"
   ],
   "id": "1e3614f4943ec47b"
  },
  {
   "metadata": {},
   "cell_type": "code",
   "outputs": [],
   "execution_count": null,
   "source": [
    "import IPython\n",
    "IPython.display.Audio(y, rate=sr)"
   ],
   "id": "a6c2d109203c9b17"
  },
  {
   "metadata": {},
   "cell_type": "code",
   "outputs": [],
   "execution_count": null,
   "source": [
    "# Compute the CWT\n",
    "fn = 500\n",
    "freqs, cwt = fcwt.cwt(y, sr, 20, 20000, fn, scaling='log', fast=True, norm=True)\n",
    "print(cwt.shape)\n",
    "cwt = np.abs(cwt)**2"
   ],
   "id": "bf4f0e34eae196d1"
  },
  {
   "metadata": {},
   "cell_type": "code",
   "outputs": [],
   "execution_count": null,
   "source": [
    "# Visualize the CWT\n",
    "use_db_scale = True\n",
    "cwt_dB = librosa.power_to_db(cwt, ref=np.max)\n",
    "signal = cwt if not use_db_scale else cwt_dB\n",
    "fig, ax = plt.subplots()\n",
    "img = ax.imshow(signal, aspect='auto', cmap='inferno')\n",
    "ax.set_xlabel('Time (s)')\n",
    "ax.set_ylabel('Frequency (Hz)')\n",
    "ax.set_title('CWT')\n",
    "# ax.set_xticks(np.linspace(0,cwt_dB.size,10),np.arange(0,cwt_dB.size/sr,10))\n",
    "ax.set_yticks(np.arange(0,fn,fn/10),np.round(freqs[::int(fn/10)]))\n",
    "fig.colorbar(img, ax=ax, format='%+2.0f dB')\n",
    "plt.show()"
   ],
   "id": "3e4819295e8343e6"
  },
  {
   "metadata": {},
   "cell_type": "code",
   "outputs": [],
   "execution_count": null,
   "source": [
    "# show stft of the same signal\n",
    "hop_length = 256\n",
    "S = librosa.feature.melspectrogram(y=y, sr=sr, n_fft=4096, hop_length=hop_length, n_mels=512)\n",
    "fig, ax = plt.subplots()\n",
    "S_dB = librosa.power_to_db(S, ref=np.max)\n",
    "signal = S_dB if use_db_scale else S\n",
    "img = librosa.display.specshow(signal, x_axis='time',\n",
    "                                y_axis='mel', sr=sr,\n",
    "                                fmin=20,\n",
    "                                fmax=20000, ax=ax)\n",
    "fig.colorbar(img, ax=ax, format='%+2.0f dB')\n",
    "ax.set(title='Mel-frequency spectrogram')\n",
    "plt.show()"
   ],
   "id": "d9785ee1f029074c"
  },
  {
   "metadata": {},
   "cell_type": "code",
   "outputs": [],
   "execution_count": null,
   "source": "",
   "id": "8a33b9d59f70bb64"
  },
  {
   "metadata": {},
   "cell_type": "markdown",
   "source": "# Dataset Stats",
   "id": "f713f39e6594c007"
  },
  {
   "metadata": {},
   "cell_type": "code",
   "outputs": [],
   "execution_count": null,
   "source": [
    "import pretty_midi\n",
    "import numpy as np\n",
    "from dataset.A2MD import get_tracks\n",
    "from dataset import get_drums\n",
    "from dataset.mapping import DrumMapping\n",
    "import os\n",
    "import polars as pl\n",
    "import json"
   ],
   "id": "1e76678624d0df45"
  },
  {
   "metadata": {},
   "cell_type": "code",
   "outputs": [],
   "execution_count": null,
   "source": [
    "def get_drum_pitch_velocity(path) -> np.ndarray:\n",
    "    midi = pretty_midi.PrettyMIDI(\n",
    "        midi_file=path\n",
    "    )\n",
    "    drum_instruments: list[pretty_midi.Instrument] = [\n",
    "        instrument for instrument in midi.instruments if instrument.is_drum\n",
    "    ]\n",
    "    notes = np.array(\n",
    "        [\n",
    "            (note.pitch, note.velocity)\n",
    "            for instrument in drum_instruments\n",
    "            for note in instrument.notes\n",
    "        ]\n",
    "    , dtype=np.uint8)\n",
    "    return notes\n",
    "\n",
    "def get_mapped_drums(path, mapping: DrumMapping):\n",
    "    midi = pretty_midi.PrettyMIDI(\n",
    "        midi_file=path\n",
    "    )\n",
    "    return get_drums(midi, mapping)"
   ],
   "id": "e0806c4ab1b1709f"
  },
  {
   "metadata": {},
   "cell_type": "code",
   "outputs": [],
   "execution_count": null,
   "source": [
    "tracks_per_alignment = get_tracks(\"./data/a2md_public\")\n",
    "tracks_per_alignment = {folder: [os.path.join(\"./data/a2md_public\", \"align_mid\", folder, f\"align_mid_{iden}.mid\") for iden in lst] for folder, lst in tracks_per_alignment.items()}"
   ],
   "id": "62fbd70ed14a0e4d"
  },
  {
   "metadata": {},
   "cell_type": "code",
   "outputs": [],
   "execution_count": null,
   "source": [
    "note_df = pl.DataFrame(schema={\"alignment\": pl.String, \"pitch\": pl.UInt8, \"velocity\": pl.UInt8})\n",
    "for folder, paths in tracks_per_alignment.items():\n",
    "    for file in paths:\n",
    "        notes = get_drum_pitch_velocity(file)\n",
    "        if len(notes) == 0:\n",
    "            print(file)\n",
    "            continue\n",
    "        note_df = note_df.extend(pl.from_numpy(notes, schema={\"pitch\": pl.UInt8, \"velocity\": pl.UInt8}).with_columns(pl.lit(folder).alias(\"alignment\")).select(\"alignment\", \"pitch\", \"velocity\"))\n"
   ],
   "id": "5e52943b22daf036"
  },
  {
   "metadata": {},
   "cell_type": "code",
   "outputs": [],
   "execution_count": null,
   "source": [
    "(\n",
    "    note_df.lazy()\n",
    "        .filter((pl.col(\"pitch\") >= 35) & (pl.col(\"pitch\") <= 81))\n",
    "        .group_by(\"alignment\", \"pitch\")\n",
    "        .agg(\n",
    "            pl.col(\"velocity\").min().alias(\"min\"),\n",
    "            pl.col(\"velocity\").mean().alias(\"mean\"),\n",
    "            pl.col(\"velocity\").max().alias(\"max\"),\n",
    "            pl.col(\"velocity\").std().alias(\"std\"),\n",
    "            pl.col(\"pitch\").count().alias(\"total\")\n",
    "        )\n",
    "        .sort(\"alignment\", \"pitch\")\n",
    "        .with_columns(\n",
    "            pl.col(\"pitch\")\n",
    "            .map_elements(pretty_midi.note_number_to_drum_name, return_dtype=pl.String)\n",
    "            .alias(\"name\")\n",
    "        )\n",
    "        .fill_null(0)\n",
    "        # combine velocity stats into one column\n",
    "        .with_columns(pl.col(\"mean\", \"std\").round(2))\n",
    "        .with_columns(pl.col(\"min\", \"max\").cast(pl.UInt8))\n",
    "        .with_columns(pl.col(\"min\", \"mean\", \"max\", \"std\").cast(pl.String))\n",
    "        .with_columns(velocity=\"(\" + pl.concat_list(\"min\", \"mean\", \"max\", \"std\").list.join(\", \") + \")\")\n",
    "        .select(\"alignment\", \"name\", \"total\", \"velocity\")\n",
    "        .collect()\n",
    "        .write_csv(\"processed/A2MD_per_p_combined.csv\", float_precision=2)\n",
    " )"
   ],
   "id": "c082d265bb5236"
  },
  {
   "metadata": {},
   "cell_type": "code",
   "outputs": [],
   "execution_count": null,
   "source": [
    "(\n",
    "    note_df.lazy()\n",
    "        .filter((pl.col(\"pitch\") >= 35) & (pl.col(\"pitch\") <= 81))\n",
    "        .group_by(\"pitch\")\n",
    "        .agg(\n",
    "            pl.col(\"velocity\").min().alias(\"min\"),\n",
    "            pl.col(\"velocity\").mean().alias(\"mean\"),\n",
    "            pl.col(\"velocity\").max().alias(\"max\"),\n",
    "            pl.col(\"velocity\").std().alias(\"std\"),\n",
    "            pl.col(\"pitch\").count().alias(\"total\")\n",
    "        )\n",
    "        .sort(\"pitch\")\n",
    "        .fill_null(0)\n",
    "        .with_columns(\n",
    "            pl.col(\"pitch\")\n",
    "            .map_elements(pretty_midi.note_number_to_drum_name, return_dtype=pl.String)\n",
    "            .alias(\"name\")\n",
    "        )\n",
    "        .with_columns(pl.col(\"mean\", \"std\").round(2))\n",
    "        .with_columns(pl.col(\"min\", \"max\").cast(pl.UInt8))\n",
    "        .with_columns(pl.col(\"min\", \"mean\", \"max\", \"std\").cast(pl.String))\n",
    "        .with_columns(velocity=\"(\" + pl.concat_list(\"min\", \"mean\", \"max\", \"std\").list.join(\", \") + \")\")\n",
    "        # .select(\"name\", \"total\", \"min\", \"mean\", \"max\", \"std\")\n",
    "        .select(\"name\", \"total\", \"velocity\")\n",
    "        .collect()\n",
    "        # .write_csv(\"processed/A2MD_total_combined.csv\", float_precision=2)\n",
    ")"
   ],
   "id": "c0fa11326b204878"
  },
  {
   "metadata": {},
   "cell_type": "code",
   "outputs": [],
   "execution_count": null,
   "source": [
    "drum_mappings = [DrumMapping.THREE_CLASS_STANDARD, DrumMapping.EIGHT_CLASS, DrumMapping.EIGHTEEN_CLASS]\n",
    "names_3_map = ['KD', 'SD', 'HH']\n",
    "names_m_map = ['BD', 'SD', 'TT', 'HH', 'CY', 'RD', 'CB', 'CL']\n",
    "names_l_map = ['BD', 'SD', 'SS', 'CLP', 'LT', 'MT', 'HT', 'CHH', 'PHH', 'OHH', 'TB', 'RD', 'RB', 'CRC', 'SPC', 'CHC', 'CB', 'CL']\n",
    "class_names = [names_3_map, names_m_map, names_l_map]"
   ],
   "id": "4829c3bc97104679"
  },
  {
   "metadata": {},
   "cell_type": "code",
   "outputs": [],
   "execution_count": null,
   "source": [
    "mapped_counter = [np.zeros(len(mapping)) for mapping in drum_mappings]\n",
    "for folder, paths in tracks_per_alignment.items():\n",
    "    for file in paths:\n",
    "        midi = pretty_midi.PrettyMIDI(\n",
    "            midi_file=file\n",
    "        )\n",
    "        for i, mapping in enumerate(drum_mappings):\n",
    "            drums = get_mapped_drums(file, mapping)\n",
    "            if drums is None:\n",
    "                continue\n",
    "            mapped_counter[i] += np.array([len(drum) for drum in drums])"
   ],
   "id": "71031e1b3df66c59"
  },
  {
   "metadata": {},
   "cell_type": "code",
   "outputs": [],
   "execution_count": null,
   "source": [
    "print(mapped_counter)\n",
    "relative_count = [count / sum(count) for count in mapped_counter]\n",
    "out = {\n",
    "    \"three\": list(zip(names_3_map, relative_count[0])),\n",
    "    \"eight\": list(zip(names_m_map, relative_count[1])),\n",
    "    \"eighteen\": list(zip(names_l_map, relative_count[2]))\n",
    "}\n",
    "with open(\"processed/A2MD_relative_mapped.json\", mode=\"wt\") as f:\n",
    "    f.write(json.dumps(out))\n",
    "    f.flush()"
   ],
   "id": "e185effc64136639"
  },
  {
   "metadata": {},
   "cell_type": "code",
   "outputs": [],
   "execution_count": null,
   "source": "",
   "id": "7eaedc9a7f899ed1"
  },
  {
   "metadata": {},
   "cell_type": "markdown",
   "source": "# Experiment plots",
   "id": "6b065c982836dc4e"
  },
  {
   "metadata": {},
   "cell_type": "code",
   "outputs": [],
   "execution_count": null,
   "source": [
    "import polars as pl\n",
    "import numpy as np\n",
    "import ipywidgets as widgets\n",
    "import polars.selectors as cs\n",
    "import seaborn as sns\n",
    "import matplotlib.pyplot as plt\n",
    "from PIL import Image\n",
    "plt.rcParams['svg.fonttype'] = 'none'"
   ],
   "id": "43a6956572874fd8"
  },
  {
   "metadata": {},
   "cell_type": "code",
   "outputs": [],
   "execution_count": null,
   "source": [
    "hparams = pl.scan_parquet(\"processed/BA/optuna.parquet\").select(pl.col(\"dir_name\", \"config\", \"datetime_start\", \"seed\")).sort(\"datetime_start\")\n",
    "tensors = pl.scan_parquet(\"processed/BA/tensors.parquet\")\n",
    "scalars = pl.scan_parquet(\"processed/BA/scores.parquet\")"
   ],
   "id": "ac9084673faffa51"
  },
  {
   "metadata": {},
   "cell_type": "code",
   "outputs": [],
   "execution_count": null,
   "source": "master_df = tensors.join(scalars, on=[\"dir_name\", \"step\"], validate=\"1:1\").join(hparams, on=\"dir_name\").sort(\"dir_name\", \"step\").fill_null(strategy=\"forward\", limit=5)# .filter(pl.col(\"config\").str.contains(\"tention\"))",
   "id": "ca0dd4ca743808b3"
  },
  {
   "metadata": {},
   "cell_type": "code",
   "outputs": [],
   "execution_count": null,
   "source": "master_df.sort(\"dir_name\", \"step\").fill_null(strategy=\"forward\").collect()",
   "id": "b8865e98bd964bec"
  },
  {
   "metadata": {},
   "cell_type": "code",
   "outputs": [],
   "execution_count": null,
   "source": "master_df.unpivot(on=[cs.starts_with(\"F-Score\"), cs.starts_with(\"Loss\")], index=[\"dir_name\", \"step\", \"config\"]).drop_nulls(pl.col(\"value\")).collect()",
   "id": "afe499dd7df09da0"
  },
  {
   "metadata": {},
   "cell_type": "code",
   "outputs": [],
   "execution_count": null,
   "source": [
    "# plot the loss and accuracy for each experiment\n",
    "\n",
    "run_progressions = master_df.unpivot(on=[cs.starts_with(\"F-Score\"), cs.starts_with(\"Loss\")], index=[\"dir_name\", \"step\", \"config\"]).drop_nulls(pl.col(\"value\")).collect()\n",
    "\n",
    "\n",
    "loss_progressions = run_progressions.filter(pl.col(\"variable\").str.starts_with(\"Loss\"))\n",
    "style_order=[\"Loss/Train\", \"Loss/Validation\", \"Loss/Test/MDB_full\", \"Loss/Test/RBMA_full\"]\n",
    "\n",
    "fig, ax = plt.subplots()\n",
    "sns.lineplot(loss_progressions.filter(pl.col(\"config\").str.starts_with(\"Mamba\")), x=\"step\", y=\"value\", hue=\"config\", style=\"variable\", style_order=style_order, ax=ax)\n",
    "ax: plt.Axes = ax\n",
    "ax.set_yscale(\"log\")\n",
    "plt.show()\n"
   ],
   "id": "a915eb5c56c56fe7"
  },
  {
   "metadata": {},
   "cell_type": "code",
   "outputs": [],
   "execution_count": null,
   "source": [
    "score_progressions = run_progressions.filter(pl.col(\"variable\").str.starts_with(\"F-Score/Sum\"))\n",
    "style_order=[\"Loss/Train\", \"Loss/Validation\", \"Loss/Test/MDB_full\", \"Loss/Test/RBMA_full\"]\n",
    "\n",
    "fig, ax = plt.subplots()\n",
    "sns.lineplot(score_progressions.filter(pl.col(\"config\").str.starts_with(\"Mamba\")), x=\"step\", y=\"value\", hue=\"config\", style=\"variable\", ax=ax)\n",
    "ax: plt.Axes = ax\n",
    "plt.savefig(\"processed/Mamba_scores.svg\")\n",
    "plt.show()\n",
    "\n",
    "\n",
    "\n"
   ],
   "id": "295b5ab379d3b596"
  },
  {
   "metadata": {},
   "cell_type": "code",
   "outputs": [],
   "execution_count": null,
   "source": "",
   "id": "e322717a6d77fc55"
  }
 ],
 "metadata": {
  "kernelspec": {
   "display_name": "Python 3",
   "language": "python",
   "name": "python3"
  },
  "language_info": {
   "codemirror_mode": {
    "name": "ipython",
    "version": 2
   },
   "file_extension": ".py",
   "mimetype": "text/x-python",
   "name": "python",
   "nbconvert_exporter": "python",
   "pygments_lexer": "ipython2",
   "version": "2.7.6"
  }
 },
 "nbformat": 4,
 "nbformat_minor": 5
}
