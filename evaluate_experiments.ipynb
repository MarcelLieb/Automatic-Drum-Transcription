{
 "cells": [
  {
   "metadata": {
    "ExecuteTime": {
     "end_time": "2024-06-25T12:25:33.322231Z",
     "start_time": "2024-06-25T12:25:33.317880Z"
    }
   },
   "cell_type": "code",
   "source": [
    "from tbparse import SummaryReader\n",
    "import polars as pl"
   ],
   "id": "9399ed0e59b61eeb",
   "outputs": [],
   "execution_count": 25
  },
  {
   "metadata": {
    "ExecuteTime": {
     "end_time": "2024-06-25T12:25:48.293550Z",
     "start_time": "2024-06-25T12:25:35.084394Z"
    }
   },
   "cell_type": "code",
   "source": [
    "logs = SummaryReader(\"runs/\", pivot=True, extra_columns={'dir_name'})\n",
    "params = pl.from_pandas(logs.hparams, nan_to_null=True)\n",
    "scores = pl.from_pandas(logs.scalars, nan_to_null=True)\n",
    "hparams = params.join(scores.select(pl.col(\"F-Score\", \"dir_name\")), on='dir_name', how='inner')"
   ],
   "id": "f71d8a3a39c291e9",
   "outputs": [],
   "execution_count": 26
  },
  {
   "metadata": {
    "ExecuteTime": {
     "end_time": "2024-06-25T12:50:42.619052Z",
     "start_time": "2024-06-25T12:50:42.608379Z"
    }
   },
   "cell_type": "code",
   "source": [
    "def get_model_settings(model_type: str) -> (pl.DataFrame, pl.DataFrame):\n",
    "    model = hparams.filter(pl.col(\"model_settings\").str.contains(model_type))\n",
    "    non_null = model.select(pl.all().is_not_null().all()).row(0)\n",
    "    model = model[:, non_null]\n",
    "    different = model.select(pl.all().n_unique() > 1).row(0)\n",
    "    diff = model[:, different].sort(\"F-Score\", descending=True)\n",
    "    iden = model.select(pl.all().n_unique() == 1).row(0)\n",
    "    identical = model[:, iden].select(pl.all().exclude(\"dir_name\", \"F-Score\")).limit(1)\n",
    "    \n",
    "    return diff, identical"
   ],
   "id": "584abf3f76d3dd0f",
   "outputs": [],
   "execution_count": 64
  },
  {
   "metadata": {
    "ExecuteTime": {
     "end_time": "2024-06-25T12:51:25.520137Z",
     "start_time": "2024-06-25T12:51:25.490845Z"
    }
   },
   "cell_type": "code",
   "source": [
    "unique, identical = get_model_settings(\"mamba\")\n",
    "print(identical)\n",
    "unique"
   ],
   "id": "82f2d5a1e21a3192",
   "outputs": [
    {
     "name": "stdout",
     "output_type": "stream",
     "text": [
      "shape: (1, 27)\n",
      "┌────────────┬───────┬────────┬────────┬───┬───────────┬───────────────┬──────────────┬────────────┐\n",
      "│ activation ┆ beats ┆ causal ┆ center ┆ … ┆ scheduler ┆ splits        ┆ test_batch_s ┆ train_set  │\n",
      "│ ---        ┆ ---   ┆ ---    ┆ ---    ┆   ┆ ---       ┆ ---           ┆ ize          ┆ ---        │\n",
      "│ str        ┆ f64   ┆ f64    ┆ f64    ┆   ┆ f64       ┆ str           ┆ ---          ┆ str        │\n",
      "│            ┆       ┆        ┆        ┆   ┆           ┆               ┆ f64          ┆            │\n",
      "╞════════════╪═══════╪════════╪════════╪═══╪═══════════╪═══════════════╪══════════════╪════════════╡\n",
      "│ SELU       ┆ 0.0   ┆ 1.0    ┆ 1.0    ┆ … ┆ 1.0       ┆ (0.85, 0.15,  ┆ 1.0          ┆ a2md_train │\n",
      "│            ┆       ┆        ┆        ┆   ┆           ┆ 0.0)          ┆              ┆            │\n",
      "└────────────┴───────┴────────┴────────┴───┴───────────┴───────────────┴──────────────┴────────────┘\n"
     ]
    },
    {
     "data": {
      "text/plain": [
       "shape: (6, 16)\n",
       "┌────────────┬─────────┬────────┬──────┬───┬────────────┬──────────────┬────────────────┬──────────┐\n",
       "│ batch_size ┆ dropout ┆ epochs ┆ flux ┆ … ┆ time_shift ┆ weight_decay ┆ dir_name       ┆ F-Score  │\n",
       "│ ---        ┆ ---     ┆ ---    ┆ ---  ┆   ┆ ---        ┆ ---          ┆ ---            ┆ ---      │\n",
       "│ f64        ┆ f64     ┆ f64    ┆ f64  ┆   ┆ f64        ┆ f64          ┆ str            ┆ f64      │\n",
       "╞════════════╪═════════╪════════╪══════╪═══╪════════════╪══════════════╪════════════════╪══════════╡\n",
       "│ 4.0        ┆ 0.1     ┆ 20.0   ┆ 0.0  ┆ … ┆ 0.015      ┆ 0.00001      ┆ Jun10_17-58-15 ┆ 0.455403 │\n",
       "│            ┆         ┆        ┆      ┆   ┆            ┆              ┆ _seppel-liemar ┆          │\n",
       "│            ┆         ┆        ┆      ┆   ┆            ┆              ┆ ce…            ┆          │\n",
       "│ 16.0       ┆ 0.1     ┆ 20.0   ┆ 1.0  ┆ … ┆ 0.02       ┆ 0.00001      ┆ Jun19_13-16-07 ┆ 0.434372 │\n",
       "│            ┆         ┆        ┆      ┆   ┆            ┆              ┆ _seppel-liemar ┆          │\n",
       "│            ┆         ┆        ┆      ┆   ┆            ┆              ┆ ce…            ┆          │\n",
       "│ 16.0       ┆ 0.1     ┆ 20.0   ┆ 0.0  ┆ … ┆ 0.02       ┆ 0.00001      ┆ Jun25_07-53-16 ┆ 0.139301 │\n",
       "│            ┆         ┆        ┆      ┆   ┆            ┆              ┆ _seppel-liemar ┆          │\n",
       "│            ┆         ┆        ┆      ┆   ┆            ┆              ┆ ce…            ┆          │\n",
       "│ 24.0       ┆ 0.1     ┆ 20.0   ┆ 1.0  ┆ … ┆ 0.025      ┆ 0.00001      ┆ Jun23_17-34-02 ┆ 0.116948 │\n",
       "│            ┆         ┆        ┆      ┆   ┆            ┆              ┆ _seppel-liemar ┆          │\n",
       "│            ┆         ┆        ┆      ┆   ┆            ┆              ┆ ce…            ┆          │\n",
       "│ 24.0       ┆ 0.1     ┆ 20.0   ┆ 1.0  ┆ … ┆ 0.025      ┆ 0.00001      ┆ Jun22_16-25-42 ┆ 0.052223 │\n",
       "│            ┆         ┆        ┆      ┆   ┆            ┆              ┆ _seppel-liemar ┆          │\n",
       "│            ┆         ┆        ┆      ┆   ┆            ┆              ┆ ce…            ┆          │\n",
       "│ 32.0       ┆ 0.3     ┆ 30.0   ┆ 0.0  ┆ … ┆ 0.015      ┆ 0.0          ┆ Jun08_13-22-15 ┆ 0.04605  │\n",
       "│            ┆         ┆        ┆      ┆   ┆            ┆              ┆ _seppel-liemar ┆          │\n",
       "│            ┆         ┆        ┆      ┆   ┆            ┆              ┆ ce…            ┆          │\n",
       "└────────────┴─────────┴────────┴──────┴───┴────────────┴──────────────┴────────────────┴──────────┘"
      ],
      "text/html": [
       "<div><style>\n",
       ".dataframe > thead > tr,\n",
       ".dataframe > tbody > tr {\n",
       "  text-align: right;\n",
       "  white-space: pre-wrap;\n",
       "}\n",
       "</style>\n",
       "<small>shape: (6, 16)</small><table border=\"1\" class=\"dataframe\"><thead><tr><th>batch_size</th><th>dropout</th><th>epochs</th><th>flux</th><th>learning_rate</th><th>mapping</th><th>min_test_score</th><th>model_settings</th><th>n_layers</th><th>num_channels</th><th>onset_cooldown</th><th>pr_points</th><th>time_shift</th><th>weight_decay</th><th>dir_name</th><th>F-Score</th></tr><tr><td>f64</td><td>f64</td><td>f64</td><td>f64</td><td>f64</td><td>str</td><td>f64</td><td>str</td><td>f64</td><td>f64</td><td>f64</td><td>f64</td><td>f64</td><td>f64</td><td>str</td><td>f64</td></tr></thead><tbody><tr><td>4.0</td><td>0.1</td><td>20.0</td><td>0.0</td><td>0.0001</td><td>&quot;THREE_CLASS_STANDARD&quot;</td><td>0.54</td><td>&quot;mamba&quot;</td><td>3.0</td><td>16.0</td><td>0.021</td><td>1000.0</td><td>0.015</td><td>0.00001</td><td>&quot;Jun10_17-58-15_seppel-liemarce…</td><td>0.455403</td></tr><tr><td>16.0</td><td>0.1</td><td>20.0</td><td>1.0</td><td>0.0001</td><td>&quot;Three class standard&quot;</td><td>0.48</td><td>&quot;mamba_fast&quot;</td><td>5.0</td><td>32.0</td><td>0.021</td><td>1000.0</td><td>0.02</td><td>0.00001</td><td>&quot;Jun19_13-16-07_seppel-liemarce…</td><td>0.434372</td></tr><tr><td>16.0</td><td>0.1</td><td>20.0</td><td>0.0</td><td>0.0001</td><td>&quot;Three class standard&quot;</td><td>0.48</td><td>&quot;mamba_fast&quot;</td><td>3.0</td><td>16.0</td><td>0.021</td><td>1000.0</td><td>0.02</td><td>0.00001</td><td>&quot;Jun25_07-53-16_seppel-liemarce…</td><td>0.139301</td></tr><tr><td>24.0</td><td>0.1</td><td>20.0</td><td>1.0</td><td>0.0001</td><td>&quot;Three class standard&quot;</td><td>0.48</td><td>&quot;mamba_fast&quot;</td><td>5.0</td><td>16.0</td><td>0.021</td><td>200.0</td><td>0.025</td><td>0.00001</td><td>&quot;Jun23_17-34-02_seppel-liemarce…</td><td>0.116948</td></tr><tr><td>24.0</td><td>0.1</td><td>20.0</td><td>1.0</td><td>0.0001</td><td>&quot;Three class standard&quot;</td><td>0.48</td><td>&quot;mamba_fast&quot;</td><td>10.0</td><td>16.0</td><td>0.021</td><td>200.0</td><td>0.025</td><td>0.00001</td><td>&quot;Jun22_16-25-42_seppel-liemarce…</td><td>0.052223</td></tr><tr><td>32.0</td><td>0.3</td><td>30.0</td><td>0.0</td><td>0.00005</td><td>&quot;THREE_CLASS_STANDARD&quot;</td><td>0.54</td><td>&quot;mamba&quot;</td><td>3.0</td><td>16.0</td><td>0.02</td><td>1000.0</td><td>0.015</td><td>0.0</td><td>&quot;Jun08_13-22-15_seppel-liemarce…</td><td>0.04605</td></tr></tbody></table></div>"
      ]
     },
     "execution_count": 66,
     "metadata": {},
     "output_type": "execute_result"
    }
   ],
   "execution_count": 66
  },
  {
   "metadata": {
    "ExecuteTime": {
     "end_time": "2024-06-25T12:52:57.906494Z",
     "start_time": "2024-06-25T12:52:57.882930Z"
    }
   },
   "cell_type": "code",
   "source": [
    "unique, identical = get_model_settings(\"attention\")\n",
    "print(identical)\n",
    "unique"
   ],
   "id": "78ebef96ebcd3473",
   "outputs": [
    {
     "name": "stdout",
     "output_type": "stream",
     "text": [
      "shape: (1, 26)\n",
      "┌────────────┬───────┬────────┬────────┬───┬─────────────┬───────────┬────────────────┬────────────┐\n",
      "│ activation ┆ beats ┆ causal ┆ center ┆ … ┆ sample_rate ┆ scheduler ┆ splits         ┆ train_set  │\n",
      "│ ---        ┆ ---   ┆ ---    ┆ ---    ┆   ┆ ---         ┆ ---       ┆ ---            ┆ ---        │\n",
      "│ str        ┆ f64   ┆ f64    ┆ f64    ┆   ┆ f64         ┆ f64       ┆ str            ┆ str        │\n",
      "╞════════════╪═══════╪════════╪════════╪═══╪═════════════╪═══════════╪════════════════╪════════════╡\n",
      "│ SELU       ┆ 0.0   ┆ 1.0    ┆ 1.0    ┆ … ┆ 44100.0     ┆ 1.0       ┆ (0.85, 0.15,   ┆ a2md_train │\n",
      "│            ┆       ┆        ┆        ┆   ┆             ┆           ┆ 0.0)           ┆            │\n",
      "└────────────┴───────┴────────┴────────┴───┴─────────────┴───────────┴────────────────┴────────────┘\n"
     ]
    },
    {
     "data": {
      "text/plain": [
       "shape: (7, 17)\n",
       "┌────────────┬────────────┬────────────┬────────┬───┬───────────┬───────────┬───────────┬──────────┐\n",
       "│ batch_size ┆ context_si ┆ dataset_ve ┆ epochs ┆ … ┆ test_batc ┆ time_shif ┆ dir_name  ┆ F-Score  │\n",
       "│ ---        ┆ ze         ┆ rsion      ┆ ---    ┆   ┆ h_size    ┆ t         ┆ ---       ┆ ---      │\n",
       "│ f64        ┆ ---        ┆ ---        ┆ f64    ┆   ┆ ---       ┆ ---       ┆ str       ┆ f64      │\n",
       "│            ┆ f64        ┆ str        ┆        ┆   ┆ f64       ┆ f64       ┆           ┆          │\n",
       "╞════════════╪════════════╪════════════╪════════╪═══╪═══════════╪═══════════╪═══════════╪══════════╡\n",
       "│ 16.0       ┆ 200.0      ┆ L          ┆ 20.0   ┆ … ┆ 1.0       ┆ 0.015     ┆ Jun13_10- ┆ 0.492189 │\n",
       "│            ┆            ┆            ┆        ┆   ┆           ┆           ┆ 57-29_sep ┆          │\n",
       "│            ┆            ┆            ┆        ┆   ┆           ┆           ┆ pel-liema ┆          │\n",
       "│            ┆            ┆            ┆        ┆   ┆           ┆           ┆ rce…      ┆          │\n",
       "│ 16.0       ┆ 200.0      ┆ L          ┆ 20.0   ┆ … ┆ 1.0       ┆ 0.015     ┆ Jun14_09- ┆ 0.482672 │\n",
       "│            ┆            ┆            ┆        ┆   ┆           ┆           ┆ 33-24_sep ┆          │\n",
       "│            ┆            ┆            ┆        ┆   ┆           ┆           ┆ pel-liema ┆          │\n",
       "│            ┆            ┆            ┆        ┆   ┆           ┆           ┆ rce…      ┆          │\n",
       "│ 4.0        ┆ 200.0      ┆ L          ┆ 20.0   ┆ … ┆ 1.0       ┆ 0.015     ┆ Jun11_13- ┆ 0.458652 │\n",
       "│            ┆            ┆            ┆        ┆   ┆           ┆           ┆ 54-21_sep ┆          │\n",
       "│            ┆            ┆            ┆        ┆   ┆           ┆           ┆ pel-liema ┆          │\n",
       "│            ┆            ┆            ┆        ┆   ┆           ┆           ┆ rce…      ┆          │\n",
       "│ 16.0       ┆ 200.0      ┆ L          ┆ 20.0   ┆ … ┆ 1.0       ┆ 0.02      ┆ Jun17_15- ┆ 0.393078 │\n",
       "│            ┆            ┆            ┆        ┆   ┆           ┆           ┆ 04-11_sep ┆          │\n",
       "│            ┆            ┆            ┆        ┆   ┆           ┆           ┆ pel-liema ┆          │\n",
       "│            ┆            ┆            ┆        ┆   ┆           ┆           ┆ rce…      ┆          │\n",
       "│ 4.0        ┆ 200.0      ┆ S          ┆ 20.0   ┆ … ┆ 1.0       ┆ 0.015     ┆ Jun11_06- ┆ 0.248427 │\n",
       "│            ┆            ┆            ┆        ┆   ┆           ┆           ┆ 49-13_sep ┆          │\n",
       "│            ┆            ┆            ┆        ┆   ┆           ┆           ┆ pel-liema ┆          │\n",
       "│            ┆            ┆            ┆        ┆   ┆           ┆           ┆ rce…      ┆          │\n",
       "│ 8.0        ┆ 200.0      ┆ L          ┆ 20.0   ┆ … ┆ 1.0       ┆ 0.015     ┆ Jun12_07- ┆ 0.233853 │\n",
       "│            ┆            ┆            ┆        ┆   ┆           ┆           ┆ 38-49_sep ┆          │\n",
       "│            ┆            ┆            ┆        ┆   ┆           ┆           ┆ pel-liema ┆          │\n",
       "│            ┆            ┆            ┆        ┆   ┆           ┆           ┆ rce…      ┆          │\n",
       "│ 128.0      ┆ 50.0       ┆ L          ┆ 30.0   ┆ … ┆ 10.0      ┆ 0.015     ┆ Jun05_14- ┆ 0.206779 │\n",
       "│            ┆            ┆            ┆        ┆   ┆           ┆           ┆ 40-09_sep ┆          │\n",
       "│            ┆            ┆            ┆        ┆   ┆           ┆           ┆ pel-liema ┆          │\n",
       "│            ┆            ┆            ┆        ┆   ┆           ┆           ┆ rce…      ┆          │\n",
       "└────────────┴────────────┴────────────┴────────┴───┴───────────┴───────────┴───────────┴──────────┘"
      ],
      "text/html": [
       "<div><style>\n",
       ".dataframe > thead > tr,\n",
       ".dataframe > tbody > tr {\n",
       "  text-align: right;\n",
       "  white-space: pre-wrap;\n",
       "}\n",
       "</style>\n",
       "<small>shape: (7, 17)</small><table border=\"1\" class=\"dataframe\"><thead><tr><th>batch_size</th><th>context_size</th><th>dataset_version</th><th>epochs</th><th>flux</th><th>learning_rate</th><th>mapping</th><th>min_test_score</th><th>num_attention_blocks</th><th>num_channels</th><th>num_heads</th><th>onset_cooldown</th><th>pad_annotations</th><th>test_batch_size</th><th>time_shift</th><th>dir_name</th><th>F-Score</th></tr><tr><td>f64</td><td>f64</td><td>str</td><td>f64</td><td>f64</td><td>f64</td><td>str</td><td>f64</td><td>f64</td><td>f64</td><td>f64</td><td>f64</td><td>f64</td><td>f64</td><td>f64</td><td>str</td><td>f64</td></tr></thead><tbody><tr><td>16.0</td><td>200.0</td><td>&quot;L&quot;</td><td>20.0</td><td>1.0</td><td>0.0001</td><td>&quot;THREE_CLASS_STANDARD&quot;</td><td>0.54</td><td>5.0</td><td>24.0</td><td>8.0</td><td>0.021</td><td>1.0</td><td>1.0</td><td>0.015</td><td>&quot;Jun13_10-57-29_seppel-liemarce…</td><td>0.492189</td></tr><tr><td>16.0</td><td>200.0</td><td>&quot;L&quot;</td><td>20.0</td><td>1.0</td><td>0.0001</td><td>&quot;THREE_CLASS_STANDARD&quot;</td><td>0.54</td><td>5.0</td><td>32.0</td><td>8.0</td><td>0.021</td><td>1.0</td><td>1.0</td><td>0.015</td><td>&quot;Jun14_09-33-24_seppel-liemarce…</td><td>0.482672</td></tr><tr><td>4.0</td><td>200.0</td><td>&quot;L&quot;</td><td>20.0</td><td>0.0</td><td>0.0001</td><td>&quot;THREE_CLASS_STANDARD&quot;</td><td>0.54</td><td>5.0</td><td>16.0</td><td>8.0</td><td>0.021</td><td>1.0</td><td>1.0</td><td>0.015</td><td>&quot;Jun11_13-54-21_seppel-liemarce…</td><td>0.458652</td></tr><tr><td>16.0</td><td>200.0</td><td>&quot;L&quot;</td><td>20.0</td><td>1.0</td><td>0.0001</td><td>&quot;Three class standard&quot;</td><td>0.48</td><td>5.0</td><td>24.0</td><td>8.0</td><td>0.021</td><td>1.0</td><td>1.0</td><td>0.02</td><td>&quot;Jun17_15-04-11_seppel-liemarce…</td><td>0.393078</td></tr><tr><td>4.0</td><td>200.0</td><td>&quot;S&quot;</td><td>20.0</td><td>0.0</td><td>0.0001</td><td>&quot;THREE_CLASS_STANDARD&quot;</td><td>0.54</td><td>5.0</td><td>32.0</td><td>8.0</td><td>0.021</td><td>1.0</td><td>1.0</td><td>0.015</td><td>&quot;Jun11_06-49-13_seppel-liemarce…</td><td>0.248427</td></tr><tr><td>8.0</td><td>200.0</td><td>&quot;L&quot;</td><td>20.0</td><td>1.0</td><td>0.0001</td><td>&quot;THREE_CLASS_STANDARD&quot;</td><td>0.54</td><td>5.0</td><td>24.0</td><td>8.0</td><td>0.021</td><td>1.0</td><td>1.0</td><td>0.015</td><td>&quot;Jun12_07-38-49_seppel-liemarce…</td><td>0.233853</td></tr><tr><td>128.0</td><td>50.0</td><td>&quot;L&quot;</td><td>30.0</td><td>0.0</td><td>0.0004</td><td>&quot;THREE_CLASS_STANDARD&quot;</td><td>0.54</td><td>1.0</td><td>32.0</td><td>4.0</td><td>0.02</td><td>0.0</td><td>10.0</td><td>0.015</td><td>&quot;Jun05_14-40-09_seppel-liemarce…</td><td>0.206779</td></tr></tbody></table></div>"
      ]
     },
     "execution_count": 67,
     "metadata": {},
     "output_type": "execute_result"
    }
   ],
   "execution_count": 67
  },
  {
   "metadata": {
    "ExecuteTime": {
     "end_time": "2024-06-25T13:01:11.091673Z",
     "start_time": "2024-06-25T13:01:11.067991Z"
    }
   },
   "cell_type": "code",
   "source": [
    "unique, identical = get_model_settings(\"cnn\")\n",
    "print(identical)\n",
    "unique"
   ],
   "id": "a74f765943464151",
   "outputs": [
    {
     "name": "stdout",
     "output_type": "stream",
     "text": [
      "shape: (1, 25)\n",
      "┌────────────┬───────┬────────┬────────┬───┬─────────────┬───────────┬────────────────┬────────────┐\n",
      "│ activation ┆ beats ┆ causal ┆ center ┆ … ┆ sample_rate ┆ scheduler ┆ splits         ┆ train_set  │\n",
      "│ ---        ┆ ---   ┆ ---    ┆ ---    ┆   ┆ ---         ┆ ---       ┆ ---            ┆ ---        │\n",
      "│ str        ┆ f64   ┆ f64    ┆ f64    ┆   ┆ f64         ┆ f64       ┆ str            ┆ str        │\n",
      "╞════════════╪═══════╪════════╪════════╪═══╪═════════════╪═══════════╪════════════════╪════════════╡\n",
      "│ SELU       ┆ 0.0   ┆ 1.0    ┆ 1.0    ┆ … ┆ 44100.0     ┆ 1.0       ┆ (0.85, 0.15,   ┆ a2md_train │\n",
      "│            ┆       ┆        ┆        ┆   ┆             ┆           ┆ 0.0)           ┆            │\n",
      "└────────────┴───────┴────────┴────────┴───┴─────────────┴───────────┴────────────────┴────────────┘\n"
     ]
    },
    {
     "data": {
      "text/plain": [
       "shape: (10, 15)\n",
       "┌────────────┬─────────────┬────────┬──────┬───┬─────────────┬────────────┬─────────────┬──────────┐\n",
       "│ batch_size ┆ dataset_ver ┆ epochs ┆ flux ┆ … ┆ test_batch_ ┆ time_shift ┆ dir_name    ┆ F-Score  │\n",
       "│ ---        ┆ sion        ┆ ---    ┆ ---  ┆   ┆ size        ┆ ---        ┆ ---         ┆ ---      │\n",
       "│ f64        ┆ ---         ┆ f64    ┆ f64  ┆   ┆ ---         ┆ f64        ┆ str         ┆ f64      │\n",
       "│            ┆ str         ┆        ┆      ┆   ┆ f64         ┆            ┆             ┆          │\n",
       "╞════════════╪═════════════╪════════╪══════╪═══╪═════════════╪════════════╪═════════════╪══════════╡\n",
       "│ 16.0       ┆ L           ┆ 20.0   ┆ 1.0  ┆ … ┆ 1.0         ┆ 0.015      ┆ Jun13_10-57 ┆ 0.492189 │\n",
       "│            ┆             ┆        ┆      ┆   ┆             ┆            ┆ -29_seppel- ┆          │\n",
       "│            ┆             ┆        ┆      ┆   ┆             ┆            ┆ liemarce…   ┆          │\n",
       "│ 512.0      ┆ L           ┆ 30.0   ┆ 1.0  ┆ … ┆ 10.0        ┆ 0.015      ┆ Jun04_19-26 ┆ 0.487235 │\n",
       "│            ┆             ┆        ┆      ┆   ┆             ┆            ┆ -40_seppel- ┆          │\n",
       "│            ┆             ┆        ┆      ┆   ┆             ┆            ┆ liemarce…   ┆          │\n",
       "│ 16.0       ┆ L           ┆ 20.0   ┆ 1.0  ┆ … ┆ 1.0         ┆ 0.015      ┆ Jun14_09-33 ┆ 0.482672 │\n",
       "│            ┆             ┆        ┆      ┆   ┆             ┆            ┆ -24_seppel- ┆          │\n",
       "│            ┆             ┆        ┆      ┆   ┆             ┆            ┆ liemarce…   ┆          │\n",
       "│ 512.0      ┆ L           ┆ 20.0   ┆ 1.0  ┆ … ┆ 1.0         ┆ 0.015      ┆ Jun10_09-14 ┆ 0.462143 │\n",
       "│            ┆             ┆        ┆      ┆   ┆             ┆            ┆ -54_seppel- ┆          │\n",
       "│            ┆             ┆        ┆      ┆   ┆             ┆            ┆ liemarce…   ┆          │\n",
       "│ 4.0        ┆ L           ┆ 20.0   ┆ 0.0  ┆ … ┆ 1.0         ┆ 0.015      ┆ Jun11_13-54 ┆ 0.458652 │\n",
       "│            ┆             ┆        ┆      ┆   ┆             ┆            ┆ -21_seppel- ┆          │\n",
       "│            ┆             ┆        ┆      ┆   ┆             ┆            ┆ liemarce…   ┆          │\n",
       "│ 16.0       ┆ L           ┆ 20.0   ┆ 1.0  ┆ … ┆ 1.0         ┆ 0.02       ┆ Jun17_15-04 ┆ 0.393078 │\n",
       "│            ┆             ┆        ┆      ┆   ┆             ┆            ┆ -11_seppel- ┆          │\n",
       "│            ┆             ┆        ┆      ┆   ┆             ┆            ┆ liemarce…   ┆          │\n",
       "│ 512.0      ┆ L           ┆ 20.0   ┆ 1.0  ┆ … ┆ 1.0         ┆ 0.025      ┆ Jun09_16-46 ┆ 0.267671 │\n",
       "│            ┆             ┆        ┆      ┆   ┆             ┆            ┆ -27_seppel- ┆          │\n",
       "│            ┆             ┆        ┆      ┆   ┆             ┆            ┆ liemarce…   ┆          │\n",
       "│ 4.0        ┆ S           ┆ 20.0   ┆ 0.0  ┆ … ┆ 1.0         ┆ 0.015      ┆ Jun11_06-49 ┆ 0.248427 │\n",
       "│            ┆             ┆        ┆      ┆   ┆             ┆            ┆ -13_seppel- ┆          │\n",
       "│            ┆             ┆        ┆      ┆   ┆             ┆            ┆ liemarce…   ┆          │\n",
       "│ 8.0        ┆ L           ┆ 20.0   ┆ 1.0  ┆ … ┆ 1.0         ┆ 0.015      ┆ Jun12_07-38 ┆ 0.233853 │\n",
       "│            ┆             ┆        ┆      ┆   ┆             ┆            ┆ -49_seppel- ┆          │\n",
       "│            ┆             ┆        ┆      ┆   ┆             ┆            ┆ liemarce…   ┆          │\n",
       "│ 128.0      ┆ L           ┆ 30.0   ┆ 0.0  ┆ … ┆ 10.0        ┆ 0.015      ┆ Jun05_14-40 ┆ 0.206779 │\n",
       "│            ┆             ┆        ┆      ┆   ┆             ┆            ┆ -09_seppel- ┆          │\n",
       "│            ┆             ┆        ┆      ┆   ┆             ┆            ┆ liemarce…   ┆          │\n",
       "└────────────┴─────────────┴────────┴──────┴───┴─────────────┴────────────┴─────────────┴──────────┘"
      ],
      "text/html": [
       "<div><style>\n",
       ".dataframe > thead > tr,\n",
       ".dataframe > tbody > tr {\n",
       "  text-align: right;\n",
       "  white-space: pre-wrap;\n",
       "}\n",
       "</style>\n",
       "<small>shape: (10, 15)</small><table border=\"1\" class=\"dataframe\"><thead><tr><th>batch_size</th><th>dataset_version</th><th>epochs</th><th>flux</th><th>learning_rate</th><th>mapping</th><th>min_test_score</th><th>model_settings</th><th>num_channels</th><th>onset_cooldown</th><th>pad_annotations</th><th>test_batch_size</th><th>time_shift</th><th>dir_name</th><th>F-Score</th></tr><tr><td>f64</td><td>str</td><td>f64</td><td>f64</td><td>f64</td><td>str</td><td>f64</td><td>str</td><td>f64</td><td>f64</td><td>f64</td><td>f64</td><td>f64</td><td>str</td><td>f64</td></tr></thead><tbody><tr><td>16.0</td><td>&quot;L&quot;</td><td>20.0</td><td>1.0</td><td>0.0001</td><td>&quot;THREE_CLASS_STANDARD&quot;</td><td>0.54</td><td>&quot;cnn_attention&quot;</td><td>24.0</td><td>0.021</td><td>1.0</td><td>1.0</td><td>0.015</td><td>&quot;Jun13_10-57-29_seppel-liemarce…</td><td>0.492189</td></tr><tr><td>512.0</td><td>&quot;L&quot;</td><td>30.0</td><td>1.0</td><td>0.0001</td><td>&quot;THREE_CLASS_STANDARD&quot;</td><td>0.54</td><td>&quot;cnn&quot;</td><td>16.0</td><td>0.02</td><td>0.0</td><td>10.0</td><td>0.015</td><td>&quot;Jun04_19-26-40_seppel-liemarce…</td><td>0.487235</td></tr><tr><td>16.0</td><td>&quot;L&quot;</td><td>20.0</td><td>1.0</td><td>0.0001</td><td>&quot;THREE_CLASS_STANDARD&quot;</td><td>0.54</td><td>&quot;cnn_attention&quot;</td><td>32.0</td><td>0.021</td><td>1.0</td><td>1.0</td><td>0.015</td><td>&quot;Jun14_09-33-24_seppel-liemarce…</td><td>0.482672</td></tr><tr><td>512.0</td><td>&quot;L&quot;</td><td>20.0</td><td>1.0</td><td>0.0001</td><td>&quot;THREE_CLASS_STANDARD&quot;</td><td>0.54</td><td>&quot;cnn&quot;</td><td>16.0</td><td>0.02</td><td>1.0</td><td>1.0</td><td>0.015</td><td>&quot;Jun10_09-14-54_seppel-liemarce…</td><td>0.462143</td></tr><tr><td>4.0</td><td>&quot;L&quot;</td><td>20.0</td><td>0.0</td><td>0.0001</td><td>&quot;THREE_CLASS_STANDARD&quot;</td><td>0.54</td><td>&quot;cnn_attention&quot;</td><td>16.0</td><td>0.021</td><td>1.0</td><td>1.0</td><td>0.015</td><td>&quot;Jun11_13-54-21_seppel-liemarce…</td><td>0.458652</td></tr><tr><td>16.0</td><td>&quot;L&quot;</td><td>20.0</td><td>1.0</td><td>0.0001</td><td>&quot;Three class standard&quot;</td><td>0.48</td><td>&quot;cnn_attention&quot;</td><td>24.0</td><td>0.021</td><td>1.0</td><td>1.0</td><td>0.02</td><td>&quot;Jun17_15-04-11_seppel-liemarce…</td><td>0.393078</td></tr><tr><td>512.0</td><td>&quot;L&quot;</td><td>20.0</td><td>1.0</td><td>0.0001</td><td>&quot;THREE_CLASS_STANDARD&quot;</td><td>0.54</td><td>&quot;cnn&quot;</td><td>16.0</td><td>0.02</td><td>1.0</td><td>1.0</td><td>0.025</td><td>&quot;Jun09_16-46-27_seppel-liemarce…</td><td>0.267671</td></tr><tr><td>4.0</td><td>&quot;S&quot;</td><td>20.0</td><td>0.0</td><td>0.0001</td><td>&quot;THREE_CLASS_STANDARD&quot;</td><td>0.54</td><td>&quot;cnn_attention&quot;</td><td>32.0</td><td>0.021</td><td>1.0</td><td>1.0</td><td>0.015</td><td>&quot;Jun11_06-49-13_seppel-liemarce…</td><td>0.248427</td></tr><tr><td>8.0</td><td>&quot;L&quot;</td><td>20.0</td><td>1.0</td><td>0.0001</td><td>&quot;THREE_CLASS_STANDARD&quot;</td><td>0.54</td><td>&quot;cnn_attention&quot;</td><td>24.0</td><td>0.021</td><td>1.0</td><td>1.0</td><td>0.015</td><td>&quot;Jun12_07-38-49_seppel-liemarce…</td><td>0.233853</td></tr><tr><td>128.0</td><td>&quot;L&quot;</td><td>30.0</td><td>0.0</td><td>0.0004</td><td>&quot;THREE_CLASS_STANDARD&quot;</td><td>0.54</td><td>&quot;cnn_attention&quot;</td><td>32.0</td><td>0.02</td><td>0.0</td><td>10.0</td><td>0.015</td><td>&quot;Jun05_14-40-09_seppel-liemarce…</td><td>0.206779</td></tr></tbody></table></div>"
      ]
     },
     "execution_count": 68,
     "metadata": {},
     "output_type": "execute_result"
    }
   ],
   "execution_count": 68
  },
  {
   "metadata": {},
   "cell_type": "code",
   "outputs": [],
   "execution_count": null,
   "source": "",
   "id": "38ef845945072514"
  }
 ],
 "metadata": {
  "kernelspec": {
   "display_name": "Python 3",
   "language": "python",
   "name": "python3"
  },
  "language_info": {
   "codemirror_mode": {
    "name": "ipython",
    "version": 2
   },
   "file_extension": ".py",
   "mimetype": "text/x-python",
   "name": "python",
   "nbconvert_exporter": "python",
   "pygments_lexer": "ipython2",
   "version": "2.7.6"
  }
 },
 "nbformat": 4,
 "nbformat_minor": 5
}
