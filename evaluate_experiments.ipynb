{
 "cells": [
  {
   "metadata": {
    "ExecuteTime": {
     "end_time": "2024-06-26T21:04:14.800968Z",
     "start_time": "2024-06-26T21:04:14.795607Z"
    }
   },
   "cell_type": "code",
   "source": [
    "import matplotlib.pyplot as plt\n",
    "import numpy as np\n",
    "import polars as pl\n",
    "from tbparse import SummaryReader"
   ],
   "id": "9399ed0e59b61eeb",
   "outputs": [],
   "execution_count": 14
  },
  {
   "metadata": {
    "ExecuteTime": {
     "end_time": "2024-06-26T21:54:32.924103Z",
     "start_time": "2024-06-26T21:54:09.062703Z"
    }
   },
   "cell_type": "code",
   "source": [
    "logs = SummaryReader(\"runs/\", pivot=True, extra_columns={'dir_name'})\n",
    "logs_no_pivot = SummaryReader(\"runs/\", pivot=False, extra_columns={'dir_name'})\n",
    "params = pl.from_pandas(logs.hparams, nan_to_null=True)\n",
    "scores = pl.from_pandas(logs.scalars, nan_to_null=True)\n",
    "hparams = params.join(scores.select(pl.col(\"F-Score\", \"dir_name\")), on='dir_name', how='inner')\n",
    "hparams = hparams.select(pl.all().exclude(\"dir_name\"), pl.col(\"dir_name\").str.split(\"/\").list.first())\n",
    "\n",
    "# Convert plots\n",
    "images = logs_no_pivot.images\n",
    "size = np.array(images.iloc[0][\"value\"].shape)\n",
    "images[\"value\"] = images[\"value\"].apply(lambda x: x.flatten())\n",
    "plots = pl.from_pandas(images, nan_to_null=True)\n",
    "num_rows = plots.shape[0]\n",
    "plots = plots.select(pl.col(\"dir_name\"), pl.col(\"step\"), pl.col(\"tag\"),\n",
    "                     pl.col(\"value\").reshape(tuple([num_rows, *size]), pl.Array).alias(\"value\"))\n",
    "plots = plots.pivot(values=[\"value\"], columns=[\"tag\"], index=[\"step\", \"dir_name\"])"
   ],
   "id": "f71d8a3a39c291e9",
   "outputs": [],
   "execution_count": 70
  },
  {
   "metadata": {
    "ExecuteTime": {
     "end_time": "2024-06-26T21:54:37.211100Z",
     "start_time": "2024-06-26T21:54:37.203773Z"
    }
   },
   "cell_type": "code",
   "source": [
    "pl.Config.set_tbl_cols(100)\n",
    "pl.Config.set_tbl_rows(100)\n",
    "\n",
    "\n",
    "def get_model_settings(model_type: str) -> (pl.DataFrame, pl.DataFrame):\n",
    "    model = hparams.filter(pl.col(\"model_settings\").str.contains(model_type))\n",
    "    non_null = model.select(pl.all().is_not_null().all()).row(0)\n",
    "    model = model[:, non_null]\n",
    "    different = model.select(pl.all().n_unique() > 1).row(0)\n",
    "    diff = model[:, different].sort(\"F-Score\", descending=True)\n",
    "    iden = model.select(pl.all().n_unique() == 1).row(0)\n",
    "    identical = model[:, iden].select(pl.all().exclude(\"dir_name\", \"F-Score\")).limit(1)\n",
    "\n",
    "    return diff, identical\n",
    "\n",
    "\n",
    "def get_history(name: str) -> pl.DataFrame:\n",
    "    data = scores.filter(pl.col(\"dir_name\") == name)\n",
    "    prs = plots.filter(pl.col(\"dir_name\") == name)\n",
    "    data = data.join(prs, on=\"step\", how=\"inner\")\n",
    "    return data"
   ],
   "id": "584abf3f76d3dd0f",
   "outputs": [],
   "execution_count": 71
  },
  {
   "metadata": {
    "ExecuteTime": {
     "end_time": "2024-06-26T21:54:38.278094Z",
     "start_time": "2024-06-26T21:54:38.248653Z"
    }
   },
   "cell_type": "code",
   "source": [
    "unique, identical = get_model_settings(\"mamba\")\n",
    "print(identical)\n",
    "unique"
   ],
   "id": "82f2d5a1e21a3192",
   "outputs": [
    {
     "name": "stdout",
     "output_type": "stream",
     "text": [
      "shape: (1, 27)\n",
      "┌─────┬─────┬─────┬─────┬─────┬─────┬─────┬─────┬─────┬─────┬─────┬─────┬─────┬─────┬─────┬─────┬─────┬─────┬─────┬─────┬─────┬─────┬─────┬─────┬─────┬─────┬─────┐\n",
      "│ act ┆ bea ┆ cau ┆ cen ┆ dat ┆ det ┆ ema ┆ fft ┆ hop ┆ ign ┆ mel ┆ mel ┆ min ┆ n_c ┆ n_m ┆ nor ┆ num ┆ pad ┆ pad ┆ pad ┆ pea ┆ pea ┆ sam ┆ sch ┆ spl ┆ tes ┆ tra │\n",
      "│ iva ┆ ts  ┆ sal ┆ ter ┆ ase ┆ ect ┆ --- ┆ _si ┆ _si ┆ ore ┆ _ma ┆ _mi ┆ _sa ┆ las ┆ els ┆ mal ┆ _wo ┆ _an ┆ _mo ┆ _va ┆ k_m ┆ k_m ┆ ple ┆ edu ┆ its ┆ t_b ┆ in_ │\n",
      "│ tio ┆ --- ┆ --- ┆ --- ┆ t_v ┆ _to ┆ f64 ┆ ze  ┆ ze  ┆ _be ┆ x   ┆ n   ┆ ve_ ┆ ses ┆ --- ┆ ize ┆ rke ┆ not ┆ de  ┆ lue ┆ ax_ ┆ ean ┆ _ra ┆ ler ┆ --- ┆ atc ┆ set │\n",
      "│ n   ┆ f64 ┆ f64 ┆ f64 ┆ ers ┆ ler ┆     ┆ --- ┆ --- ┆ ats ┆ --- ┆ --- ┆ sco ┆ --- ┆ f64 ┆ --- ┆ rs  ┆ ati ┆ --- ┆ --- ┆ ran ┆ _ra ┆ te  ┆ --- ┆ str ┆ h_s ┆ --- │\n",
      "│ --- ┆     ┆     ┆     ┆ ion ┆ anc ┆     ┆ f64 ┆ f64 ┆ --- ┆ f64 ┆ f64 ┆ re  ┆ f64 ┆     ┆ f64 ┆ --- ┆ ons ┆ str ┆ f64 ┆ ge  ┆ nge ┆ --- ┆ f64 ┆     ┆ ize ┆ str │\n",
      "│ str ┆     ┆     ┆     ┆ --- ┆ e   ┆     ┆     ┆     ┆ f64 ┆     ┆     ┆ --- ┆     ┆     ┆     ┆ f64 ┆ --- ┆     ┆     ┆ --- ┆ --- ┆ f64 ┆     ┆     ┆ --- ┆     │\n",
      "│     ┆     ┆     ┆     ┆ str ┆ --- ┆     ┆     ┆     ┆     ┆     ┆     ┆ f64 ┆     ┆     ┆     ┆     ┆ f64 ┆     ┆     ┆ f64 ┆ f64 ┆     ┆     ┆     ┆ f64 ┆     │\n",
      "│     ┆     ┆     ┆     ┆     ┆ f64 ┆     ┆     ┆     ┆     ┆     ┆     ┆     ┆     ┆     ┆     ┆     ┆     ┆     ┆     ┆     ┆     ┆     ┆     ┆     ┆     ┆     │\n",
      "╞═════╪═════╪═════╪═════╪═════╪═════╪═════╪═════╪═════╪═════╪═════╪═════╪═════╪═════╪═════╪═════╪═════╪═════╪═════╪═════╪═════╪═════╪═════╪═════╪═════╪═════╪═════╡\n",
      "│ SEL ┆ 0.0 ┆ 1.0 ┆ 1.0 ┆ L   ┆ 0.0 ┆ 0.0 ┆ 204 ┆ 441 ┆ 1.0 ┆ 200 ┆ 20. ┆ 0.6 ┆ 3.0 ┆ 84. ┆ 0.0 ┆ 64. ┆ 1.0 ┆ con ┆ 0.5 ┆ 2.0 ┆ 2.0 ┆ 441 ┆ 1.0 ┆ (0. ┆ 1.0 ┆ a2m │\n",
      "│ U   ┆     ┆     ┆     ┆     ┆ 25  ┆     ┆ 8.0 ┆ .0  ┆     ┆ 00. ┆ 0   ┆ 2   ┆     ┆ 0   ┆     ┆ 0   ┆     ┆ sta ┆     ┆     ┆     ┆ 00. ┆     ┆ 85, ┆     ┆ d_t │\n",
      "│     ┆     ┆     ┆     ┆     ┆     ┆     ┆     ┆     ┆     ┆ 0   ┆     ┆     ┆     ┆     ┆     ┆     ┆     ┆ nt  ┆     ┆     ┆     ┆ 0   ┆     ┆ 0.1 ┆     ┆ rai │\n",
      "│     ┆     ┆     ┆     ┆     ┆     ┆     ┆     ┆     ┆     ┆     ┆     ┆     ┆     ┆     ┆     ┆     ┆     ┆     ┆     ┆     ┆     ┆     ┆     ┆ 5,  ┆     ┆ n   │\n",
      "│     ┆     ┆     ┆     ┆     ┆     ┆     ┆     ┆     ┆     ┆     ┆     ┆     ┆     ┆     ┆     ┆     ┆     ┆     ┆     ┆     ┆     ┆     ┆     ┆ 0.0 ┆     ┆     │\n",
      "│     ┆     ┆     ┆     ┆     ┆     ┆     ┆     ┆     ┆     ┆     ┆     ┆     ┆     ┆     ┆     ┆     ┆     ┆     ┆     ┆     ┆     ┆     ┆     ┆ )   ┆     ┆     │\n",
      "└─────┴─────┴─────┴─────┴─────┴─────┴─────┴─────┴─────┴─────┴─────┴─────┴─────┴─────┴─────┴─────┴─────┴─────┴─────┴─────┴─────┴─────┴─────┴─────┴─────┴─────┴─────┘\n"
     ]
    },
    {
     "data": {
      "text/plain": [
       "shape: (7, 16)\n",
       "┌─────┬─────┬─────┬─────┬─────┬─────┬─────┬─────┬─────┬─────┬─────┬─────┬─────┬─────┬─────┬────────┐\n",
       "│ bat ┆ dro ┆ epo ┆ flu ┆ lea ┆ map ┆ min ┆ mod ┆ n_l ┆ num ┆ ons ┆ pr_ ┆ tim ┆ wei ┆ F-S ┆ dir_na │\n",
       "│ ch_ ┆ pou ┆ chs ┆ x   ┆ rni ┆ pin ┆ _te ┆ el_ ┆ aye ┆ _ch ┆ et_ ┆ poi ┆ e_s ┆ ght ┆ cor ┆ me     │\n",
       "│ siz ┆ t   ┆ --- ┆ --- ┆ ng_ ┆ g   ┆ st_ ┆ set ┆ rs  ┆ ann ┆ coo ┆ nts ┆ hif ┆ _de ┆ e   ┆ ---    │\n",
       "│ e   ┆ --- ┆ f64 ┆ f64 ┆ rat ┆ --- ┆ sco ┆ tin ┆ --- ┆ els ┆ ldo ┆ --- ┆ t   ┆ cay ┆ --- ┆ str    │\n",
       "│ --- ┆ f64 ┆     ┆     ┆ e   ┆ str ┆ re  ┆ gs  ┆ f64 ┆ --- ┆ wn  ┆ f64 ┆ --- ┆ --- ┆ f64 ┆        │\n",
       "│ f64 ┆     ┆     ┆     ┆ --- ┆     ┆ --- ┆ --- ┆     ┆ f64 ┆ --- ┆     ┆ f64 ┆ f64 ┆     ┆        │\n",
       "│     ┆     ┆     ┆     ┆ f64 ┆     ┆ f64 ┆ str ┆     ┆     ┆ f64 ┆     ┆     ┆     ┆     ┆        │\n",
       "╞═════╪═════╪═════╪═════╪═════╪═════╪═════╪═════╪═════╪═════╪═════╪═════╪═════╪═════╪═════╪════════╡\n",
       "│ 4.0 ┆ 0.1 ┆ 20. ┆ 0.0 ┆ 0.0 ┆ THR ┆ 0.5 ┆ mam ┆ 3.0 ┆ 16. ┆ 0.0 ┆ 100 ┆ 0.0 ┆ 0.0 ┆ 0.4 ┆ Jun10_ │\n",
       "│     ┆     ┆ 0   ┆     ┆ 001 ┆ EE_ ┆ 4   ┆ ba  ┆     ┆ 0   ┆ 21  ┆ 0.0 ┆ 15  ┆ 000 ┆ 554 ┆ 17-58- │\n",
       "│     ┆     ┆     ┆     ┆     ┆ CLA ┆     ┆     ┆     ┆     ┆     ┆     ┆     ┆ 1   ┆ 03  ┆ 15_sep │\n",
       "│     ┆     ┆     ┆     ┆     ┆ SS_ ┆     ┆     ┆     ┆     ┆     ┆     ┆     ┆     ┆     ┆ pel-li │\n",
       "│     ┆     ┆     ┆     ┆     ┆ STA ┆     ┆     ┆     ┆     ┆     ┆     ┆     ┆     ┆     ┆ emarce │\n",
       "│     ┆     ┆     ┆     ┆     ┆ NDA ┆     ┆     ┆     ┆     ┆     ┆     ┆     ┆     ┆     ┆        │\n",
       "│     ┆     ┆     ┆     ┆     ┆ RD  ┆     ┆     ┆     ┆     ┆     ┆     ┆     ┆     ┆     ┆        │\n",
       "│ 16. ┆ 0.1 ┆ 20. ┆ 1.0 ┆ 0.0 ┆ Thr ┆ 0.4 ┆ mam ┆ 5.0 ┆ 32. ┆ 0.0 ┆ 100 ┆ 0.0 ┆ 0.0 ┆ 0.4 ┆ Jun19_ │\n",
       "│ 0   ┆     ┆ 0   ┆     ┆ 001 ┆ ee  ┆ 8   ┆ ba_ ┆     ┆ 0   ┆ 21  ┆ 0.0 ┆ 2   ┆ 000 ┆ 343 ┆ 13-16- │\n",
       "│     ┆     ┆     ┆     ┆     ┆ cla ┆     ┆ fas ┆     ┆     ┆     ┆     ┆     ┆ 1   ┆ 72  ┆ 07_sep │\n",
       "│     ┆     ┆     ┆     ┆     ┆ ss  ┆     ┆ t   ┆     ┆     ┆     ┆     ┆     ┆     ┆     ┆ pel-li │\n",
       "│     ┆     ┆     ┆     ┆     ┆ sta ┆     ┆     ┆     ┆     ┆     ┆     ┆     ┆     ┆     ┆ emarce │\n",
       "│     ┆     ┆     ┆     ┆     ┆ nda ┆     ┆     ┆     ┆     ┆     ┆     ┆     ┆     ┆     ┆        │\n",
       "│     ┆     ┆     ┆     ┆     ┆ rd  ┆     ┆     ┆     ┆     ┆     ┆     ┆     ┆     ┆     ┆        │\n",
       "│ 16. ┆ 0.1 ┆ 20. ┆ 0.0 ┆ 0.0 ┆ Thr ┆ 0.4 ┆ mam ┆ 3.0 ┆ 16. ┆ 0.0 ┆ 100 ┆ 0.0 ┆ 0.0 ┆ 0.1 ┆ Jun25_ │\n",
       "│ 0   ┆     ┆ 0   ┆     ┆ 001 ┆ ee  ┆ 8   ┆ ba_ ┆     ┆ 0   ┆ 21  ┆ 0.0 ┆ 2   ┆ 000 ┆ 393 ┆ 07-53- │\n",
       "│     ┆     ┆     ┆     ┆     ┆ cla ┆     ┆ fas ┆     ┆     ┆     ┆     ┆     ┆ 1   ┆ 01  ┆ 16_sep │\n",
       "│     ┆     ┆     ┆     ┆     ┆ ss  ┆     ┆ t   ┆     ┆     ┆     ┆     ┆     ┆     ┆     ┆ pel-li │\n",
       "│     ┆     ┆     ┆     ┆     ┆ sta ┆     ┆     ┆     ┆     ┆     ┆     ┆     ┆     ┆     ┆ emarce │\n",
       "│     ┆     ┆     ┆     ┆     ┆ nda ┆     ┆     ┆     ┆     ┆     ┆     ┆     ┆     ┆     ┆        │\n",
       "│     ┆     ┆     ┆     ┆     ┆ rd  ┆     ┆     ┆     ┆     ┆     ┆     ┆     ┆     ┆     ┆        │\n",
       "│ 24. ┆ 0.1 ┆ 20. ┆ 1.0 ┆ 0.0 ┆ Thr ┆ 0.4 ┆ mam ┆ 5.0 ┆ 16. ┆ 0.0 ┆ 200 ┆ 0.0 ┆ 0.0 ┆ 0.1 ┆ Jun23_ │\n",
       "│ 0   ┆     ┆ 0   ┆     ┆ 001 ┆ ee  ┆ 8   ┆ ba_ ┆     ┆ 0   ┆ 21  ┆ .0  ┆ 25  ┆ 000 ┆ 169 ┆ 17-34- │\n",
       "│     ┆     ┆     ┆     ┆     ┆ cla ┆     ┆ fas ┆     ┆     ┆     ┆     ┆     ┆ 1   ┆ 48  ┆ 02_sep │\n",
       "│     ┆     ┆     ┆     ┆     ┆ ss  ┆     ┆ t   ┆     ┆     ┆     ┆     ┆     ┆     ┆     ┆ pel-li │\n",
       "│     ┆     ┆     ┆     ┆     ┆ sta ┆     ┆     ┆     ┆     ┆     ┆     ┆     ┆     ┆     ┆ emarce │\n",
       "│     ┆     ┆     ┆     ┆     ┆ nda ┆     ┆     ┆     ┆     ┆     ┆     ┆     ┆     ┆     ┆        │\n",
       "│     ┆     ┆     ┆     ┆     ┆ rd  ┆     ┆     ┆     ┆     ┆     ┆     ┆     ┆     ┆     ┆        │\n",
       "│ 24. ┆ 0.1 ┆ 20. ┆ 1.0 ┆ 0.0 ┆ Thr ┆ 0.4 ┆ mam ┆ 10. ┆ 16. ┆ 0.0 ┆ 200 ┆ 0.0 ┆ 0.0 ┆ 0.0 ┆ Jun22_ │\n",
       "│ 0   ┆     ┆ 0   ┆     ┆ 001 ┆ ee  ┆ 8   ┆ ba_ ┆ 0   ┆ 0   ┆ 21  ┆ .0  ┆ 25  ┆ 000 ┆ 522 ┆ 16-25- │\n",
       "│     ┆     ┆     ┆     ┆     ┆ cla ┆     ┆ fas ┆     ┆     ┆     ┆     ┆     ┆ 1   ┆ 23  ┆ 42_sep │\n",
       "│     ┆     ┆     ┆     ┆     ┆ ss  ┆     ┆ t   ┆     ┆     ┆     ┆     ┆     ┆     ┆     ┆ pel-li │\n",
       "│     ┆     ┆     ┆     ┆     ┆ sta ┆     ┆     ┆     ┆     ┆     ┆     ┆     ┆     ┆     ┆ emarce │\n",
       "│     ┆     ┆     ┆     ┆     ┆ nda ┆     ┆     ┆     ┆     ┆     ┆     ┆     ┆     ┆     ┆        │\n",
       "│     ┆     ┆     ┆     ┆     ┆ rd  ┆     ┆     ┆     ┆     ┆     ┆     ┆     ┆     ┆     ┆        │\n",
       "│ 32. ┆ 0.3 ┆ 30. ┆ 0.0 ┆ 0.0 ┆ THR ┆ 0.5 ┆ mam ┆ 3.0 ┆ 16. ┆ 0.0 ┆ 100 ┆ 0.0 ┆ 0.0 ┆ 0.0 ┆ Jun08_ │\n",
       "│ 0   ┆     ┆ 0   ┆     ┆ 000 ┆ EE_ ┆ 4   ┆ ba  ┆     ┆ 0   ┆ 2   ┆ 0.0 ┆ 15  ┆     ┆ 460 ┆ 13-22- │\n",
       "│     ┆     ┆     ┆     ┆ 5   ┆ CLA ┆     ┆     ┆     ┆     ┆     ┆     ┆     ┆     ┆ 5   ┆ 15_sep │\n",
       "│     ┆     ┆     ┆     ┆     ┆ SS_ ┆     ┆     ┆     ┆     ┆     ┆     ┆     ┆     ┆     ┆ pel-li │\n",
       "│     ┆     ┆     ┆     ┆     ┆ STA ┆     ┆     ┆     ┆     ┆     ┆     ┆     ┆     ┆     ┆ emarce │\n",
       "│     ┆     ┆     ┆     ┆     ┆ NDA ┆     ┆     ┆     ┆     ┆     ┆     ┆     ┆     ┆     ┆        │\n",
       "│     ┆     ┆     ┆     ┆     ┆ RD  ┆     ┆     ┆     ┆     ┆     ┆     ┆     ┆     ┆     ┆        │\n",
       "│ 16. ┆ 0.1 ┆ 20. ┆ 1.0 ┆ 0.0 ┆ Thr ┆ 0.4 ┆ mam ┆ 5.0 ┆ 32. ┆ 0.0 ┆ 100 ┆ 0.0 ┆ 0.0 ┆ 0.0 ┆ Jun25_ │\n",
       "│ 0   ┆     ┆ 0   ┆     ┆ 001 ┆ ee  ┆ 8   ┆ ba_ ┆     ┆ 0   ┆ 21  ┆ 0.0 ┆ 2   ┆ 000 ┆ 454 ┆ 14-54- │\n",
       "│     ┆     ┆     ┆     ┆     ┆ cla ┆     ┆ fas ┆     ┆     ┆     ┆     ┆     ┆ 1   ┆ 36  ┆ 59_sep │\n",
       "│     ┆     ┆     ┆     ┆     ┆ ss  ┆     ┆ t   ┆     ┆     ┆     ┆     ┆     ┆     ┆     ┆ pel-li │\n",
       "│     ┆     ┆     ┆     ┆     ┆ sta ┆     ┆     ┆     ┆     ┆     ┆     ┆     ┆     ┆     ┆ emarce │\n",
       "│     ┆     ┆     ┆     ┆     ┆ nda ┆     ┆     ┆     ┆     ┆     ┆     ┆     ┆     ┆     ┆        │\n",
       "│     ┆     ┆     ┆     ┆     ┆ rd  ┆     ┆     ┆     ┆     ┆     ┆     ┆     ┆     ┆     ┆        │\n",
       "└─────┴─────┴─────┴─────┴─────┴─────┴─────┴─────┴─────┴─────┴─────┴─────┴─────┴─────┴─────┴────────┘"
      ],
      "text/html": [
       "<div><style>\n",
       ".dataframe > thead > tr,\n",
       ".dataframe > tbody > tr {\n",
       "  text-align: right;\n",
       "  white-space: pre-wrap;\n",
       "}\n",
       "</style>\n",
       "<small>shape: (7, 16)</small><table border=\"1\" class=\"dataframe\"><thead><tr><th>batch_size</th><th>dropout</th><th>epochs</th><th>flux</th><th>learning_rate</th><th>mapping</th><th>min_test_score</th><th>model_settings</th><th>n_layers</th><th>num_channels</th><th>onset_cooldown</th><th>pr_points</th><th>time_shift</th><th>weight_decay</th><th>F-Score</th><th>dir_name</th></tr><tr><td>f64</td><td>f64</td><td>f64</td><td>f64</td><td>f64</td><td>str</td><td>f64</td><td>str</td><td>f64</td><td>f64</td><td>f64</td><td>f64</td><td>f64</td><td>f64</td><td>f64</td><td>str</td></tr></thead><tbody><tr><td>4.0</td><td>0.1</td><td>20.0</td><td>0.0</td><td>0.0001</td><td>&quot;THREE_CLASS_STANDARD&quot;</td><td>0.54</td><td>&quot;mamba&quot;</td><td>3.0</td><td>16.0</td><td>0.021</td><td>1000.0</td><td>0.015</td><td>0.00001</td><td>0.455403</td><td>&quot;Jun10_17-58-15_seppel-liemarce&quot;</td></tr><tr><td>16.0</td><td>0.1</td><td>20.0</td><td>1.0</td><td>0.0001</td><td>&quot;Three class standard&quot;</td><td>0.48</td><td>&quot;mamba_fast&quot;</td><td>5.0</td><td>32.0</td><td>0.021</td><td>1000.0</td><td>0.02</td><td>0.00001</td><td>0.434372</td><td>&quot;Jun19_13-16-07_seppel-liemarce&quot;</td></tr><tr><td>16.0</td><td>0.1</td><td>20.0</td><td>0.0</td><td>0.0001</td><td>&quot;Three class standard&quot;</td><td>0.48</td><td>&quot;mamba_fast&quot;</td><td>3.0</td><td>16.0</td><td>0.021</td><td>1000.0</td><td>0.02</td><td>0.00001</td><td>0.139301</td><td>&quot;Jun25_07-53-16_seppel-liemarce&quot;</td></tr><tr><td>24.0</td><td>0.1</td><td>20.0</td><td>1.0</td><td>0.0001</td><td>&quot;Three class standard&quot;</td><td>0.48</td><td>&quot;mamba_fast&quot;</td><td>5.0</td><td>16.0</td><td>0.021</td><td>200.0</td><td>0.025</td><td>0.00001</td><td>0.116948</td><td>&quot;Jun23_17-34-02_seppel-liemarce&quot;</td></tr><tr><td>24.0</td><td>0.1</td><td>20.0</td><td>1.0</td><td>0.0001</td><td>&quot;Three class standard&quot;</td><td>0.48</td><td>&quot;mamba_fast&quot;</td><td>10.0</td><td>16.0</td><td>0.021</td><td>200.0</td><td>0.025</td><td>0.00001</td><td>0.052223</td><td>&quot;Jun22_16-25-42_seppel-liemarce&quot;</td></tr><tr><td>32.0</td><td>0.3</td><td>30.0</td><td>0.0</td><td>0.00005</td><td>&quot;THREE_CLASS_STANDARD&quot;</td><td>0.54</td><td>&quot;mamba&quot;</td><td>3.0</td><td>16.0</td><td>0.02</td><td>1000.0</td><td>0.015</td><td>0.0</td><td>0.04605</td><td>&quot;Jun08_13-22-15_seppel-liemarce&quot;</td></tr><tr><td>16.0</td><td>0.1</td><td>20.0</td><td>1.0</td><td>0.0001</td><td>&quot;Three class standard&quot;</td><td>0.48</td><td>&quot;mamba_fast&quot;</td><td>5.0</td><td>32.0</td><td>0.021</td><td>1000.0</td><td>0.02</td><td>0.00001</td><td>0.045436</td><td>&quot;Jun25_14-54-59_seppel-liemarce&quot;</td></tr></tbody></table></div>"
      ]
     },
     "execution_count": 72,
     "metadata": {},
     "output_type": "execute_result"
    }
   ],
   "execution_count": 72
  },
  {
   "metadata": {
    "ExecuteTime": {
     "end_time": "2024-06-26T22:00:25.931114Z",
     "start_time": "2024-06-26T22:00:25.904504Z"
    }
   },
   "cell_type": "code",
   "source": [
    "unique, identical = get_model_settings(\"attention\")\n",
    "print(identical)\n",
    "unique"
   ],
   "id": "78ebef96ebcd3473",
   "outputs": [
    {
     "name": "stdout",
     "output_type": "stream",
     "text": [
      "shape: (1, 26)\n",
      "┌─────┬─────┬─────┬─────┬─────┬─────┬─────┬─────┬─────┬─────┬─────┬─────┬─────┬─────┬─────┬─────┬─────┬─────┬─────┬─────┬─────┬─────┬─────┬─────┬─────┬─────┐\n",
      "│ act ┆ bea ┆ cau ┆ cen ┆ det ┆ dro ┆ ema ┆ fft ┆ hop ┆ ign ┆ mel ┆ mel ┆ min ┆ mod ┆ n_c ┆ n_m ┆ nor ┆ num ┆ pad ┆ pad ┆ pea ┆ pea ┆ sam ┆ sch ┆ spl ┆ tra │\n",
      "│ iva ┆ ts  ┆ sal ┆ ter ┆ ect ┆ pou ┆ --- ┆ _si ┆ _si ┆ ore ┆ _ma ┆ _mi ┆ _sa ┆ el_ ┆ las ┆ els ┆ mal ┆ _wo ┆ _mo ┆ _va ┆ k_m ┆ k_m ┆ ple ┆ edu ┆ its ┆ in_ │\n",
      "│ tio ┆ --- ┆ --- ┆ --- ┆ _to ┆ t   ┆ f64 ┆ ze  ┆ ze  ┆ _be ┆ x   ┆ n   ┆ ve_ ┆ set ┆ ses ┆ --- ┆ ize ┆ rke ┆ de  ┆ lue ┆ ax_ ┆ ean ┆ _ra ┆ ler ┆ --- ┆ set │\n",
      "│ n   ┆ f64 ┆ f64 ┆ f64 ┆ ler ┆ --- ┆     ┆ --- ┆ --- ┆ ats ┆ --- ┆ --- ┆ sco ┆ tin ┆ --- ┆ f64 ┆ --- ┆ rs  ┆ --- ┆ --- ┆ ran ┆ _ra ┆ te  ┆ --- ┆ str ┆ --- │\n",
      "│ --- ┆     ┆     ┆     ┆ anc ┆ f64 ┆     ┆ f64 ┆ f64 ┆ --- ┆ f64 ┆ f64 ┆ re  ┆ gs  ┆ f64 ┆     ┆ f64 ┆ --- ┆ str ┆ f64 ┆ ge  ┆ nge ┆ --- ┆ f64 ┆     ┆ str │\n",
      "│ str ┆     ┆     ┆     ┆ e   ┆     ┆     ┆     ┆     ┆ f64 ┆     ┆     ┆ --- ┆ --- ┆     ┆     ┆     ┆ f64 ┆     ┆     ┆ --- ┆ --- ┆ f64 ┆     ┆     ┆     │\n",
      "│     ┆     ┆     ┆     ┆ --- ┆     ┆     ┆     ┆     ┆     ┆     ┆     ┆ f64 ┆ str ┆     ┆     ┆     ┆     ┆     ┆     ┆ f64 ┆ f64 ┆     ┆     ┆     ┆     │\n",
      "│     ┆     ┆     ┆     ┆ f64 ┆     ┆     ┆     ┆     ┆     ┆     ┆     ┆     ┆     ┆     ┆     ┆     ┆     ┆     ┆     ┆     ┆     ┆     ┆     ┆     ┆     │\n",
      "╞═════╪═════╪═════╪═════╪═════╪═════╪═════╪═════╪═════╪═════╪═════╪═════╪═════╪═════╪═════╪═════╪═════╪═════╪═════╪═════╪═════╪═════╪═════╪═════╪═════╪═════╡\n",
      "│ SEL ┆ 0.0 ┆ 1.0 ┆ 1.0 ┆ 0.0 ┆ 0.1 ┆ 0.0 ┆ 204 ┆ 441 ┆ 1.0 ┆ 200 ┆ 20. ┆ 0.6 ┆ cnn ┆ 3.0 ┆ 84. ┆ 0.0 ┆ 64. ┆ con ┆ 0.5 ┆ 2.0 ┆ 2.0 ┆ 441 ┆ 1.0 ┆ (0. ┆ a2m │\n",
      "│ U   ┆     ┆     ┆     ┆ 25  ┆     ┆     ┆ 8.0 ┆ .0  ┆     ┆ 00. ┆ 0   ┆ 2   ┆ _at ┆     ┆ 0   ┆     ┆ 0   ┆ sta ┆     ┆     ┆     ┆ 00. ┆     ┆ 85, ┆ d_t │\n",
      "│     ┆     ┆     ┆     ┆     ┆     ┆     ┆     ┆     ┆     ┆ 0   ┆     ┆     ┆ ten ┆     ┆     ┆     ┆     ┆ nt  ┆     ┆     ┆     ┆ 0   ┆     ┆ 0.1 ┆ rai │\n",
      "│     ┆     ┆     ┆     ┆     ┆     ┆     ┆     ┆     ┆     ┆     ┆     ┆     ┆ tio ┆     ┆     ┆     ┆     ┆     ┆     ┆     ┆     ┆     ┆     ┆ 5,  ┆ n   │\n",
      "│     ┆     ┆     ┆     ┆     ┆     ┆     ┆     ┆     ┆     ┆     ┆     ┆     ┆ n   ┆     ┆     ┆     ┆     ┆     ┆     ┆     ┆     ┆     ┆     ┆ 0.0 ┆     │\n",
      "│     ┆     ┆     ┆     ┆     ┆     ┆     ┆     ┆     ┆     ┆     ┆     ┆     ┆     ┆     ┆     ┆     ┆     ┆     ┆     ┆     ┆     ┆     ┆     ┆ )   ┆     │\n",
      "└─────┴─────┴─────┴─────┴─────┴─────┴─────┴─────┴─────┴─────┴─────┴─────┴─────┴─────┴─────┴─────┴─────┴─────┴─────┴─────┴─────┴─────┴─────┴─────┴─────┴─────┘\n"
     ]
    },
    {
     "data": {
      "text/plain": [
       "shape: (7, 17)\n",
       "┌─────┬─────┬─────┬─────┬─────┬─────┬─────┬─────┬─────┬─────┬─────┬─────┬─────┬─────┬─────┬─────┬─────┐\n",
       "│ bat ┆ con ┆ dat ┆ epo ┆ flu ┆ lea ┆ map ┆ min ┆ num ┆ num ┆ num ┆ ons ┆ pad ┆ tes ┆ tim ┆ F-S ┆ dir │\n",
       "│ ch_ ┆ tex ┆ ase ┆ chs ┆ x   ┆ rni ┆ pin ┆ _te ┆ _at ┆ _ch ┆ _he ┆ et_ ┆ _an ┆ t_b ┆ e_s ┆ cor ┆ _na │\n",
       "│ siz ┆ t_s ┆ t_v ┆ --- ┆ --- ┆ ng_ ┆ g   ┆ st_ ┆ ten ┆ ann ┆ ads ┆ coo ┆ not ┆ atc ┆ hif ┆ e   ┆ me  │\n",
       "│ e   ┆ ize ┆ ers ┆ f64 ┆ f64 ┆ rat ┆ --- ┆ sco ┆ tio ┆ els ┆ --- ┆ ldo ┆ ati ┆ h_s ┆ t   ┆ --- ┆ --- │\n",
       "│ --- ┆ --- ┆ ion ┆     ┆     ┆ e   ┆ str ┆ re  ┆ n_b ┆ --- ┆ f64 ┆ wn  ┆ ons ┆ ize ┆ --- ┆ f64 ┆ str │\n",
       "│ f64 ┆ f64 ┆ --- ┆     ┆     ┆ --- ┆     ┆ --- ┆ loc ┆ f64 ┆     ┆ --- ┆ --- ┆ --- ┆ f64 ┆     ┆     │\n",
       "│     ┆     ┆ str ┆     ┆     ┆ f64 ┆     ┆ f64 ┆ ks  ┆     ┆     ┆ f64 ┆ f64 ┆ f64 ┆     ┆     ┆     │\n",
       "│     ┆     ┆     ┆     ┆     ┆     ┆     ┆     ┆ --- ┆     ┆     ┆     ┆     ┆     ┆     ┆     ┆     │\n",
       "│     ┆     ┆     ┆     ┆     ┆     ┆     ┆     ┆ f64 ┆     ┆     ┆     ┆     ┆     ┆     ┆     ┆     │\n",
       "╞═════╪═════╪═════╪═════╪═════╪═════╪═════╪═════╪═════╪═════╪═════╪═════╪═════╪═════╪═════╪═════╪═════╡\n",
       "│ 16. ┆ 200 ┆ L   ┆ 20. ┆ 1.0 ┆ 0.0 ┆ THR ┆ 0.5 ┆ 5.0 ┆ 24. ┆ 8.0 ┆ 0.0 ┆ 1.0 ┆ 1.0 ┆ 0.0 ┆ 0.4 ┆ Jun │\n",
       "│ 0   ┆ .0  ┆     ┆ 0   ┆     ┆ 001 ┆ EE_ ┆ 4   ┆     ┆ 0   ┆     ┆ 21  ┆     ┆     ┆ 15  ┆ 921 ┆ 13_ │\n",
       "│     ┆     ┆     ┆     ┆     ┆     ┆ CLA ┆     ┆     ┆     ┆     ┆     ┆     ┆     ┆     ┆ 89  ┆ 10- │\n",
       "│     ┆     ┆     ┆     ┆     ┆     ┆ SS_ ┆     ┆     ┆     ┆     ┆     ┆     ┆     ┆     ┆     ┆ 57- │\n",
       "│     ┆     ┆     ┆     ┆     ┆     ┆ STA ┆     ┆     ┆     ┆     ┆     ┆     ┆     ┆     ┆     ┆ 29_ │\n",
       "│     ┆     ┆     ┆     ┆     ┆     ┆ NDA ┆     ┆     ┆     ┆     ┆     ┆     ┆     ┆     ┆     ┆ sep │\n",
       "│     ┆     ┆     ┆     ┆     ┆     ┆ RD  ┆     ┆     ┆     ┆     ┆     ┆     ┆     ┆     ┆     ┆ pel │\n",
       "│     ┆     ┆     ┆     ┆     ┆     ┆     ┆     ┆     ┆     ┆     ┆     ┆     ┆     ┆     ┆     ┆ -li │\n",
       "│     ┆     ┆     ┆     ┆     ┆     ┆     ┆     ┆     ┆     ┆     ┆     ┆     ┆     ┆     ┆     ┆ ema │\n",
       "│     ┆     ┆     ┆     ┆     ┆     ┆     ┆     ┆     ┆     ┆     ┆     ┆     ┆     ┆     ┆     ┆ rce │\n",
       "│ 16. ┆ 200 ┆ L   ┆ 20. ┆ 1.0 ┆ 0.0 ┆ THR ┆ 0.5 ┆ 5.0 ┆ 32. ┆ 8.0 ┆ 0.0 ┆ 1.0 ┆ 1.0 ┆ 0.0 ┆ 0.4 ┆ Jun │\n",
       "│ 0   ┆ .0  ┆     ┆ 0   ┆     ┆ 001 ┆ EE_ ┆ 4   ┆     ┆ 0   ┆     ┆ 21  ┆     ┆     ┆ 15  ┆ 826 ┆ 14_ │\n",
       "│     ┆     ┆     ┆     ┆     ┆     ┆ CLA ┆     ┆     ┆     ┆     ┆     ┆     ┆     ┆     ┆ 72  ┆ 09- │\n",
       "│     ┆     ┆     ┆     ┆     ┆     ┆ SS_ ┆     ┆     ┆     ┆     ┆     ┆     ┆     ┆     ┆     ┆ 33- │\n",
       "│     ┆     ┆     ┆     ┆     ┆     ┆ STA ┆     ┆     ┆     ┆     ┆     ┆     ┆     ┆     ┆     ┆ 24_ │\n",
       "│     ┆     ┆     ┆     ┆     ┆     ┆ NDA ┆     ┆     ┆     ┆     ┆     ┆     ┆     ┆     ┆     ┆ sep │\n",
       "│     ┆     ┆     ┆     ┆     ┆     ┆ RD  ┆     ┆     ┆     ┆     ┆     ┆     ┆     ┆     ┆     ┆ pel │\n",
       "│     ┆     ┆     ┆     ┆     ┆     ┆     ┆     ┆     ┆     ┆     ┆     ┆     ┆     ┆     ┆     ┆ -li │\n",
       "│     ┆     ┆     ┆     ┆     ┆     ┆     ┆     ┆     ┆     ┆     ┆     ┆     ┆     ┆     ┆     ┆ ema │\n",
       "│     ┆     ┆     ┆     ┆     ┆     ┆     ┆     ┆     ┆     ┆     ┆     ┆     ┆     ┆     ┆     ┆ rce │\n",
       "│ 4.0 ┆ 200 ┆ L   ┆ 20. ┆ 0.0 ┆ 0.0 ┆ THR ┆ 0.5 ┆ 5.0 ┆ 16. ┆ 8.0 ┆ 0.0 ┆ 1.0 ┆ 1.0 ┆ 0.0 ┆ 0.4 ┆ Jun │\n",
       "│     ┆ .0  ┆     ┆ 0   ┆     ┆ 001 ┆ EE_ ┆ 4   ┆     ┆ 0   ┆     ┆ 21  ┆     ┆     ┆ 15  ┆ 586 ┆ 11_ │\n",
       "│     ┆     ┆     ┆     ┆     ┆     ┆ CLA ┆     ┆     ┆     ┆     ┆     ┆     ┆     ┆     ┆ 52  ┆ 13- │\n",
       "│     ┆     ┆     ┆     ┆     ┆     ┆ SS_ ┆     ┆     ┆     ┆     ┆     ┆     ┆     ┆     ┆     ┆ 54- │\n",
       "│     ┆     ┆     ┆     ┆     ┆     ┆ STA ┆     ┆     ┆     ┆     ┆     ┆     ┆     ┆     ┆     ┆ 21_ │\n",
       "│     ┆     ┆     ┆     ┆     ┆     ┆ NDA ┆     ┆     ┆     ┆     ┆     ┆     ┆     ┆     ┆     ┆ sep │\n",
       "│     ┆     ┆     ┆     ┆     ┆     ┆ RD  ┆     ┆     ┆     ┆     ┆     ┆     ┆     ┆     ┆     ┆ pel │\n",
       "│     ┆     ┆     ┆     ┆     ┆     ┆     ┆     ┆     ┆     ┆     ┆     ┆     ┆     ┆     ┆     ┆ -li │\n",
       "│     ┆     ┆     ┆     ┆     ┆     ┆     ┆     ┆     ┆     ┆     ┆     ┆     ┆     ┆     ┆     ┆ ema │\n",
       "│     ┆     ┆     ┆     ┆     ┆     ┆     ┆     ┆     ┆     ┆     ┆     ┆     ┆     ┆     ┆     ┆ rce │\n",
       "│ 16. ┆ 200 ┆ L   ┆ 20. ┆ 1.0 ┆ 0.0 ┆ Thr ┆ 0.4 ┆ 5.0 ┆ 24. ┆ 8.0 ┆ 0.0 ┆ 1.0 ┆ 1.0 ┆ 0.0 ┆ 0.3 ┆ Jun │\n",
       "│ 0   ┆ .0  ┆     ┆ 0   ┆     ┆ 001 ┆ ee  ┆ 8   ┆     ┆ 0   ┆     ┆ 21  ┆     ┆     ┆ 2   ┆ 930 ┆ 17_ │\n",
       "│     ┆     ┆     ┆     ┆     ┆     ┆ cla ┆     ┆     ┆     ┆     ┆     ┆     ┆     ┆     ┆ 78  ┆ 15- │\n",
       "│     ┆     ┆     ┆     ┆     ┆     ┆ ss  ┆     ┆     ┆     ┆     ┆     ┆     ┆     ┆     ┆     ┆ 04- │\n",
       "│     ┆     ┆     ┆     ┆     ┆     ┆ sta ┆     ┆     ┆     ┆     ┆     ┆     ┆     ┆     ┆     ┆ 11_ │\n",
       "│     ┆     ┆     ┆     ┆     ┆     ┆ nda ┆     ┆     ┆     ┆     ┆     ┆     ┆     ┆     ┆     ┆ sep │\n",
       "│     ┆     ┆     ┆     ┆     ┆     ┆ rd  ┆     ┆     ┆     ┆     ┆     ┆     ┆     ┆     ┆     ┆ pel │\n",
       "│     ┆     ┆     ┆     ┆     ┆     ┆     ┆     ┆     ┆     ┆     ┆     ┆     ┆     ┆     ┆     ┆ -li │\n",
       "│     ┆     ┆     ┆     ┆     ┆     ┆     ┆     ┆     ┆     ┆     ┆     ┆     ┆     ┆     ┆     ┆ ema │\n",
       "│     ┆     ┆     ┆     ┆     ┆     ┆     ┆     ┆     ┆     ┆     ┆     ┆     ┆     ┆     ┆     ┆ rce │\n",
       "│ 4.0 ┆ 200 ┆ S   ┆ 20. ┆ 0.0 ┆ 0.0 ┆ THR ┆ 0.5 ┆ 5.0 ┆ 32. ┆ 8.0 ┆ 0.0 ┆ 1.0 ┆ 1.0 ┆ 0.0 ┆ 0.2 ┆ Jun │\n",
       "│     ┆ .0  ┆     ┆ 0   ┆     ┆ 001 ┆ EE_ ┆ 4   ┆     ┆ 0   ┆     ┆ 21  ┆     ┆     ┆ 15  ┆ 484 ┆ 11_ │\n",
       "│     ┆     ┆     ┆     ┆     ┆     ┆ CLA ┆     ┆     ┆     ┆     ┆     ┆     ┆     ┆     ┆ 27  ┆ 06- │\n",
       "│     ┆     ┆     ┆     ┆     ┆     ┆ SS_ ┆     ┆     ┆     ┆     ┆     ┆     ┆     ┆     ┆     ┆ 49- │\n",
       "│     ┆     ┆     ┆     ┆     ┆     ┆ STA ┆     ┆     ┆     ┆     ┆     ┆     ┆     ┆     ┆     ┆ 13_ │\n",
       "│     ┆     ┆     ┆     ┆     ┆     ┆ NDA ┆     ┆     ┆     ┆     ┆     ┆     ┆     ┆     ┆     ┆ sep │\n",
       "│     ┆     ┆     ┆     ┆     ┆     ┆ RD  ┆     ┆     ┆     ┆     ┆     ┆     ┆     ┆     ┆     ┆ pel │\n",
       "│     ┆     ┆     ┆     ┆     ┆     ┆     ┆     ┆     ┆     ┆     ┆     ┆     ┆     ┆     ┆     ┆ -li │\n",
       "│     ┆     ┆     ┆     ┆     ┆     ┆     ┆     ┆     ┆     ┆     ┆     ┆     ┆     ┆     ┆     ┆ ema │\n",
       "│     ┆     ┆     ┆     ┆     ┆     ┆     ┆     ┆     ┆     ┆     ┆     ┆     ┆     ┆     ┆     ┆ rce │\n",
       "│ 8.0 ┆ 200 ┆ L   ┆ 20. ┆ 1.0 ┆ 0.0 ┆ THR ┆ 0.5 ┆ 5.0 ┆ 24. ┆ 8.0 ┆ 0.0 ┆ 1.0 ┆ 1.0 ┆ 0.0 ┆ 0.2 ┆ Jun │\n",
       "│     ┆ .0  ┆     ┆ 0   ┆     ┆ 001 ┆ EE_ ┆ 4   ┆     ┆ 0   ┆     ┆ 21  ┆     ┆     ┆ 15  ┆ 338 ┆ 12_ │\n",
       "│     ┆     ┆     ┆     ┆     ┆     ┆ CLA ┆     ┆     ┆     ┆     ┆     ┆     ┆     ┆     ┆ 53  ┆ 07- │\n",
       "│     ┆     ┆     ┆     ┆     ┆     ┆ SS_ ┆     ┆     ┆     ┆     ┆     ┆     ┆     ┆     ┆     ┆ 38- │\n",
       "│     ┆     ┆     ┆     ┆     ┆     ┆ STA ┆     ┆     ┆     ┆     ┆     ┆     ┆     ┆     ┆     ┆ 49_ │\n",
       "│     ┆     ┆     ┆     ┆     ┆     ┆ NDA ┆     ┆     ┆     ┆     ┆     ┆     ┆     ┆     ┆     ┆ sep │\n",
       "│     ┆     ┆     ┆     ┆     ┆     ┆ RD  ┆     ┆     ┆     ┆     ┆     ┆     ┆     ┆     ┆     ┆ pel │\n",
       "│     ┆     ┆     ┆     ┆     ┆     ┆     ┆     ┆     ┆     ┆     ┆     ┆     ┆     ┆     ┆     ┆ -li │\n",
       "│     ┆     ┆     ┆     ┆     ┆     ┆     ┆     ┆     ┆     ┆     ┆     ┆     ┆     ┆     ┆     ┆ ema │\n",
       "│     ┆     ┆     ┆     ┆     ┆     ┆     ┆     ┆     ┆     ┆     ┆     ┆     ┆     ┆     ┆     ┆ rce │\n",
       "│ 128 ┆ 50. ┆ L   ┆ 30. ┆ 0.0 ┆ 0.0 ┆ THR ┆ 0.5 ┆ 1.0 ┆ 32. ┆ 4.0 ┆ 0.0 ┆ 0.0 ┆ 10. ┆ 0.0 ┆ 0.2 ┆ Jun │\n",
       "│ .0  ┆ 0   ┆     ┆ 0   ┆     ┆ 004 ┆ EE_ ┆ 4   ┆     ┆ 0   ┆     ┆ 2   ┆     ┆ 0   ┆ 15  ┆ 067 ┆ 05_ │\n",
       "│     ┆     ┆     ┆     ┆     ┆     ┆ CLA ┆     ┆     ┆     ┆     ┆     ┆     ┆     ┆     ┆ 79  ┆ 14- │\n",
       "│     ┆     ┆     ┆     ┆     ┆     ┆ SS_ ┆     ┆     ┆     ┆     ┆     ┆     ┆     ┆     ┆     ┆ 40- │\n",
       "│     ┆     ┆     ┆     ┆     ┆     ┆ STA ┆     ┆     ┆     ┆     ┆     ┆     ┆     ┆     ┆     ┆ 09_ │\n",
       "│     ┆     ┆     ┆     ┆     ┆     ┆ NDA ┆     ┆     ┆     ┆     ┆     ┆     ┆     ┆     ┆     ┆ sep │\n",
       "│     ┆     ┆     ┆     ┆     ┆     ┆ RD  ┆     ┆     ┆     ┆     ┆     ┆     ┆     ┆     ┆     ┆ pel │\n",
       "│     ┆     ┆     ┆     ┆     ┆     ┆     ┆     ┆     ┆     ┆     ┆     ┆     ┆     ┆     ┆     ┆ -li │\n",
       "│     ┆     ┆     ┆     ┆     ┆     ┆     ┆     ┆     ┆     ┆     ┆     ┆     ┆     ┆     ┆     ┆ ema │\n",
       "│     ┆     ┆     ┆     ┆     ┆     ┆     ┆     ┆     ┆     ┆     ┆     ┆     ┆     ┆     ┆     ┆ rce │\n",
       "└─────┴─────┴─────┴─────┴─────┴─────┴─────┴─────┴─────┴─────┴─────┴─────┴─────┴─────┴─────┴─────┴─────┘"
      ],
      "text/html": [
       "<div><style>\n",
       ".dataframe > thead > tr,\n",
       ".dataframe > tbody > tr {\n",
       "  text-align: right;\n",
       "  white-space: pre-wrap;\n",
       "}\n",
       "</style>\n",
       "<small>shape: (7, 17)</small><table border=\"1\" class=\"dataframe\"><thead><tr><th>batch_size</th><th>context_size</th><th>dataset_version</th><th>epochs</th><th>flux</th><th>learning_rate</th><th>mapping</th><th>min_test_score</th><th>num_attention_blocks</th><th>num_channels</th><th>num_heads</th><th>onset_cooldown</th><th>pad_annotations</th><th>test_batch_size</th><th>time_shift</th><th>F-Score</th><th>dir_name</th></tr><tr><td>f64</td><td>f64</td><td>str</td><td>f64</td><td>f64</td><td>f64</td><td>str</td><td>f64</td><td>f64</td><td>f64</td><td>f64</td><td>f64</td><td>f64</td><td>f64</td><td>f64</td><td>f64</td><td>str</td></tr></thead><tbody><tr><td>16.0</td><td>200.0</td><td>&quot;L&quot;</td><td>20.0</td><td>1.0</td><td>0.0001</td><td>&quot;THREE_CLASS_STANDARD&quot;</td><td>0.54</td><td>5.0</td><td>24.0</td><td>8.0</td><td>0.021</td><td>1.0</td><td>1.0</td><td>0.015</td><td>0.492189</td><td>&quot;Jun13_10-57-29_seppel-liemarce&quot;</td></tr><tr><td>16.0</td><td>200.0</td><td>&quot;L&quot;</td><td>20.0</td><td>1.0</td><td>0.0001</td><td>&quot;THREE_CLASS_STANDARD&quot;</td><td>0.54</td><td>5.0</td><td>32.0</td><td>8.0</td><td>0.021</td><td>1.0</td><td>1.0</td><td>0.015</td><td>0.482672</td><td>&quot;Jun14_09-33-24_seppel-liemarce&quot;</td></tr><tr><td>4.0</td><td>200.0</td><td>&quot;L&quot;</td><td>20.0</td><td>0.0</td><td>0.0001</td><td>&quot;THREE_CLASS_STANDARD&quot;</td><td>0.54</td><td>5.0</td><td>16.0</td><td>8.0</td><td>0.021</td><td>1.0</td><td>1.0</td><td>0.015</td><td>0.458652</td><td>&quot;Jun11_13-54-21_seppel-liemarce&quot;</td></tr><tr><td>16.0</td><td>200.0</td><td>&quot;L&quot;</td><td>20.0</td><td>1.0</td><td>0.0001</td><td>&quot;Three class standard&quot;</td><td>0.48</td><td>5.0</td><td>24.0</td><td>8.0</td><td>0.021</td><td>1.0</td><td>1.0</td><td>0.02</td><td>0.393078</td><td>&quot;Jun17_15-04-11_seppel-liemarce&quot;</td></tr><tr><td>4.0</td><td>200.0</td><td>&quot;S&quot;</td><td>20.0</td><td>0.0</td><td>0.0001</td><td>&quot;THREE_CLASS_STANDARD&quot;</td><td>0.54</td><td>5.0</td><td>32.0</td><td>8.0</td><td>0.021</td><td>1.0</td><td>1.0</td><td>0.015</td><td>0.248427</td><td>&quot;Jun11_06-49-13_seppel-liemarce&quot;</td></tr><tr><td>8.0</td><td>200.0</td><td>&quot;L&quot;</td><td>20.0</td><td>1.0</td><td>0.0001</td><td>&quot;THREE_CLASS_STANDARD&quot;</td><td>0.54</td><td>5.0</td><td>24.0</td><td>8.0</td><td>0.021</td><td>1.0</td><td>1.0</td><td>0.015</td><td>0.233853</td><td>&quot;Jun12_07-38-49_seppel-liemarce&quot;</td></tr><tr><td>128.0</td><td>50.0</td><td>&quot;L&quot;</td><td>30.0</td><td>0.0</td><td>0.0004</td><td>&quot;THREE_CLASS_STANDARD&quot;</td><td>0.54</td><td>1.0</td><td>32.0</td><td>4.0</td><td>0.02</td><td>0.0</td><td>10.0</td><td>0.015</td><td>0.206779</td><td>&quot;Jun05_14-40-09_seppel-liemarce&quot;</td></tr></tbody></table></div>"
      ]
     },
     "execution_count": 84,
     "metadata": {},
     "output_type": "execute_result"
    }
   ],
   "execution_count": 84
  },
  {
   "metadata": {
    "ExecuteTime": {
     "end_time": "2024-06-26T21:54:48.045955Z",
     "start_time": "2024-06-26T21:54:47.984985Z"
    }
   },
   "cell_type": "code",
   "source": [
    "unique, identical = get_model_settings(\"cnn\")\n",
    "print(identical)\n",
    "unique"
   ],
   "id": "a74f765943464151",
   "outputs": [
    {
     "name": "stdout",
     "output_type": "stream",
     "text": [
      "shape: (1, 25)\n",
      "┌─────┬─────┬─────┬─────┬─────┬─────┬─────┬─────┬─────┬─────┬─────┬─────┬─────┬─────┬─────┬─────┬─────┬─────┬─────┬─────┬─────┬─────┬─────┬─────┬─────┐\n",
      "│ act ┆ bea ┆ cau ┆ cen ┆ det ┆ dro ┆ ema ┆ fft ┆ hop ┆ ign ┆ mel ┆ mel ┆ min ┆ n_c ┆ n_m ┆ nor ┆ num ┆ pad ┆ pad ┆ pea ┆ pea ┆ sam ┆ sch ┆ spl ┆ tra │\n",
      "│ iva ┆ ts  ┆ sal ┆ ter ┆ ect ┆ pou ┆ --- ┆ _si ┆ _si ┆ ore ┆ _ma ┆ _mi ┆ _sa ┆ las ┆ els ┆ mal ┆ _wo ┆ _mo ┆ _va ┆ k_m ┆ k_m ┆ ple ┆ edu ┆ its ┆ in_ │\n",
      "│ tio ┆ --- ┆ --- ┆ --- ┆ _to ┆ t   ┆ f64 ┆ ze  ┆ ze  ┆ _be ┆ x   ┆ n   ┆ ve_ ┆ ses ┆ --- ┆ ize ┆ rke ┆ de  ┆ lue ┆ ax_ ┆ ean ┆ _ra ┆ ler ┆ --- ┆ set │\n",
      "│ n   ┆ f64 ┆ f64 ┆ f64 ┆ ler ┆ --- ┆     ┆ --- ┆ --- ┆ ats ┆ --- ┆ --- ┆ sco ┆ --- ┆ f64 ┆ --- ┆ rs  ┆ --- ┆ --- ┆ ran ┆ _ra ┆ te  ┆ --- ┆ str ┆ --- │\n",
      "│ --- ┆     ┆     ┆     ┆ anc ┆ f64 ┆     ┆ f64 ┆ f64 ┆ --- ┆ f64 ┆ f64 ┆ re  ┆ f64 ┆     ┆ f64 ┆ --- ┆ str ┆ f64 ┆ ge  ┆ nge ┆ --- ┆ f64 ┆     ┆ str │\n",
      "│ str ┆     ┆     ┆     ┆ e   ┆     ┆     ┆     ┆     ┆ f64 ┆     ┆     ┆ --- ┆     ┆     ┆     ┆ f64 ┆     ┆     ┆ --- ┆ --- ┆ f64 ┆     ┆     ┆     │\n",
      "│     ┆     ┆     ┆     ┆ --- ┆     ┆     ┆     ┆     ┆     ┆     ┆     ┆ f64 ┆     ┆     ┆     ┆     ┆     ┆     ┆ f64 ┆ f64 ┆     ┆     ┆     ┆     │\n",
      "│     ┆     ┆     ┆     ┆ f64 ┆     ┆     ┆     ┆     ┆     ┆     ┆     ┆     ┆     ┆     ┆     ┆     ┆     ┆     ┆     ┆     ┆     ┆     ┆     ┆     │\n",
      "╞═════╪═════╪═════╪═════╪═════╪═════╪═════╪═════╪═════╪═════╪═════╪═════╪═════╪═════╪═════╪═════╪═════╪═════╪═════╪═════╪═════╪═════╪═════╪═════╪═════╡\n",
      "│ SEL ┆ 0.0 ┆ 1.0 ┆ 1.0 ┆ 0.0 ┆ 0.1 ┆ 0.0 ┆ 204 ┆ 441 ┆ 1.0 ┆ 200 ┆ 20. ┆ 0.6 ┆ 3.0 ┆ 84. ┆ 0.0 ┆ 64. ┆ con ┆ 0.5 ┆ 2.0 ┆ 2.0 ┆ 441 ┆ 1.0 ┆ (0. ┆ a2m │\n",
      "│ U   ┆     ┆     ┆     ┆ 25  ┆     ┆     ┆ 8.0 ┆ .0  ┆     ┆ 00. ┆ 0   ┆ 2   ┆     ┆ 0   ┆     ┆ 0   ┆ sta ┆     ┆     ┆     ┆ 00. ┆     ┆ 85, ┆ d_t │\n",
      "│     ┆     ┆     ┆     ┆     ┆     ┆     ┆     ┆     ┆     ┆ 0   ┆     ┆     ┆     ┆     ┆     ┆     ┆ nt  ┆     ┆     ┆     ┆ 0   ┆     ┆ 0.1 ┆ rai │\n",
      "│     ┆     ┆     ┆     ┆     ┆     ┆     ┆     ┆     ┆     ┆     ┆     ┆     ┆     ┆     ┆     ┆     ┆     ┆     ┆     ┆     ┆     ┆     ┆ 5,  ┆ n   │\n",
      "│     ┆     ┆     ┆     ┆     ┆     ┆     ┆     ┆     ┆     ┆     ┆     ┆     ┆     ┆     ┆     ┆     ┆     ┆     ┆     ┆     ┆     ┆     ┆ 0.0 ┆     │\n",
      "│     ┆     ┆     ┆     ┆     ┆     ┆     ┆     ┆     ┆     ┆     ┆     ┆     ┆     ┆     ┆     ┆     ┆     ┆     ┆     ┆     ┆     ┆     ┆ )   ┆     │\n",
      "└─────┴─────┴─────┴─────┴─────┴─────┴─────┴─────┴─────┴─────┴─────┴─────┴─────┴─────┴─────┴─────┴─────┴─────┴─────┴─────┴─────┴─────┴─────┴─────┴─────┘\n"
     ]
    },
    {
     "data": {
      "text/plain": [
       "shape: (10, 15)\n",
       "┌─────┬─────┬─────┬─────┬─────┬─────┬─────┬─────┬─────┬─────┬─────┬────────┬───────┬───────┬───────┐\n",
       "│ bat ┆ dat ┆ epo ┆ flu ┆ lea ┆ map ┆ min ┆ mod ┆ num ┆ ons ┆ pad ┆ test_b ┆ time_ ┆ F-Sco ┆ dir_n │\n",
       "│ ch_ ┆ ase ┆ chs ┆ x   ┆ rni ┆ pin ┆ _te ┆ el_ ┆ _ch ┆ et_ ┆ _an ┆ atch_s ┆ shift ┆ re    ┆ ame   │\n",
       "│ siz ┆ t_v ┆ --- ┆ --- ┆ ng_ ┆ g   ┆ st_ ┆ set ┆ ann ┆ coo ┆ not ┆ ize    ┆ ---   ┆ ---   ┆ ---   │\n",
       "│ e   ┆ ers ┆ f64 ┆ f64 ┆ rat ┆ --- ┆ sco ┆ tin ┆ els ┆ ldo ┆ ati ┆ ---    ┆ f64   ┆ f64   ┆ str   │\n",
       "│ --- ┆ ion ┆     ┆     ┆ e   ┆ str ┆ re  ┆ gs  ┆ --- ┆ wn  ┆ ons ┆ f64    ┆       ┆       ┆       │\n",
       "│ f64 ┆ --- ┆     ┆     ┆ --- ┆     ┆ --- ┆ --- ┆ f64 ┆ --- ┆ --- ┆        ┆       ┆       ┆       │\n",
       "│     ┆ str ┆     ┆     ┆ f64 ┆     ┆ f64 ┆ str ┆     ┆ f64 ┆ f64 ┆        ┆       ┆       ┆       │\n",
       "╞═════╪═════╪═════╪═════╪═════╪═════╪═════╪═════╪═════╪═════╪═════╪════════╪═══════╪═══════╪═══════╡\n",
       "│ 16. ┆ L   ┆ 20. ┆ 1.0 ┆ 0.0 ┆ THR ┆ 0.5 ┆ cnn ┆ 24. ┆ 0.0 ┆ 1.0 ┆ 1.0    ┆ 0.015 ┆ 0.492 ┆ Jun13 │\n",
       "│ 0   ┆     ┆ 0   ┆     ┆ 001 ┆ EE_ ┆ 4   ┆ _at ┆ 0   ┆ 21  ┆     ┆        ┆       ┆ 189   ┆ _10-5 │\n",
       "│     ┆     ┆     ┆     ┆     ┆ CLA ┆     ┆ ten ┆     ┆     ┆     ┆        ┆       ┆       ┆ 7-29_ │\n",
       "│     ┆     ┆     ┆     ┆     ┆ SS_ ┆     ┆ tio ┆     ┆     ┆     ┆        ┆       ┆       ┆ seppe │\n",
       "│     ┆     ┆     ┆     ┆     ┆ STA ┆     ┆ n   ┆     ┆     ┆     ┆        ┆       ┆       ┆ l-lie │\n",
       "│     ┆     ┆     ┆     ┆     ┆ NDA ┆     ┆     ┆     ┆     ┆     ┆        ┆       ┆       ┆ marce │\n",
       "│     ┆     ┆     ┆     ┆     ┆ RD  ┆     ┆     ┆     ┆     ┆     ┆        ┆       ┆       ┆       │\n",
       "│ 512 ┆ L   ┆ 30. ┆ 1.0 ┆ 0.0 ┆ THR ┆ 0.5 ┆ cnn ┆ 16. ┆ 0.0 ┆ 0.0 ┆ 10.0   ┆ 0.015 ┆ 0.487 ┆ Jun04 │\n",
       "│ .0  ┆     ┆ 0   ┆     ┆ 001 ┆ EE_ ┆ 4   ┆     ┆ 0   ┆ 2   ┆     ┆        ┆       ┆ 235   ┆ _19-2 │\n",
       "│     ┆     ┆     ┆     ┆     ┆ CLA ┆     ┆     ┆     ┆     ┆     ┆        ┆       ┆       ┆ 6-40_ │\n",
       "│     ┆     ┆     ┆     ┆     ┆ SS_ ┆     ┆     ┆     ┆     ┆     ┆        ┆       ┆       ┆ seppe │\n",
       "│     ┆     ┆     ┆     ┆     ┆ STA ┆     ┆     ┆     ┆     ┆     ┆        ┆       ┆       ┆ l-lie │\n",
       "│     ┆     ┆     ┆     ┆     ┆ NDA ┆     ┆     ┆     ┆     ┆     ┆        ┆       ┆       ┆ marce │\n",
       "│     ┆     ┆     ┆     ┆     ┆ RD  ┆     ┆     ┆     ┆     ┆     ┆        ┆       ┆       ┆       │\n",
       "│ 16. ┆ L   ┆ 20. ┆ 1.0 ┆ 0.0 ┆ THR ┆ 0.5 ┆ cnn ┆ 32. ┆ 0.0 ┆ 1.0 ┆ 1.0    ┆ 0.015 ┆ 0.482 ┆ Jun14 │\n",
       "│ 0   ┆     ┆ 0   ┆     ┆ 001 ┆ EE_ ┆ 4   ┆ _at ┆ 0   ┆ 21  ┆     ┆        ┆       ┆ 672   ┆ _09-3 │\n",
       "│     ┆     ┆     ┆     ┆     ┆ CLA ┆     ┆ ten ┆     ┆     ┆     ┆        ┆       ┆       ┆ 3-24_ │\n",
       "│     ┆     ┆     ┆     ┆     ┆ SS_ ┆     ┆ tio ┆     ┆     ┆     ┆        ┆       ┆       ┆ seppe │\n",
       "│     ┆     ┆     ┆     ┆     ┆ STA ┆     ┆ n   ┆     ┆     ┆     ┆        ┆       ┆       ┆ l-lie │\n",
       "│     ┆     ┆     ┆     ┆     ┆ NDA ┆     ┆     ┆     ┆     ┆     ┆        ┆       ┆       ┆ marce │\n",
       "│     ┆     ┆     ┆     ┆     ┆ RD  ┆     ┆     ┆     ┆     ┆     ┆        ┆       ┆       ┆       │\n",
       "│ 512 ┆ L   ┆ 20. ┆ 1.0 ┆ 0.0 ┆ THR ┆ 0.5 ┆ cnn ┆ 16. ┆ 0.0 ┆ 1.0 ┆ 1.0    ┆ 0.015 ┆ 0.462 ┆ Jun10 │\n",
       "│ .0  ┆     ┆ 0   ┆     ┆ 001 ┆ EE_ ┆ 4   ┆     ┆ 0   ┆ 2   ┆     ┆        ┆       ┆ 143   ┆ _09-1 │\n",
       "│     ┆     ┆     ┆     ┆     ┆ CLA ┆     ┆     ┆     ┆     ┆     ┆        ┆       ┆       ┆ 4-54_ │\n",
       "│     ┆     ┆     ┆     ┆     ┆ SS_ ┆     ┆     ┆     ┆     ┆     ┆        ┆       ┆       ┆ seppe │\n",
       "│     ┆     ┆     ┆     ┆     ┆ STA ┆     ┆     ┆     ┆     ┆     ┆        ┆       ┆       ┆ l-lie │\n",
       "│     ┆     ┆     ┆     ┆     ┆ NDA ┆     ┆     ┆     ┆     ┆     ┆        ┆       ┆       ┆ marce │\n",
       "│     ┆     ┆     ┆     ┆     ┆ RD  ┆     ┆     ┆     ┆     ┆     ┆        ┆       ┆       ┆       │\n",
       "│ 4.0 ┆ L   ┆ 20. ┆ 0.0 ┆ 0.0 ┆ THR ┆ 0.5 ┆ cnn ┆ 16. ┆ 0.0 ┆ 1.0 ┆ 1.0    ┆ 0.015 ┆ 0.458 ┆ Jun11 │\n",
       "│     ┆     ┆ 0   ┆     ┆ 001 ┆ EE_ ┆ 4   ┆ _at ┆ 0   ┆ 21  ┆     ┆        ┆       ┆ 652   ┆ _13-5 │\n",
       "│     ┆     ┆     ┆     ┆     ┆ CLA ┆     ┆ ten ┆     ┆     ┆     ┆        ┆       ┆       ┆ 4-21_ │\n",
       "│     ┆     ┆     ┆     ┆     ┆ SS_ ┆     ┆ tio ┆     ┆     ┆     ┆        ┆       ┆       ┆ seppe │\n",
       "│     ┆     ┆     ┆     ┆     ┆ STA ┆     ┆ n   ┆     ┆     ┆     ┆        ┆       ┆       ┆ l-lie │\n",
       "│     ┆     ┆     ┆     ┆     ┆ NDA ┆     ┆     ┆     ┆     ┆     ┆        ┆       ┆       ┆ marce │\n",
       "│     ┆     ┆     ┆     ┆     ┆ RD  ┆     ┆     ┆     ┆     ┆     ┆        ┆       ┆       ┆       │\n",
       "│ 16. ┆ L   ┆ 20. ┆ 1.0 ┆ 0.0 ┆ Thr ┆ 0.4 ┆ cnn ┆ 24. ┆ 0.0 ┆ 1.0 ┆ 1.0    ┆ 0.02  ┆ 0.393 ┆ Jun17 │\n",
       "│ 0   ┆     ┆ 0   ┆     ┆ 001 ┆ ee  ┆ 8   ┆ _at ┆ 0   ┆ 21  ┆     ┆        ┆       ┆ 078   ┆ _15-0 │\n",
       "│     ┆     ┆     ┆     ┆     ┆ cla ┆     ┆ ten ┆     ┆     ┆     ┆        ┆       ┆       ┆ 4-11_ │\n",
       "│     ┆     ┆     ┆     ┆     ┆ ss  ┆     ┆ tio ┆     ┆     ┆     ┆        ┆       ┆       ┆ seppe │\n",
       "│     ┆     ┆     ┆     ┆     ┆ sta ┆     ┆ n   ┆     ┆     ┆     ┆        ┆       ┆       ┆ l-lie │\n",
       "│     ┆     ┆     ┆     ┆     ┆ nda ┆     ┆     ┆     ┆     ┆     ┆        ┆       ┆       ┆ marce │\n",
       "│     ┆     ┆     ┆     ┆     ┆ rd  ┆     ┆     ┆     ┆     ┆     ┆        ┆       ┆       ┆       │\n",
       "│ 512 ┆ L   ┆ 20. ┆ 1.0 ┆ 0.0 ┆ THR ┆ 0.5 ┆ cnn ┆ 16. ┆ 0.0 ┆ 1.0 ┆ 1.0    ┆ 0.025 ┆ 0.267 ┆ Jun09 │\n",
       "│ .0  ┆     ┆ 0   ┆     ┆ 001 ┆ EE_ ┆ 4   ┆     ┆ 0   ┆ 2   ┆     ┆        ┆       ┆ 671   ┆ _16-4 │\n",
       "│     ┆     ┆     ┆     ┆     ┆ CLA ┆     ┆     ┆     ┆     ┆     ┆        ┆       ┆       ┆ 6-27_ │\n",
       "│     ┆     ┆     ┆     ┆     ┆ SS_ ┆     ┆     ┆     ┆     ┆     ┆        ┆       ┆       ┆ seppe │\n",
       "│     ┆     ┆     ┆     ┆     ┆ STA ┆     ┆     ┆     ┆     ┆     ┆        ┆       ┆       ┆ l-lie │\n",
       "│     ┆     ┆     ┆     ┆     ┆ NDA ┆     ┆     ┆     ┆     ┆     ┆        ┆       ┆       ┆ marce │\n",
       "│     ┆     ┆     ┆     ┆     ┆ RD  ┆     ┆     ┆     ┆     ┆     ┆        ┆       ┆       ┆       │\n",
       "│ 4.0 ┆ S   ┆ 20. ┆ 0.0 ┆ 0.0 ┆ THR ┆ 0.5 ┆ cnn ┆ 32. ┆ 0.0 ┆ 1.0 ┆ 1.0    ┆ 0.015 ┆ 0.248 ┆ Jun11 │\n",
       "│     ┆     ┆ 0   ┆     ┆ 001 ┆ EE_ ┆ 4   ┆ _at ┆ 0   ┆ 21  ┆     ┆        ┆       ┆ 427   ┆ _06-4 │\n",
       "│     ┆     ┆     ┆     ┆     ┆ CLA ┆     ┆ ten ┆     ┆     ┆     ┆        ┆       ┆       ┆ 9-13_ │\n",
       "│     ┆     ┆     ┆     ┆     ┆ SS_ ┆     ┆ tio ┆     ┆     ┆     ┆        ┆       ┆       ┆ seppe │\n",
       "│     ┆     ┆     ┆     ┆     ┆ STA ┆     ┆ n   ┆     ┆     ┆     ┆        ┆       ┆       ┆ l-lie │\n",
       "│     ┆     ┆     ┆     ┆     ┆ NDA ┆     ┆     ┆     ┆     ┆     ┆        ┆       ┆       ┆ marce │\n",
       "│     ┆     ┆     ┆     ┆     ┆ RD  ┆     ┆     ┆     ┆     ┆     ┆        ┆       ┆       ┆       │\n",
       "│ 8.0 ┆ L   ┆ 20. ┆ 1.0 ┆ 0.0 ┆ THR ┆ 0.5 ┆ cnn ┆ 24. ┆ 0.0 ┆ 1.0 ┆ 1.0    ┆ 0.015 ┆ 0.233 ┆ Jun12 │\n",
       "│     ┆     ┆ 0   ┆     ┆ 001 ┆ EE_ ┆ 4   ┆ _at ┆ 0   ┆ 21  ┆     ┆        ┆       ┆ 853   ┆ _07-3 │\n",
       "│     ┆     ┆     ┆     ┆     ┆ CLA ┆     ┆ ten ┆     ┆     ┆     ┆        ┆       ┆       ┆ 8-49_ │\n",
       "│     ┆     ┆     ┆     ┆     ┆ SS_ ┆     ┆ tio ┆     ┆     ┆     ┆        ┆       ┆       ┆ seppe │\n",
       "│     ┆     ┆     ┆     ┆     ┆ STA ┆     ┆ n   ┆     ┆     ┆     ┆        ┆       ┆       ┆ l-lie │\n",
       "│     ┆     ┆     ┆     ┆     ┆ NDA ┆     ┆     ┆     ┆     ┆     ┆        ┆       ┆       ┆ marce │\n",
       "│     ┆     ┆     ┆     ┆     ┆ RD  ┆     ┆     ┆     ┆     ┆     ┆        ┆       ┆       ┆       │\n",
       "│ 128 ┆ L   ┆ 30. ┆ 0.0 ┆ 0.0 ┆ THR ┆ 0.5 ┆ cnn ┆ 32. ┆ 0.0 ┆ 0.0 ┆ 10.0   ┆ 0.015 ┆ 0.206 ┆ Jun05 │\n",
       "│ .0  ┆     ┆ 0   ┆     ┆ 004 ┆ EE_ ┆ 4   ┆ _at ┆ 0   ┆ 2   ┆     ┆        ┆       ┆ 779   ┆ _14-4 │\n",
       "│     ┆     ┆     ┆     ┆     ┆ CLA ┆     ┆ ten ┆     ┆     ┆     ┆        ┆       ┆       ┆ 0-09_ │\n",
       "│     ┆     ┆     ┆     ┆     ┆ SS_ ┆     ┆ tio ┆     ┆     ┆     ┆        ┆       ┆       ┆ seppe │\n",
       "│     ┆     ┆     ┆     ┆     ┆ STA ┆     ┆ n   ┆     ┆     ┆     ┆        ┆       ┆       ┆ l-lie │\n",
       "│     ┆     ┆     ┆     ┆     ┆ NDA ┆     ┆     ┆     ┆     ┆     ┆        ┆       ┆       ┆ marce │\n",
       "│     ┆     ┆     ┆     ┆     ┆ RD  ┆     ┆     ┆     ┆     ┆     ┆        ┆       ┆       ┆       │\n",
       "└─────┴─────┴─────┴─────┴─────┴─────┴─────┴─────┴─────┴─────┴─────┴────────┴───────┴───────┴───────┘"
      ],
      "text/html": [
       "<div><style>\n",
       ".dataframe > thead > tr,\n",
       ".dataframe > tbody > tr {\n",
       "  text-align: right;\n",
       "  white-space: pre-wrap;\n",
       "}\n",
       "</style>\n",
       "<small>shape: (10, 15)</small><table border=\"1\" class=\"dataframe\"><thead><tr><th>batch_size</th><th>dataset_version</th><th>epochs</th><th>flux</th><th>learning_rate</th><th>mapping</th><th>min_test_score</th><th>model_settings</th><th>num_channels</th><th>onset_cooldown</th><th>pad_annotations</th><th>test_batch_size</th><th>time_shift</th><th>F-Score</th><th>dir_name</th></tr><tr><td>f64</td><td>str</td><td>f64</td><td>f64</td><td>f64</td><td>str</td><td>f64</td><td>str</td><td>f64</td><td>f64</td><td>f64</td><td>f64</td><td>f64</td><td>f64</td><td>str</td></tr></thead><tbody><tr><td>16.0</td><td>&quot;L&quot;</td><td>20.0</td><td>1.0</td><td>0.0001</td><td>&quot;THREE_CLASS_STANDARD&quot;</td><td>0.54</td><td>&quot;cnn_attention&quot;</td><td>24.0</td><td>0.021</td><td>1.0</td><td>1.0</td><td>0.015</td><td>0.492189</td><td>&quot;Jun13_10-57-29_seppel-liemarce&quot;</td></tr><tr><td>512.0</td><td>&quot;L&quot;</td><td>30.0</td><td>1.0</td><td>0.0001</td><td>&quot;THREE_CLASS_STANDARD&quot;</td><td>0.54</td><td>&quot;cnn&quot;</td><td>16.0</td><td>0.02</td><td>0.0</td><td>10.0</td><td>0.015</td><td>0.487235</td><td>&quot;Jun04_19-26-40_seppel-liemarce&quot;</td></tr><tr><td>16.0</td><td>&quot;L&quot;</td><td>20.0</td><td>1.0</td><td>0.0001</td><td>&quot;THREE_CLASS_STANDARD&quot;</td><td>0.54</td><td>&quot;cnn_attention&quot;</td><td>32.0</td><td>0.021</td><td>1.0</td><td>1.0</td><td>0.015</td><td>0.482672</td><td>&quot;Jun14_09-33-24_seppel-liemarce&quot;</td></tr><tr><td>512.0</td><td>&quot;L&quot;</td><td>20.0</td><td>1.0</td><td>0.0001</td><td>&quot;THREE_CLASS_STANDARD&quot;</td><td>0.54</td><td>&quot;cnn&quot;</td><td>16.0</td><td>0.02</td><td>1.0</td><td>1.0</td><td>0.015</td><td>0.462143</td><td>&quot;Jun10_09-14-54_seppel-liemarce&quot;</td></tr><tr><td>4.0</td><td>&quot;L&quot;</td><td>20.0</td><td>0.0</td><td>0.0001</td><td>&quot;THREE_CLASS_STANDARD&quot;</td><td>0.54</td><td>&quot;cnn_attention&quot;</td><td>16.0</td><td>0.021</td><td>1.0</td><td>1.0</td><td>0.015</td><td>0.458652</td><td>&quot;Jun11_13-54-21_seppel-liemarce&quot;</td></tr><tr><td>16.0</td><td>&quot;L&quot;</td><td>20.0</td><td>1.0</td><td>0.0001</td><td>&quot;Three class standard&quot;</td><td>0.48</td><td>&quot;cnn_attention&quot;</td><td>24.0</td><td>0.021</td><td>1.0</td><td>1.0</td><td>0.02</td><td>0.393078</td><td>&quot;Jun17_15-04-11_seppel-liemarce&quot;</td></tr><tr><td>512.0</td><td>&quot;L&quot;</td><td>20.0</td><td>1.0</td><td>0.0001</td><td>&quot;THREE_CLASS_STANDARD&quot;</td><td>0.54</td><td>&quot;cnn&quot;</td><td>16.0</td><td>0.02</td><td>1.0</td><td>1.0</td><td>0.025</td><td>0.267671</td><td>&quot;Jun09_16-46-27_seppel-liemarce&quot;</td></tr><tr><td>4.0</td><td>&quot;S&quot;</td><td>20.0</td><td>0.0</td><td>0.0001</td><td>&quot;THREE_CLASS_STANDARD&quot;</td><td>0.54</td><td>&quot;cnn_attention&quot;</td><td>32.0</td><td>0.021</td><td>1.0</td><td>1.0</td><td>0.015</td><td>0.248427</td><td>&quot;Jun11_06-49-13_seppel-liemarce&quot;</td></tr><tr><td>8.0</td><td>&quot;L&quot;</td><td>20.0</td><td>1.0</td><td>0.0001</td><td>&quot;THREE_CLASS_STANDARD&quot;</td><td>0.54</td><td>&quot;cnn_attention&quot;</td><td>24.0</td><td>0.021</td><td>1.0</td><td>1.0</td><td>0.015</td><td>0.233853</td><td>&quot;Jun12_07-38-49_seppel-liemarce&quot;</td></tr><tr><td>128.0</td><td>&quot;L&quot;</td><td>30.0</td><td>0.0</td><td>0.0004</td><td>&quot;THREE_CLASS_STANDARD&quot;</td><td>0.54</td><td>&quot;cnn_attention&quot;</td><td>32.0</td><td>0.02</td><td>0.0</td><td>10.0</td><td>0.015</td><td>0.206779</td><td>&quot;Jun05_14-40-09_seppel-liemarce&quot;</td></tr></tbody></table></div>"
      ]
     },
     "execution_count": 74,
     "metadata": {},
     "output_type": "execute_result"
    }
   ],
   "execution_count": 74
  },
  {
   "metadata": {
    "ExecuteTime": {
     "end_time": "2024-06-26T22:02:34.882873Z",
     "start_time": "2024-06-26T22:02:34.566534Z"
    }
   },
   "cell_type": "code",
   "source": [
    "best = unique.select(\"dir_name\").row(0)[0]\n",
    "history = get_history(best)\n",
    "pr_curve = history.select(pl.col(\"Validation/PR-Curve/\")).row(-1)[0]"
   ],
   "id": "ccdbc080360d3a1a",
   "outputs": [],
   "execution_count": 90
  },
  {
   "metadata": {
    "ExecuteTime": {
     "end_time": "2024-06-26T22:02:37.471081Z",
     "start_time": "2024-06-26T22:02:37.183055Z"
    }
   },
   "cell_type": "code",
   "source": [
    "plt.imshow(pr_curve)\n",
    "plt.axis(\"off\")"
   ],
   "id": "6c9d662b9b836a6e",
   "outputs": [
    {
     "data": {
      "text/plain": [
       "(-0.5, 639.5, 479.5, -0.5)"
      ]
     },
     "execution_count": 91,
     "metadata": {},
     "output_type": "execute_result"
    },
    {
     "data": {
      "text/plain": [
       "<Figure size 640x480 with 1 Axes>"
      ],
      "image/png": "[encoded data removed]"
     },
     "metadata": {},
     "output_type": "display_data"
    }
   ],
   "execution_count": 91
  },
  {
   "metadata": {},
   "cell_type": "code",
   "outputs": [],
   "execution_count": null,
   "source": "",
   "id": "fee5ee820c589b77"
  }
 ],
 "metadata": {
  "kernelspec": {
   "display_name": "Python 3",
   "language": "python",
   "name": "python3"
  },
  "language_info": {
   "codemirror_mode": {
    "name": "ipython",
    "version": 2
   },
   "file_extension": ".py",
   "mimetype": "text/x-python",
   "name": "python",
   "nbconvert_exporter": "python",
   "pygments_lexer": "ipython2",
   "version": "2.7.6"
  }
 },
 "nbformat": 4,
 "nbformat_minor": 5
}
