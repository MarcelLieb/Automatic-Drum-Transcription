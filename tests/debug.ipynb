{
 "cells": [
  {
   "metadata": {},
   "cell_type": "markdown",
   "source": "# Inspect training",
   "id": "f718cbf904227e80"
  },
  {
   "metadata": {
    "ExecuteTime": {
     "end_time": "2025-07-12T22:29:06.913906Z",
     "start_time": "2025-07-12T22:29:06.910590Z"
    }
   },
   "cell_type": "code",
   "source": [
    "import json\n",
    "from dataclasses import asdict\n",
    "\n",
    "import matplotlib.pyplot as plt\n",
    "import numpy as np\n",
    "import torch\n",
    "from torch import optim\n",
    "\n",
    "import dataset.mapping"
   ],
   "id": "53530f4eb79566ca",
   "outputs": [],
   "execution_count": 2
  },
  {
   "metadata": {
    "ExecuteTime": {
     "end_time": "2025-07-12T22:29:09.827075Z",
     "start_time": "2025-07-12T22:29:06.931991Z"
    }
   },
   "cell_type": "code",
   "source": [
    "from dataset.datasets import get_dataset\n",
    "from settings import TrainingSettings, AnnotationSettings, AudioProcessingSettings, CNNSettings, EvaluationSettings, \\\n",
    "    DatasetSettings\n",
    "from main import train_epoch, evaluate\n",
    "from model.cnn import CNN"
   ],
   "id": "58116c4c864135f7",
   "outputs": [
    {
     "name": "stderr",
     "output_type": "stream",
     "text": [
      "\n",
      "KeyboardInterrupt\n",
      "\n"
     ]
    }
   ],
   "execution_count": 3
  },
  {
   "metadata": {},
   "cell_type": "code",
   "outputs": [],
   "execution_count": null,
   "source": [
    "training_settings: TrainingSettings = TrainingSettings(epochs=30, scheduler=False, num_workers=16)\n",
    "audio_settings: AudioProcessingSettings = AudioProcessingSettings()\n",
    "annotation_settings: AnnotationSettings = AnnotationSettings(time_shift=0.0)\n",
    "dataset_settings = DatasetSettings(\n",
    "    audio_settings=audio_settings,\n",
    "    annotation_settings=annotation_settings,\n",
    ")\n",
    "cnn_settings = CNNSettings()\n",
    "evaluation_settings = EvaluationSettings()\n",
    "\n",
    "device = \"cuda:0\" if torch.cuda.is_available() else \"cpu\"\n",
    "device = torch.device(device)"
   ],
   "id": "a69a39d184389ef4"
  },
  {
   "metadata": {},
   "cell_type": "code",
   "outputs": [],
   "execution_count": null,
   "source": [
    "from matplotlib.colors import ListedColormap\n",
    "from matplotlib import color_sequences\n",
    "\n",
    "print(color_sequences)\n",
    "\n",
    "colors = np.array([\n",
    "    [230, 25, 75],\n",
    "    [60, 180, 75],\n",
    "    [255, 225, 25],\n",
    "    [0, 130, 200],\n",
    "    [245, 130, 48],\n",
    "    [145, 30, 180],\n",
    "    [70, 240, 240],\n",
    "    [240, 50, 230],\n",
    "    [210, 245, 60],\n",
    "    [250, 190, 190],\n",
    "    [0, 128, 128],\n",
    "    [230, 190, 255],\n",
    "    [170, 110, 40],\n",
    "    [255, 250, 200],\n",
    "    [128, 0, 0],\n",
    "    [170, 255, 195],\n",
    "    [128, 128, 0],\n",
    "    [255, 215, 180],\n",
    "    [0, 0, 128],\n",
    "    [128, 128, 128],\n",
    "    [0, 0, 0],\n",
    "]) / 255\n",
    "colormap = ListedColormap(colors, N=21)\n",
    "\n",
    "# Plot a pseudo pr curve\n",
    "for i in range(10):\n",
    "    x = np.linspace(0, 1, 100)\n",
    "    y = np.sin(x * np.pi * i) * 0.5 + 0.5\n",
    "    plt.plot(x, y, color=colors[i], label=f\"Class {i}\")\n",
    "plt.legend()\n",
    "plt.xlabel(\"Recall\")\n",
    "plt.ylabel(\"Precision\")\n",
    "plt.title(\"Precision-Recall curve\")"
   ],
   "id": "4dbc04e9a5da33f6"
  },
  {
   "metadata": {},
   "cell_type": "code",
   "outputs": [],
   "execution_count": null,
   "source": [
    "loader_train, loader_val, loader_test_rbma, loader_test_mdb = get_dataset(\n",
    "    training_settings, audio_settings, annotation_settings\n",
    ")"
   ],
   "id": "61db910bb080af78"
  },
  {
   "metadata": {},
   "cell_type": "code",
   "outputs": [],
   "execution_count": null,
   "source": [
    "model = CNN(**asdict(cnn_settings))\n",
    "model.to(device)"
   ],
   "id": "e161a78cc35b7fba"
  },
  {
   "metadata": {},
   "cell_type": "code",
   "outputs": [],
   "execution_count": null,
   "source": [
    "max_lr = training_settings.learning_rate\n",
    "initial_lr = max_lr / 25\n",
    "_min_lr = initial_lr / 1e4\n",
    "initial_lr = (\n",
    "    training_settings.learning_rate\n",
    "    if not training_settings.scheduler\n",
    "    else initial_lr\n",
    ")\n",
    "optimizer = optim.RAdam(\n",
    "    model.parameters(), lr=initial_lr, weight_decay=1e-5\n",
    ")\n",
    "scheduler = (\n",
    "    optim.lr_scheduler.OneCycleLR(\n",
    "        optimizer,\n",
    "        max_lr=max_lr,\n",
    "        steps_per_epoch=len(loader_train),\n",
    "        epochs=training_settings.epochs,\n",
    "    )\n",
    "    if training_settings.scheduler\n",
    "    else None\n",
    ")\n",
    "error = torch.nn.BCEWithLogitsLoss(reduction=\"none\")\n",
    "scaler = torch.cuda.amp.GradScaler()"
   ],
   "id": "d7262fdde2f89fa4"
  },
  {
   "metadata": {},
   "cell_type": "code",
   "outputs": [],
   "execution_count": null,
   "source": [
    "model.to(device)\n",
    "best_loss = float(\"inf\")\n",
    "best_score = 0\n",
    "last_improvement = 0\n",
    "for epoch in range(10):\n",
    "    train_loss = train_epoch(\n",
    "        epoch,\n",
    "        loader_train,\n",
    "        device,\n",
    "        None,\n",
    "        error,\n",
    "        model,\n",
    "        optimizer,\n",
    "        scaler,\n",
    "        scheduler,\n",
    "        tensorboard_writer=None,\n",
    "    )\n",
    "    val_loss, f_score, avg_f_score = evaluate(\n",
    "        epoch,\n",
    "        model,\n",
    "        loader_val,\n",
    "        error,\n",
    "        device,\n",
    "        evaluation_settings.ignore_beats,\n",
    "        tensorboard_writer=None,\n",
    "        tag=\"Validation\",\n",
    "    )\n",
    "    print(\n",
    "        f\"Epoch: {epoch + 1} \"\n",
    "        f\"Loss: {train_loss * 100:.4f}\\t \"\n",
    "        f\"Val Loss: {val_loss * 100:.4f} F-Score: {avg_f_score * 100:.4f}/{f_score * 100:.4f}\"\n",
    "    )"
   ],
   "id": "f42846831e2f2c6d"
  },
  {
   "metadata": {},
   "cell_type": "code",
   "outputs": [],
   "execution_count": null,
   "source": [
    "torch.cuda.empty_cache()\n",
    "model.cpu()\n",
    "loader = iter(loader_test_rbma)"
   ],
   "id": "11af8aa2edcf8f65"
  },
  {
   "metadata": {},
   "cell_type": "code",
   "outputs": [],
   "execution_count": null,
   "source": [
    "spec, target, annotation = next(loader)\n",
    "model.eval()\n",
    "with torch.no_grad():\n",
    "    output = model(spec)"
   ],
   "id": "b9b727261820ea55"
  },
  {
   "metadata": {},
   "cell_type": "code",
   "outputs": [],
   "execution_count": null,
   "source": [
    "print(output.shape)\n",
    "print(target.shape)\n",
    "print(spec.shape)"
   ],
   "id": "e6d2727422c29259"
  },
  {
   "metadata": {},
   "cell_type": "code",
   "outputs": [],
   "execution_count": null,
   "source": [
    "section = range(1000, 20000)\n",
    "plt.figure(figsize=(10, 10))\n",
    "plt.plot(output[0][0][section].numpy(), label=\"Output\")\n",
    "plt.legend()\n",
    "plt.show()"
   ],
   "id": "5015faf065a93fc8"
  },
  {
   "metadata": {},
   "cell_type": "code",
   "outputs": [],
   "execution_count": null,
   "source": [
    "section = range(1000, 20000)\n",
    "plt.figure(figsize=(10, 10))\n",
    "plt.plot(output[0][0][section].numpy(), label=\"Output\")\n",
    "plt.plot(target[0][0][section].numpy(), label=\"Target\")\n",
    "plt.legend()\n",
    "plt.show()"
   ],
   "id": "9046e27d3547c1cb"
  },
  {
   "metadata": {},
   "cell_type": "code",
   "outputs": [],
   "execution_count": null,
   "source": [
    "from model import ResidualBlock1d  # , CausalConv2d, ResidualBlock\n",
    "\n",
    "eps = np.nextafter(np.float16(0.0), np.float16(1.0))\n",
    "class_idx = 2\n",
    "offset = 1\n",
    "first_label = target[0][class_idx].nonzero()[15]\n",
    "print(first_label)\n",
    "\n",
    "causal_test = spec.clone()\n",
    "causal_test[0, :, :first_label + offset] = 0\n",
    "# causal_test[0, :, first_label+offset+30:] = 0\n",
    "empty_model = ResidualBlock1d(1, 1, kernel_size=5)\n",
    "\n",
    "model.eval()\n",
    "with torch.no_grad():\n",
    "    # output = model(causal_test)\n",
    "    empty_output = empty_model(causal_test.unsqueeze(1)).squeeze(1)\n",
    "\n",
    "output = empty_output\n",
    "\n",
    "print(torch.min(output[0, class_idx, first_label - offset - 40:first_label + offset]))\n",
    "print(torch.max(output[0, class_idx, first_label - offset - 40:first_label + offset]))\n",
    "print(torch.min(output[0, class_idx, first_label + offset:]))\n",
    "print(torch.max(output[0, class_idx, first_label + offset:]))\n",
    "\n",
    "plt.figure(figsize=(10, 10))\n",
    "plt.plot(output[0][0][first_label + offset - 10 - 1:first_label + offset + 10].numpy(), label=\"Output\")\n",
    "plt.minorticks_on()"
   ],
   "id": "6d6297ac4bf58933"
  },
  {
   "metadata": {},
   "cell_type": "markdown",
   "source": "# Test spectogram alignment",
   "id": "65fcacfaa74955d8"
  },
  {
   "metadata": {},
   "cell_type": "code",
   "outputs": [],
   "execution_count": null,
   "source": [
    "import nnAudio.features\n",
    "from dataset.RBMA13 import RBMA13\n",
    "from dataset import load_audio\n",
    "import torchaudio\n",
    "import librosa\n",
    "from dataset import get_time_index, get_indices"
   ],
   "id": "bdabbf1a09e3ce45"
  },
  {
   "metadata": {},
   "cell_type": "code",
   "outputs": [],
   "execution_count": null,
   "source": [
    "rbma = RBMA13(\n",
    "    path=\"./data/rbma_13\",\n",
    "    settings=dataset_settings,\n",
    "    use_dataloader=False,\n",
    "    is_train=False,\n",
    ")"
   ],
   "id": "a4a30525b6aabfb8"
  },
  {
   "metadata": {},
   "cell_type": "code",
   "outputs": [],
   "execution_count": null,
   "source": [
    "mel_log, labels, gt = rbma[2]\n",
    "test_audio = load_audio(rbma.get_full_path(\"RBMA-13-Track-03\"), audio_settings.sample_rate, audio_settings.normalize)\n",
    "gt = gt[2:]"
   ],
   "id": "3851b4bdff3c31a2"
  },
  {
   "metadata": {},
   "cell_type": "code",
   "outputs": [],
   "execution_count": null,
   "source": [
    "cqt = nnAudio.features.CQT1992v2(\n",
    "    sr=audio_settings.sample_rate,\n",
    "    hop_length=audio_settings.hop_size,\n",
    "    fmin=20,\n",
    "    fmax=20000,\n",
    "    bins_per_octave=12,\n",
    "    pad_mode=audio_settings.pad_mode,\n",
    ")\n",
    "\n",
    "nnAudio_stft = nnAudio.features.STFT(\n",
    "    n_fft=audio_settings.fft_size,\n",
    "    hop_length=audio_settings.hop_size,\n",
    "    win_length=audio_settings.fft_size // 2,\n",
    "    window=\"hann\",\n",
    "    center=audio_settings.center,\n",
    "    pad_mode=audio_settings.pad_mode,\n",
    "    trainable=False,\n",
    "    output_format=\"Magnitude\",\n",
    ")\n",
    "\n",
    "torch_stft = torchaudio.transforms.Spectrogram(\n",
    "    n_fft=audio_settings.fft_size,\n",
    "    hop_length=audio_settings.hop_size,\n",
    "    win_length=audio_settings.fft_size // 2,\n",
    "    power=2,\n",
    "    center=audio_settings.center,\n",
    "    pad_mode=audio_settings.pad_mode,\n",
    "    normalized=True,\n",
    "    onesided=True,\n",
    ")\n",
    "\n",
    "mel = torchaudio.transforms.MelScale(\n",
    "    n_mels=audio_settings.n_mels,\n",
    "    sample_rate=audio_settings.sample_rate,\n",
    "    f_min=audio_settings.mel_min,\n",
    "    f_max=audio_settings.mel_max,\n",
    "    n_stft=audio_settings.fft_size // 2 + 1,\n",
    ")"
   ],
   "id": "205fcb8f92853690"
  },
  {
   "metadata": {},
   "cell_type": "code",
   "outputs": [],
   "execution_count": null,
   "source": [
    "cqt_spec = cqt(test_audio)[0]\n",
    "torch_stft_spec = torch_stft(test_audio)\n",
    "nnAudio_stft_spec = nnAudio_stft(test_audio)\n",
    "mel_spec = mel(torch_stft_spec)\n",
    "print(torch_stft_spec.shape)\n",
    "print(nnAudio_stft_spec.shape)\n",
    "print(cqt_spec.shape)\n",
    "print(mel_spec.shape)"
   ],
   "id": "457455519902d117"
  },
  {
   "metadata": {},
   "cell_type": "code",
   "outputs": [],
   "execution_count": null,
   "source": [
    "print(torch_stft_spec.shape[-1] / audio_settings.sample_rate * audio_settings.hop_size)\n",
    "print(nnAudio_stft_spec.shape[-1] / audio_settings.sample_rate * audio_settings.hop_size)\n",
    "print(cqt_spec.shape[-1] / audio_settings.sample_rate * audio_settings.hop_size)\n",
    "print(test_audio.shape[-1] / audio_settings.sample_rate)\n",
    "print(audio_settings.fft_size // audio_settings.hop_size)"
   ],
   "id": "28b86f8a2dea396b"
  },
  {
   "metadata": {},
   "cell_type": "code",
   "outputs": [],
   "execution_count": null,
   "source": [
    "plot_range = slice(000, 200)\n",
    "\n",
    "gt_labels = [np.array(\n",
    "    [label - plot_range.start / 100 for label in cls if plot_range.start <= int(label * 100) <= plot_range.stop]) for\n",
    "    cls in gt]\n",
    "print(gt_labels)\n",
    "\n",
    "db = librosa.amplitude_to_db(cqt_spec[:, plot_range], ref=np.max)\n",
    "fig, ax = plt.subplots(nrows=3)\n",
    "_img1 = librosa.display.specshow(\n",
    "    db,\n",
    "    y_axis='cqt_hz',\n",
    "    x_axis='time',\n",
    "    ax=ax[0],\n",
    "    sr=audio_settings.sample_rate,\n",
    "    hop_length=audio_settings.hop_size,\n",
    "    fmin=20,\n",
    "    fmax=20000,\n",
    ")\n",
    "ax[0].set(title='CQT spectrogram')\n",
    "\n",
    "M = mel_spec[:, plot_range].detach().numpy()\n",
    "M_db = librosa.power_to_db(M, ref=np.max)\n",
    "_img2 = librosa.display.specshow(\n",
    "    M_db,\n",
    "    y_axis='mel',\n",
    "    x_axis='time',\n",
    "    ax=ax[1],\n",
    "    sr=audio_settings.sample_rate,\n",
    "    hop_length=audio_settings.hop_size,\n",
    "    fmin=audio_settings.mel_min,\n",
    "    fmax=audio_settings.mel_max\n",
    ")\n",
    "ax[1].set(title='Mel spectrogram')\n",
    "\n",
    "time = get_time_index(plot_range.stop - plot_range.start, audio_settings.sample_rate, audio_settings.hop_size)\n",
    "time = np.array([time] * annotation_settings.n_classes).T\n",
    "\n",
    "ax[0].vlines(time[labels[:, plot_range].T == 1], ymin=0, ymax=1)\n",
    "ax[1].vlines(time[labels[:, plot_range].T == 1], ymin=0, ymax=1)\n",
    "ax[2].vlines(time[labels[:, plot_range].T == 1], ymin=0, ymax=1, colors=[\"blue\"])\n",
    "for cls in gt_labels:\n",
    "    ax[2].vlines(cls, ymin=0, ymax=1, colors=[\"red\"])\n",
    "ax[2].set_xlim(left=0, right=time[-1][0])\n",
    "plt.tight_layout()"
   ],
   "id": "e7d4014aed611154"
  },
  {
   "metadata": {},
   "cell_type": "code",
   "outputs": [],
   "execution_count": null,
   "source": [
    "sample_rate = audio_settings.sample_rate\n",
    "hop_size = audio_settings.hop_size\n",
    "fft_size = audio_settings.fft_size\n",
    "\n",
    "for cls in gt_labels:\n",
    "    if len(cls) == 0:\n",
    "        continue\n",
    "    index = get_indices(cls, sample_rate, hop_size)\n",
    "    time = get_time_index(np.max(index) + 1, sample_rate, hop_size)\n",
    "    assert np.allclose(time[index], cls,\n",
    "                       atol=hop_size / sample_rate / 2), f\"{time[index][np.abs(time[index] - cls) > hop_size / sample_rate / 2]} \\n{cls[np.abs(time[index] - cls) > hop_size / sample_rate / 2]}\"\n",
    "    print()\n"
   ],
   "id": "9b43a325a98c0ca7"
  },
  {
   "metadata": {},
   "cell_type": "markdown",
   "source": "# Test audio loading",
   "id": "57b1a84b4bc8de89"
  },
  {
   "metadata": {},
   "cell_type": "code",
   "outputs": [],
   "execution_count": null,
   "source": [
    "%matplotlib inline\n",
    "import librosa\n",
    "from dataset import load_audio, get_length\n",
    "import torchaudio\n",
    "import numpy as np\n",
    "import torch\n",
    "import matplotlib.pyplot as plt\n",
    "import IPython.display as ipd"
   ],
   "id": "6e0b042456656a10"
  },
  {
   "metadata": {},
   "cell_type": "code",
   "outputs": [],
   "execution_count": null,
   "source": [
    "def plot_audio(audio, sr, title=\"\", offset=0, num_samples=None):\n",
    "    if num_samples is None:\n",
    "        num_samples = len(audio)\n",
    "    t = np.arange(offset, num_samples + offset) / sr\n",
    "    plt.figure(figsize=(10, 5))\n",
    "    plt.plot(t, audio[offset:offset + num_samples])\n",
    "    plt.title(title)\n",
    "    plt.xlabel(\"Time [s]\")\n",
    "    plt.ylabel(\"Amplitude\")\n",
    "    plt.show()"
   ],
   "id": "10989be678c39075"
  },
  {
   "metadata": {},
   "cell_type": "code",
   "outputs": [],
   "execution_count": null,
   "source": [
    "audio_path = \"./data/a2md_public/ytd_audio/dist0p00/ytd_audio_00040_TRVNNMF128F4285161.mp3\"\n",
    "sample_rate = librosa.get_samplerate(audio_path)\n",
    "duration = get_length(audio_path)\n",
    "print(sample_rate, duration)\n",
    "segment = (12, 20)\n",
    "print(segment[0] * sample_rate, segment[1] * sample_rate)"
   ],
   "id": "3b3cef4e251f476a"
  },
  {
   "metadata": {},
   "cell_type": "code",
   "outputs": [],
   "execution_count": null,
   "source": [
    "import timeit\n",
    "\n",
    "n_runs = 10\n",
    "\n",
    "torch_time = timeit.timeit(\n",
    "    lambda: torchaudio.load(audio_path, frame_offset=int(segment[0] * sample_rate),\n",
    "                            num_frames=int((segment[1] - segment[0]) * sample_rate), backend=\"ffmpeg\", normalize=True),\n",
    "    number=n_runs\n",
    ")\n",
    "\n",
    "librosa_time = timeit.timeit(\n",
    "    lambda: librosa.load(audio_path, sr=sample_rate, offset=segment[0], duration=segment[1] - segment[0]),\n",
    "    number=n_runs\n",
    ")\n",
    "\n",
    "loader_time = timeit.timeit(\n",
    "    lambda: load_audio(path=audio_path, sample_rate=sample_rate, start=segment[0], end=segment[1], normalize=False,\n",
    "                       backend=\"sox\"),\n",
    "    number=n_runs\n",
    ")\n",
    "\n",
    "print(f\"Loader: {loader_time:.4f} s\")\n",
    "print(f\"Torch: {torch_time:.4f} s\")\n",
    "print(f\"Librosa: {librosa_time:.4f} s\")"
   ],
   "id": "b544dd72ec001a98"
  },
  {
   "metadata": {},
   "cell_type": "code",
   "outputs": [],
   "execution_count": null,
   "source": [
    "torch_audio = %time torchaudio.load(audio_path, frame_offset=int(segment[0] * sample_rate), num_frames=int((segment[1] - segment[0]) * sample_rate), normalize=True)[0].squeeze()\n",
    "librosa_audio, _ = %time librosa.load(audio_path, sr=sample_rate, offset=segment[0], duration=segment[1] - segment[0])\n",
    "loader_audio = %time load_audio(path=audio_path, sample_rate=sample_rate, start=segment[0], end=segment[1], normalize=False)"
   ],
   "id": "85fcfe1a8882ed9e"
  },
  {
   "metadata": {},
   "cell_type": "code",
   "outputs": [],
   "execution_count": null,
   "source": [
    "ref_index = np.argmax(np.abs(librosa_audio))\n",
    "other_ref_index = torch.argmax(torch.abs(torch_audio)).item()\n",
    "if ref_index != other_ref_index:\n",
    "    print(ref_index, other_ref_index)\n",
    "\n",
    "index = torch.argmax(torch.abs(loader_audio)).item()\n",
    "actual_offset = index - ref_index\n",
    "print(actual_offset)\n",
    "print(actual_offset / sample_rate)"
   ],
   "id": "f5ac1d34e55f3d93"
  },
  {
   "metadata": {},
   "cell_type": "code",
   "outputs": [],
   "execution_count": null,
   "source": [
    "print(loader_audio.shape, loader_audio.dtype)\n",
    "print(torch_audio.shape, torch_audio.dtype)\n",
    "print(librosa_audio.shape, librosa_audio.dtype)"
   ],
   "id": "ea971d44bf41ac07"
  },
  {
   "metadata": {},
   "cell_type": "code",
   "outputs": [],
   "execution_count": null,
   "source": [
    "print(torch.max(loader_audio).item(), torch.min(loader_audio).item())\n",
    "print(torch.max(torch_audio).item(), torch.min(torch_audio).item())\n",
    "print(np.max(librosa_audio), np.min(librosa_audio))\n",
    "print()\n",
    "\n",
    "difference = loader_audio.shape[-1] - torch_audio.shape[-1]\n",
    "if difference != 0:\n",
    "    print(f\"Loader audio is longer by {difference} samples\")\n",
    "    # loader_audio = loader_audio[difference:]\n",
    "\n",
    "if not np.allclose(librosa_audio, torch_audio.numpy(), atol=1e-5):\n",
    "    print(f\"Librosa and torch audio are not equal\")\n",
    "    print(np.max(np.abs(librosa_audio - torch_audio.numpy())))\n",
    "if not np.allclose(loader_audio.numpy(), torch_audio.numpy(), atol=1e-5):\n",
    "    print(f\"Loader and torch audio are not equal\")\n",
    "    print(np.max(np.abs(loader_audio.numpy() - torch_audio.numpy())))\n",
    "if not np.allclose(loader_audio, librosa_audio, atol=1e-5):\n",
    "    print(f\"Loader and librosa audio are not equal\")\n",
    "    print(np.max(np.abs(loader_audio.numpy() - librosa_audio)))"
   ],
   "id": "bbd739637629e5e8"
  },
  {
   "metadata": {},
   "cell_type": "code",
   "outputs": [],
   "execution_count": null,
   "source": [
    "abs_error = 1e-4\n",
    "mask = (~(np.isclose(loader_audio.numpy(), librosa_audio, atol=abs_error))).nonzero()\n",
    "print(mask, len(mask[0]))\n",
    "errors = loader_audio[~np.isclose(loader_audio.numpy(), librosa_audio, atol=abs_error)]\n",
    "print(errors.shape, errors.shape[-1] / loader_audio.shape[-1])"
   ],
   "id": "4874d57710df63e1"
  },
  {
   "metadata": {},
   "cell_type": "code",
   "outputs": [],
   "execution_count": null,
   "source": [
    "if difference > 0:\n",
    "    extra_audio = loader_audio[:difference]\n",
    "    extra_audio = extra_audio / torch.max(extra_audio)\n",
    "    ipd.Audio(extra_audio, rate=sample_rate)"
   ],
   "id": "c666e1428c7d58f5"
  },
  {
   "metadata": {},
   "cell_type": "code",
   "outputs": [],
   "execution_count": null,
   "source": [
    "num_samples = 800\n",
    "offset = 0"
   ],
   "id": "52a1462f889d6af8"
  },
  {
   "metadata": {},
   "cell_type": "code",
   "outputs": [],
   "execution_count": null,
   "source": [
    "plot_audio(loader_audio, sample_rate, \"Loader audio\", num_samples=num_samples, offset=offset)\n",
    "plot_audio(torch_audio.numpy(), sample_rate, \"Torch audio\", num_samples=num_samples, offset=offset)\n",
    "plot_audio(librosa_audio, sample_rate, \"Librosa audio\", num_samples=num_samples, offset=offset)"
   ],
   "id": "46a81517f57f1636"
  },
  {
   "metadata": {},
   "cell_type": "code",
   "outputs": [],
   "execution_count": null,
   "source": "ipd.Audio(loader_audio.numpy(), rate=sample_rate)",
   "id": "31b9d5b6bb6b5578"
  },
  {
   "metadata": {},
   "cell_type": "markdown",
   "source": "# Dataset inspection",
   "id": "62337c466f14ec29"
  },
  {
   "metadata": {},
   "cell_type": "code",
   "outputs": [],
   "execution_count": null,
   "source": [
    "from pretty_midi import PrettyMIDI\n",
    "import pretty_midi\n",
    "import numpy as np\n",
    "from dataset.A2MD import get_tracks"
   ],
   "id": "4a650916eb340ef8"
  },
  {
   "metadata": {},
   "cell_type": "code",
   "outputs": [],
   "execution_count": null,
   "source": "midi = PrettyMIDI(\"./data/a2md_public/align_mid/dist0p00/align_mid_00012_TRYIYUF128F932573D.mid\")",
   "id": "d31a659af740b382"
  },
  {
   "metadata": {},
   "cell_type": "code",
   "outputs": [],
   "execution_count": null,
   "source": [
    "def get_drum_pitch_velocity(_midi: PrettyMIDI) -> np.ndarray:\n",
    "    drum_instruments: list[pretty_midi.Instrument] = [\n",
    "        instrument for instrument in _midi.instruments if instrument.is_drum\n",
    "    ]\n",
    "    notes = np.array(\n",
    "        [\n",
    "            (note.pitch, note.velocity)\n",
    "            for instrument in drum_instruments\n",
    "            for note in instrument.notes\n",
    "        ]\n",
    "    )\n",
    "    return notes\n",
    "\n",
    "\n",
    "np.array(drum_instruments[0])\n",
    "# np.unique(notes[:, 0].astype(int), return_counts=True)"
   ],
   "id": "f061d108c2048665"
  },
  {
   "metadata": {},
   "cell_type": "markdown",
   "source": "# Inspect trained model",
   "id": "b58b31141180d274"
  },
  {
   "metadata": {
    "ExecuteTime": {
     "end_time": "2025-07-12T22:29:09.842462200Z",
     "start_time": "2025-07-06T13:45:00.495299Z"
    }
   },
   "cell_type": "code",
   "source": [
    "import torch\n",
    "import numpy as np\n",
    "import matplotlib.pyplot as plt\n",
    "from dataset.RBMA13 import RBMA13\n",
    "from dataset.A2MD import A2MD\n",
    "from settings import DatasetSettings, CNNMambaSettings, TrainingSettings, CNNSettings, CNNAttentionSettings\n",
    "from dataclasses import asdict\n",
    "import dataset\n",
    "from evallib import peak_pick_max_mean, calculate_pr\n",
    "\n",
    "from model.CRNN import CRNN\n",
    "from model.unet import UNet\n",
    "from model.cnnM2 import CNNMambaFast\n",
    "from model.cnnM import CNNMamba\n",
    "from model.cnnA import CNNAttention"
   ],
   "id": "f28a989b0fecf9e8",
   "outputs": [],
   "execution_count": 1
  },
  {
   "metadata": {
    "ExecuteTime": {
     "end_time": "2025-07-12T22:29:09.842976700Z",
     "start_time": "2025-07-06T13:45:41.895510Z"
    }
   },
   "cell_type": "code",
   "source": "checkpoint = torch.load(\"../models/Jul06_14-22-00_marclie-desktop_mamba_fast_81.15.pt\", map_location=torch.device(\"cpu\"))",
   "id": "42d2638a9f5f03bd",
   "outputs": [],
   "execution_count": 2
  },
  {
   "metadata": {
    "ExecuteTime": {
     "end_time": "2025-07-12T22:29:09.843491500Z",
     "start_time": "2025-07-06T13:45:44.853518Z"
    }
   },
   "cell_type": "code",
   "source": [
    "torch.cuda.empty_cache()\n",
    "dataset_settings = DatasetSettings.from_flat_dict(checkpoint[\"dataset_settings\"])\n",
    "dataset_settings.segment_type = None\n",
    "training_settings = TrainingSettings.from_flat_dict(checkpoint[\"training_settings\"])\n",
    "model_settings = training_settings.get_model_settings_class().from_flat_dict(checkpoint[\"model_settings\"])\n",
    "match training_settings.model_settings:\n",
    "    case \"cnn\":\n",
    "        model = CNN(**asdict(model_settings), n_classes=dataset_settings.annotation_settings.n_classes,\n",
    "                    n_mels=checkpoint[\"dataset_settings\"][\"n_mels\"])\n",
    "    case \"cnn_attention\":\n",
    "        model = CNNAttention(**asdict(model_settings), n_classes=dataset_settings.annotation_settings.n_classes,\n",
    "                             n_mels=checkpoint[\"dataset_settings\"][\"n_mels\"])\n",
    "    case \"mamba\":\n",
    "        model = CNNMamba(**asdict(model_settings), n_classes=dataset_settings.annotation_settings.n_classes,\n",
    "                         n_mels=checkpoint[\"dataset_settings\"][\"n_mels\"])\n",
    "    case \"mamba_fast\":\n",
    "        model = CNNMambaFast(**asdict(model_settings), n_classes=dataset_settings.annotation_settings.n_classes,\n",
    "                             n_mels=checkpoint[\"dataset_settings\"][\"n_mels\"])\n",
    "    case \"unet\":\n",
    "        model = UNet(**asdict(model_settings))\n",
    "    case \"crnn\":\n",
    "        model = CRNN(**asdict(model_settings), n_classes=dataset_settings.annotation_settings.n_classes,\n",
    "                     n_mels=checkpoint[\"dataset_settings\"][\"n_mels\"])\n",
    "    case _:\n",
    "        raise ValueError(\"Invalid model setting\")\n",
    "model.load_state_dict(checkpoint[\"model\"])\n",
    "model = model.eval()"
   ],
   "id": "e2058bb5ec43e9c3",
   "outputs": [],
   "execution_count": 3
  },
  {
   "metadata": {
    "ExecuteTime": {
     "end_time": "2025-07-12T22:29:09.843491500Z",
     "start_time": "2025-07-06T14:02:13.550310Z"
    }
   },
   "cell_type": "code",
   "source": [
    "# Calculate weight stats\n",
    "def get_weight_stats(model: torch.nn.Module):\n",
    "    weights = []\n",
    "    for name, param in model.named_parameters():\n",
    "        if \"weight\" in name:\n",
    "            weights.append(param.data.flatten())\n",
    "    weights = torch.cat(weights, dim=0)\n",
    "    return {\n",
    "        \"mean\": weights.mean().item(),\n",
    "        \"std\": weights.std().item(),\n",
    "        \"min\": weights.min().item(),\n",
    "        \"max\": weights.max().item(),\n",
    "    }\n",
    "\n",
    "print(get_weight_stats(model))\n",
    "print(torch.nextafter(torch.tensor(0.0, dtype=torch.float16), torch.tensor(1.0, dtype=torch.float16)), torch.nextafter(torch.tensor(0.0, dtype=torch.bfloat16), torch.tensor(1.0, dtype=torch.bfloat16)))\n",
    "print(torch.finfo(torch.float16).max, torch.finfo(torch.bfloat16).max)"
   ],
   "id": "749955fa4ab8242f",
   "outputs": [
    {
     "name": "stdout",
     "output_type": "stream",
     "text": [
      "{'mean': 0.00033131445525214076, 'std': 0.04683024436235428, 'min': -0.9670994877815247, 'max': 1.0618863105773926}\n",
      "tensor(5.9605e-08, dtype=torch.float16) tensor(9.1835e-41, dtype=torch.bfloat16)\n",
      "65504.0 3.3895313892515355e+38\n"
     ]
    }
   ],
   "execution_count": 12
  },
  {
   "metadata": {},
   "cell_type": "code",
   "outputs": [],
   "execution_count": null,
   "source": "training_settings",
   "id": "505c1f9e3a42525e"
  },
  {
   "metadata": {},
   "cell_type": "code",
   "outputs": [],
   "execution_count": null,
   "source": [
    "rbma = RBMA13(\n",
    "    path=\"../data/rbma_13\",\n",
    "    settings=dataset_settings,\n",
    "    use_dataloader=True,\n",
    "    is_train=False,\n",
    "    segment=False,\n",
    ")\n",
    "\n",
    "rbma_loader = dataset.get_dataloader(rbma, 1, 1, is_train=False)\n",
    "\n",
    "a2md = A2MD(\n",
    "    path=\"data/a2md_public\",\n",
    "    settings=dataset_settings,\n",
    "    use_dataloader=False,\n",
    "    is_train=False,\n",
    "    segment=False,\n",
    ")"
   ],
   "id": "5fa5396d266adeaa"
  },
  {
   "metadata": {},
   "cell_type": "code",
   "outputs": [],
   "execution_count": null,
   "source": [
    "mel_log, labels, gt = next(iter(rbma_loader))\n",
    "print(mel_log.shape, labels.shape, len(gt[0]))\n",
    "gt = gt[0][2:]"
   ],
   "id": "60ce5b160cbb131e"
  },
  {
   "metadata": {},
   "cell_type": "code",
   "outputs": [],
   "execution_count": null,
   "source": "next(iter(rbma_loader))",
   "id": "92ded97262d785fe"
  },
  {
   "metadata": {},
   "cell_type": "code",
   "outputs": [],
   "execution_count": null,
   "source": [
    "model = model.cuda()\n",
    "output: torch.Tensor = model(mel_log.cuda()).detach().cpu().sigmoid().squeeze(0)\n",
    "print(output.shape)"
   ],
   "id": "5566d8f8da79d58b"
  },
  {
   "metadata": {},
   "cell_type": "code",
   "outputs": [],
   "execution_count": null,
   "source": [
    "peaks = peak_pick_max_mean(output.unsqueeze(0), dataset_settings.audio_settings.sample_rate, dataset_settings.audio_settings.hop_size, dataset_settings.audio_settings.fft_size)\n",
    "for cls in peaks:\n",
    "    for peak in cls:\n",
    "        peak[0] -= dataset_settings.annotation_settings.time_shift\n",
    "_, _, _, score_sum, score_avg, _ = calculate_pr(peaks, [gt], detection_window=0.025)\n",
    "score_avg, score_sum"
   ],
   "id": "668a90331ffc6544"
  },
  {
   "metadata": {},
   "cell_type": "code",
   "outputs": [],
   "execution_count": null,
   "source": [
    "model = model.cuda()\n",
    "with torch.inference_mode():\n",
    "    segment = mel_log[..., 6200:7000]\n",
    "    print(segment.min(), segment.max())\n",
    "    segment = segment.cuda()\n",
    "    # for some reason, the output is dependent on the segment length\n",
    "    expected_output = model(segment)[..., :400].detach().cpu().squeeze(0)\n",
    "    # plt.plot(expected_output[0].numpy(), scaley=False)\n",
    "    for i in range(100):\n",
    "        # segment = (torch.rand_like(segment) * 8 + 1).log()\n",
    "        random = (torch.rand_like(segment) * 8 + 1).log()\n",
    "        in_seg = torch.concatenate([segment, random], dim=-1)\n",
    "        out_mixed = model(in_seg)[..., :400].detach().cpu().squeeze(0)\n",
    "        # plt.plot((out_mixed - expected_output).abs()[0].numpy(), scaley=True)\n",
    "        # assert torch.allclose(expected_output, out_clean, atol=1e-7), f\"{(out_clean - expected_output).abs().sum().item(), (out_clean - expected_output).argmax(dim=-1)}\"\n",
    "        assert torch.allclose(out_mixed, expected_output,\n",
    "                              atol=1e-9), f\"{(out_mixed - expected_output).abs().sum().item(), (out_mixed - expected_output).argmax(dim=-1)}\""
   ],
   "id": "4b34a74965a95da"
  },
  {
   "metadata": {},
   "cell_type": "code",
   "outputs": [],
   "execution_count": null,
   "source": [
    "gt_labels = dataset.get_labels(gt, dataset_settings.audio_settings.sample_rate, dataset_settings.audio_settings.hop_size, labels.shape[-1])\n",
    "plt.plot(output[0, 7230:7230 + 10].numpy(), scaley=False)\n",
    "plt.plot(labels[0, 0, 7230:7230 + 10].numpy(), scaley=False)\n",
    "plt.plot(gt_labels[0, 7230:7230 + 10].numpy(), scaley=False)"
   ],
   "id": "8e9d1a91a1f7c955"
  },
  {
   "metadata": {},
   "cell_type": "code",
   "outputs": [],
   "execution_count": null,
   "source": [
    "num_pos, num_neg = a2md.get_sample_distribution()\n",
    "# weights according to https://markcartwright.com/files/cartwright2018increasing.pdf section 3.4.1 Task weights\n",
    "total = (num_pos + num_neg)[0]\n",
    "print(num_pos)\n",
    "p_i = num_pos / (total * dataset_settings.annotation_settings.n_classes)\n",
    "weight = 1 / (-p_i * p_i.log() - (1 - p_i) * (1 - p_i).log())\n",
    "weight"
   ],
   "id": "3b41ea3cd5efaf7f"
  },
  {
   "metadata": {},
   "cell_type": "markdown",
   "source": "# Test Causal Blocks",
   "id": "5cffcfe789b0ba1b"
  },
  {
   "metadata": {},
   "cell_type": "code",
   "outputs": [],
   "execution_count": null,
   "source": [
    "import torch\n",
    "from model import CausalAvgPool1d, CausalConv1d, CausalConv2d, CausalMaxPool1d, ResidualBlock\n",
    "from model.cnn_feature import CNNFeature\n",
    "from functools import partial"
   ],
   "id": "cf98ae631f1cc1b4"
  },
  {
   "metadata": {},
   "cell_type": "code",
   "outputs": [],
   "execution_count": null,
   "source": [
    "blocks_to_test = [\n",
    "    partial(torch.nn.Conv2d, 100, 32, 1),\n",
    "    partial(torch.nn.MaxPool2d, kernel_size=(2, 1), stride=(2, 1)),\n",
    "    partial(torch.nn.Dropout2d, 0.3),\n",
    "    partial(ResidualBlock, 100, 10, 3),\n",
    "    partial(CNNFeature, num_channels=16, n_layers=2, down_sample_factor=2, channel_multiplication=2, activation=torch.nn.ReLU(), causal=True, dropout=0.3, in_channels=100)\n",
    "]"
   ],
   "id": "2bcff8c7af5c5840"
  },
  {
   "metadata": {},
   "cell_type": "code",
   "outputs": [],
   "execution_count": null,
   "source": [
    "torch.use_deterministic_algorithms(True)\n",
    "compare_size = 64\n",
    "for block in blocks_to_test:\n",
    "    mod = block().eval()\n",
    "    print(f\"Testing: {mod.__class__}\")\n",
    "    for name, param in mod.named_parameters():\n",
    "        # Set weights to one\n",
    "        if 'weight' in name:\n",
    "              param.data = torch.ones_like(param)\n",
    "        elif 'bias' in name:\n",
    "              param.data = torch.ones_like(param)\n",
    "    with torch.inference_mode():\n",
    "        for i in range(100):\n",
    "            a = torch.rand(1, 100, 10, compare_size)\n",
    "            b = torch.concatenate([a, torch.rand_like(a)[..., :]], dim=-1)\n",
    "            assert (mod(a)[..., :compare_size] == mod(b)[..., :compare_size]).all(), f\"Error in iteration {i}: {(mod(a)[..., :compare_size] - mod(b)[..., :compare_size]).abs().sum()}\""
   ],
   "id": "7745f3457d8e1a3d"
  },
  {
   "metadata": {},
   "cell_type": "markdown",
   "source": "# Learning rate finder",
   "id": "9d869628fc9d94c6"
  },
  {
   "metadata": {},
   "cell_type": "code",
   "outputs": [],
   "execution_count": null,
   "source": [
    "import torch\n",
    "import torch.nn as nn\n",
    "import torch.optim as optim\n",
    "from torch.utils.data import DataLoader\n",
    "from dataclasses import asdict\n",
    "\n",
    "\n",
    "from dataset.datasets import get_dataset\n",
    "from hyperparameters import final_experiment_params\n",
    "from settings import Config\n",
    "from model.CRNN import CRNN\n",
    "from model.unet import UNet\n",
    "from model.cnnM2 import CNNMambaFast\n",
    "from model.cnnM import CNNMamba\n",
    "from model.cnnA import CNNAttention\n",
    "\n",
    "from torch_lr_finder import LRFinder, TrainDataLoaderIter, ValDataLoaderIter\n",
    "import matplotlib\n",
    "matplotlib.use('TkAgg')\n",
    "import matplotlib.pyplot as plt\n"
   ],
   "id": "4fbb25ce774aa377"
  },
  {
   "metadata": {},
   "cell_type": "code",
   "outputs": [],
   "execution_count": null,
   "source": [
    "import os\n",
    "\n",
    "os.chdir(\"..\")\n",
    "# get the current working directory\n",
    "current_working_directory = os.getcwd()\n",
    "current_working_directory"
   ],
   "id": "29c1a8904df3b427"
  },
  {
   "metadata": {},
   "cell_type": "code",
   "outputs": [],
   "execution_count": null,
   "source": [
    "class CustomTrainIter(TrainDataLoaderIter):\n",
    "    def inputs_labels_from_batch(self, batch_data):\n",
    "        return batch_data[0], batch_data[1]\n",
    "\n",
    "class CustomValIter(ValDataLoaderIter):\n",
    "    def inputs_labels_from_batch(self, batch_data):\n",
    "        return batch_data[0], batch_data[1]"
   ],
   "id": "8cc4710fbdd25f4c"
  },
  {
   "metadata": {},
   "cell_type": "code",
   "outputs": [],
   "execution_count": null,
   "source": [
    "config = Config.from_flat_dict(final_experiment_params[\"Mamba fast\"])\n",
    "\n",
    "model_settings = config.model\n",
    "match config.training.model_settings:\n",
    "    case \"cnn\":\n",
    "        model = CNN(**asdict(model_settings), n_classes=config.dataset.annotation_settings.n_classes,\n",
    "                    n_mels=config.dataset.audio_settings.n_mels)\n",
    "    case \"cnn_attention\":\n",
    "        model = CNNAttention(**asdict(model_settings), n_classes=config.dataset.annotation_settings.n_classes,\n",
    "                             n_mels=config.dataset.audio_settings.n_mels)\n",
    "    case \"mamba\":\n",
    "        model = CNNMamba(**asdict(model_settings), n_classes=config.dataset.annotation_settings.n_classes,\n",
    "                         n_mels=config.dataset.audio_settings.n_mels)\n",
    "    case \"mamba_fast\":\n",
    "        model = CNNMambaFast(**asdict(model_settings), n_classes=config.dataset.annotation_settings.n_classes,\n",
    "                             n_mels=config.dataset.audio_settings.n_mels)\n",
    "    case \"unet\":\n",
    "        model = UNet(**asdict(model_settings))\n",
    "    case \"crnn\":\n",
    "        model = CRNN(**asdict(model_settings), n_classes=config.dataset.annotation_settings.n_classes,\n",
    "                     n_mels=config.dataset.audio_settings.n_mels)\n",
    "    case _:\n",
    "        raise ValueError(\"Invalid model setting\")"
   ],
   "id": "53755f1a384eab01"
  },
  {
   "metadata": {},
   "cell_type": "code",
   "outputs": [],
   "execution_count": null,
   "source": [
    "config.training.dataset_version = \"S\"\n",
    "config.training.test_sets = ()\n",
    "\n",
    "train_loader, val_loader, _ = get_dataset(config.training, config.dataset)"
   ],
   "id": "6f5590bd059f3332"
  },
  {
   "metadata": {},
   "cell_type": "code",
   "outputs": [],
   "execution_count": null,
   "source": [
    "model = model.cuda()\n",
    "\n",
    "optimizer = optim.RAdam(\n",
    "    model.parameters(),\n",
    "    lr=config.training.learning_rate,\n",
    "    betas=(config.training.beta_1, config.training.beta_2),\n",
    "    weight_decay=config.training.weight_decay,\n",
    "    decoupled_weight_decay=config.training.decoupled_weight_decay,\n",
    "    eps=config.training.epsilon,\n",
    ")\n",
    "criterion = nn.BCEWithLogitsLoss()\n",
    "\n",
    "amp_config = {\n",
    "    'device_type': 'cuda',\n",
    "    'dtype': torch.float16,\n",
    "}\n",
    "grad_scaler = torch.amp.GradScaler(\"cuda\")\n"
   ],
   "id": "f42f39a4ce629e2e"
  },
  {
   "metadata": {},
   "cell_type": "code",
   "outputs": [],
   "execution_count": null,
   "source": [
    "lr_finder = LRFinder(\n",
    "    model, optimizer, criterion, device='cuda',\n",
    "    amp_backend='torch', amp_config=amp_config, grad_scaler=grad_scaler\n",
    ")\n",
    "lr_finder.range_test(train_loader, val_loader=val_loader, start_lr=1e-6, end_lr=0.1, num_iter=100)\n",
    "lr_finder.plot() # to inspect the loss-learning rate graph\n",
    "lr_finder.reset() # to reset the model and optimizer to their initial state"
   ],
   "id": "85bd6289c29dbf9f"
  },
  {
   "metadata": {},
   "cell_type": "code",
   "outputs": [],
   "execution_count": null,
   "source": [
    "plt.plot(range(10))\n",
    "plt.show()"
   ],
   "id": "42a61320bc86a6d8"
  },
  {
   "metadata": {},
   "cell_type": "markdown",
   "source": "# Use Metadata from external Sources",
   "id": "f8b9345da6b22fd1"
  },
  {
   "metadata": {
    "ExecuteTime": {
     "end_time": "2025-07-15T20:52:44.805393Z",
     "start_time": "2025-07-15T20:52:42.364744Z"
    }
   },
   "cell_type": "code",
   "source": [
    "from dataset.A2MD import get_tracks\n",
    "import polars as pl\n",
    "import json"
   ],
   "id": "d9f52ff40a3bd6bd",
   "outputs": [],
   "execution_count": 1
  },
  {
   "metadata": {
    "ExecuteTime": {
     "end_time": "2025-07-15T20:52:44.834964Z",
     "start_time": "2025-07-15T20:52:44.826833Z"
    }
   },
   "cell_type": "code",
   "source": [
    "def get_metadata(file: str):\n",
    "    with open(f\"../metadata/{file}.json\", \"r\") as f:\n",
    "        parsed = json.load(f)\n",
    "        if parsed[\"status\"][\"msg\"] != \"Success\":\n",
    "            return None, None, None, None, None\n",
    "        metadata = parsed[\"metadata\"][\"music\"]\n",
    "        first = metadata[0]\n",
    "\n",
    "        if \"spotify\" in first[\"external_metadata\"] and len(first[\"external_metadata\"][\"spotify\"][\"artists\"]) > 0:\n",
    "            artists = [artist[\"name\"] for artist in first[\"external_metadata\"][\"spotify\"][\"artists\"]]\n",
    "        elif \"deezer\" in first[\"external_metadata\"] and len(first[\"external_metadata\"][\"deezer\"][\"artists\"]) > 0:\n",
    "            artists = [artist[\"name\"] for artist in first[\"external_metadata\"][\"deezer\"][\"artists\"]]\n",
    "        elif len(first[\"artists\"]) > 0:\n",
    "            artists = [artist[\"name\"] for artist in first[\"artists\"]]\n",
    "        else:\n",
    "            print(\"No artists found for\", file)\n",
    "        genres = [genre[\"name\"] for genre in first[\"genres\"]] if \"genres\" in first else []\n",
    "        ytb_id = first[\"external_metadata\"][\"youtube\"][\"vid\"] if \"youtube\" in first[\"external_metadata\"] else None\n",
    "        title = first[\"title\"]\n",
    "        release_date = first[\"release_date\"] if \"release_date\" in first else None\n",
    "        return artists, genres, title, ytb_id, release_date\n",
    "\n",
    "get_metadata(\"dist0p00_00000_TRRORHF128E0786C6F\")"
   ],
   "id": "9e0313ece1a34a11",
   "outputs": [
    {
     "data": {
      "text/plain": [
       "(['Young Deenay'],\n",
       " ['Hip Hop', 'Pop'],\n",
       " 'Wanna Be Your Lover - Extended Mix',\n",
       " 'bT6kGVVReYI',\n",
       " '1998-06-02')"
      ]
     },
     "execution_count": 2,
     "metadata": {},
     "output_type": "execute_result"
    }
   ],
   "execution_count": 2
  },
  {
   "metadata": {
    "ExecuteTime": {
     "end_time": "2025-07-15T20:52:48.540893Z",
     "start_time": "2025-07-15T20:52:48.490337Z"
    }
   },
   "cell_type": "code",
   "source": [
    "tracks = get_tracks(\"../data/a2md_public\")\n",
    "\n",
    "parsed_tracks = [tuple([folder, track]) for folder, track_list in tracks.items() for track in track_list]\n",
    "df = pl.DataFrame(parsed_tracks, schema=[\"folder\", \"identifier\"], orient=\"row\")"
   ],
   "id": "9ebe5bd7230c232c",
   "outputs": [],
   "execution_count": 3
  },
  {
   "metadata": {
    "ExecuteTime": {
     "end_time": "2025-07-15T20:52:58.614614Z",
     "start_time": "2025-07-15T20:52:55.771417Z"
    }
   },
   "cell_type": "code",
   "source": [
    "df = (\n",
    "    df.lazy()\n",
    "    .with_columns(args=pl.concat_list(pl.col(\"folder\") ,pl.col(\"identifier\")).list.join(\"_\"))\n",
    "    .with_columns(pl.col(\"args\").map_elements(get_metadata, return_dtype=pl.Object))\n",
    "    .with_columns(\n",
    "        artists=pl.col(\"args\").map_elements(lambda x: x[0] if x else None, return_dtype=pl.List(pl.String)),\n",
    "        genres=pl.col(\"args\").map_elements(lambda x: x[1] if x else None, return_dtype=pl.List(pl.String)),\n",
    "        title=pl.col(\"args\").map_elements(lambda x: x[2] if x else None, return_dtype=pl.String),\n",
    "        ytb_id=pl.col(\"args\").map_elements(lambda x: x[3] if x else None, return_dtype=pl.String),\n",
    "        release_date=pl.col(\"args\").map_elements(lambda x: x[4] if x else None, return_dtype=pl.String).str.to_date(strict=False),\n",
    "    )\n",
    "    .drop(\"args\")\n",
    "    .collect()\n",
    ")"
   ],
   "id": "1fbf0af7b305732a",
   "outputs": [],
   "execution_count": 4
  },
  {
   "metadata": {
    "ExecuteTime": {
     "end_time": "2025-07-15T20:53:04.485342Z",
     "start_time": "2025-07-15T20:53:04.449768Z"
    }
   },
   "cell_type": "code",
   "source": [
    "df.select(\"folder\", \"identifier\", \"genres\").explode(\"genres\").write_csv(\"../data/a2md_public/genres.csv\", include_header=True, separator=\",\")\n",
    "df.select(\"folder\", \"identifier\", \"artists\").explode(\"artists\").write_csv(\"../data/a2md_public/artists.csv\", include_header=True, separator=\",\")"
   ],
   "id": "352e940564121c06",
   "outputs": [],
   "execution_count": 5
  },
  {
   "metadata": {
    "ExecuteTime": {
     "end_time": "2025-07-28T17:02:55.883422Z",
     "start_time": "2025-07-28T17:02:55.847146Z"
    }
   },
   "cell_type": "code",
   "source": [
    "all_artists = df.select(pl.col(\"artists\").explode().str.to_lowercase()).unique().sort(\"artists\").to_series().to_list()\n",
    "df = (\n",
    "    df.lazy()\n",
    "    .explode(\"artists\")\n",
    "    .with_columns(\n",
    "        artist_id=pl.col(\"artists\").str.to_lowercase().map_elements(all_artists.index, return_dtype=pl.Int64).fill_null(0)\n",
    "    )\n",
    "    .group_by(\"folder\", \"identifier\")\n",
    "    .agg(\n",
    "        \"artists\",\n",
    "        \"artist_id\",\n",
    "        pl.col(\"title\").first(),\n",
    "        pl.col(\"ytb_id\").first(),\n",
    "        pl.col(\"release_date\").first(),\n",
    "        pl.col(\"genres\").first()\n",
    "    )\n",
    "    .collect()\n",
    ")\n",
    "max_id = len(all_artists)\n",
    "collabs = df.filter(pl.col(\"artist_id\").list.len() > 1).select(ids=\"artist_id\").unique().sort(\"ids\").to_series().to_list()\n",
    "flat_ids = sorted({iden for collab in collabs for iden in collab})\n",
    "groups = [collabs[0]]\n",
    "unfinished = collabs[1:]\n",
    "iterations_taken = 0\n",
    "while True:\n",
    "    for collab in unfinished:\n",
    "        for i, group in enumerate(groups):\n",
    "            group: list = group\n",
    "            if any([iden in group for iden in collab]):\n",
    "                groups[i] = list({*group, *collab})\n",
    "                break\n",
    "        else:\n",
    "            groups.append(collab)\n",
    "    if sum([len(group) for group in groups]) == len(flat_ids):\n",
    "        break\n",
    "    unfinished = groups[1:]\n",
    "    groups = [groups[0]]\n",
    "    iterations_taken += 1\n",
    "group_map = {iden: [iden in group for group in groups].index(True) + max_id for iden in flat_ids}\n",
    "identity = {i: i for i in range(max_id)}\n",
    "identity.update(group_map)\n",
    "group_map = identity\n",
    "\n",
    "df = (\n",
    "    df.lazy()\n",
    "    .explode(\"artist_id\")\n",
    "    .with_columns(group=pl.col(\"artist_id\").replace_strict(group_map))\n",
    "    .group_by(\"folder\", \"identifier\")\n",
    "    .agg(\n",
    "        pl.col(\"artists\").first(),\n",
    "        \"artist_id\",\n",
    "        \"group\",\n",
    "        pl.col(\"title\").first(),\n",
    "        pl.col(\"ytb_id\").first(),\n",
    "        pl.col(\"release_date\").first(),\n",
    "        pl.col(\"genres\").first()\n",
    "    )\n",
    "    .collect()\n",
    ")\n",
    "\n",
    "assert df.filter(pl.col(\"group\").list.len() > 1).select(pl.col(\"group\").list.unique()).select(pl.col(\"group\").list.len()).unique().select(pl.len())[0, 0] == 1, \"A song is in multiple groups\"\n",
    "\n",
    "df = df.with_columns(group=pl.col(\"group\").list.get(0))\n",
    "\n",
    "df.select(\"folder\", \"identifier\", \"group\").sort(\"identifier\").write_csv(\"../data/a2md_public/groups.csv\", include_header=True, separator=\",\")"
   ],
   "id": "ae0c352355aabd0a",
   "outputs": [
    {
     "ename": "NameError",
     "evalue": "name 'df' is not defined",
     "output_type": "error",
     "traceback": [
      "\u001B[0;31m---------------------------------------------------------------------------\u001B[0m",
      "\u001B[0;31mNameError\u001B[0m                                 Traceback (most recent call last)",
      "Cell \u001B[0;32mIn[44], line 1\u001B[0m\n\u001B[0;32m----> 1\u001B[0m all_artists \u001B[38;5;241m=\u001B[39m \u001B[43mdf\u001B[49m\u001B[38;5;241m.\u001B[39mselect(pl\u001B[38;5;241m.\u001B[39mcol(\u001B[38;5;124m\"\u001B[39m\u001B[38;5;124martists\u001B[39m\u001B[38;5;124m\"\u001B[39m)\u001B[38;5;241m.\u001B[39mexplode()\u001B[38;5;241m.\u001B[39mstr\u001B[38;5;241m.\u001B[39mto_lowercase())\u001B[38;5;241m.\u001B[39munique()\u001B[38;5;241m.\u001B[39msort(\u001B[38;5;124m\"\u001B[39m\u001B[38;5;124martists\u001B[39m\u001B[38;5;124m\"\u001B[39m)\u001B[38;5;241m.\u001B[39mto_series()\u001B[38;5;241m.\u001B[39mto_list()\n\u001B[1;32m      2\u001B[0m df \u001B[38;5;241m=\u001B[39m (\n\u001B[1;32m      3\u001B[0m     df\u001B[38;5;241m.\u001B[39mlazy()\n\u001B[1;32m      4\u001B[0m     \u001B[38;5;241m.\u001B[39mexplode(\u001B[38;5;124m\"\u001B[39m\u001B[38;5;124martists\u001B[39m\u001B[38;5;124m\"\u001B[39m)\n\u001B[0;32m   (...)\u001B[0m\n\u001B[1;32m     17\u001B[0m     \u001B[38;5;241m.\u001B[39mcollect()\n\u001B[1;32m     18\u001B[0m )\n\u001B[1;32m     19\u001B[0m max_id \u001B[38;5;241m=\u001B[39m \u001B[38;5;28mlen\u001B[39m(all_artists)\n",
      "\u001B[0;31mNameError\u001B[0m: name 'df' is not defined"
     ]
    }
   ],
   "execution_count": 44
  },
  {
   "metadata": {
    "ExecuteTime": {
     "end_time": "2025-07-15T20:57:00.716458Z",
     "start_time": "2025-07-15T20:57:00.686515Z"
    }
   },
   "cell_type": "code",
   "source": "df.write_parquet(\"../data/a2md_public/metadata.parquet\", compression=\"gzip\", compression_level=9)",
   "id": "bf50ec29d935d662",
   "outputs": [],
   "execution_count": 8
  },
  {
   "metadata": {
    "ExecuteTime": {
     "end_time": "2025-07-15T20:57:49.097027Z",
     "start_time": "2025-07-15T20:57:49.093074Z"
    }
   },
   "cell_type": "code",
   "source": "df",
   "id": "db36ed238085bbac",
   "outputs": [
    {
     "data": {
      "text/plain": [
       "shape: (1_565, 9)\n",
       "┌──────────┬───────────┬───────────┬───────────┬───┬───────────┬───────────┬───────────┬───────────┐\n",
       "│ folder   ┆ identifie ┆ artists   ┆ artist_id ┆ … ┆ title     ┆ ytb_id    ┆ release_d ┆ genres    │\n",
       "│ ---      ┆ r         ┆ ---       ┆ ---       ┆   ┆ ---       ┆ ---       ┆ ate       ┆ ---       │\n",
       "│ str      ┆ ---       ┆ list[str] ┆ list[i64] ┆   ┆ str       ┆ str       ┆ ---       ┆ list[str] │\n",
       "│          ┆ str       ┆           ┆           ┆   ┆           ┆           ┆ date      ┆           │\n",
       "╞══════════╪═══════════╪═══════════╪═══════════╪═══╪═══════════╪═══════════╪═══════════╪═══════════╡\n",
       "│ dist0p40 ┆ 01281_TRU ┆ [\"Depeche ┆ [180]     ┆ … ┆ Shout!    ┆ a4hwQKyT_ ┆ 1983-01-0 ┆ [\"Rock\"]  │\n",
       "│          ┆ FCVS12903 ┆ Mode\"]    ┆           ┆   ┆ (Live in  ┆ q0        ┆ 1         ┆           │\n",
       "│          ┆ C9E728    ┆           ┆           ┆   ┆ Hammersmi ┆           ┆           ┆           │\n",
       "│          ┆           ┆           ┆           ┆   ┆ th)       ┆           ┆           ┆           │\n",
       "│ dist0p40 ┆ 01012_TRB ┆ [\"Bryan   ┆ [118]     ┆ … ┆ Straight  ┆ ImCTOtOJy ┆ 2005-01-0 ┆ [\"Pop\",   │\n",
       "│          ┆ SXPE128F1 ┆ Adams\"]   ┆           ┆   ┆ From The  ┆ i0        ┆ 1         ┆ \"Rock\"]   │\n",
       "│          ┆ 453DCE    ┆           ┆           ┆   ┆ Heart     ┆           ┆           ┆           │\n",
       "│ dist0p50 ┆ 01432_TRM ┆ [\"Little  ┆ [396]     ┆ … ┆ Ridera'   ┆ Dpw95LkE9 ┆ 2012-10-1 ┆ [\"Pop -   │\n",
       "│          ┆ KWQX128F4 ┆ Tony\"]    ┆           ┆   ┆           ┆ Rc        ┆ 2         ┆ Italo\"]   │\n",
       "│          ┆ 251C93    ┆           ┆           ┆   ┆           ┆           ┆           ┆           │\n",
       "│ dist0p40 ┆ 01036_TRU ┆ [\"Subsoni ┆ [625]     ┆ … ┆ Nuova Oss ┆ WEOGrMVRD ┆ 2006-12-1 ┆ [\"Alterna │\n",
       "│          ┆ URXI128F1 ┆ ca\"]      ┆           ┆   ┆ essione   ┆ Xk        ┆ 1         ┆ tive\",    │\n",
       "│          ┆ 494970    ┆           ┆           ┆   ┆           ┆           ┆           ┆ \"Pop\"]    │\n",
       "│ dist0p40 ┆ 01149_TRD ┆ [\"Rose    ┆ [559]     ┆ … ┆ Car Wash  ┆ PkxaunLyb ┆ 2007-01-0 ┆ [\"Pop\",   │\n",
       "│          ┆ GCIZ128F1 ┆ Royce\"]   ┆           ┆   ┆           ┆ uM        ┆ 1         ┆ \"Rock\"]   │\n",
       "│          ┆ 4640CE    ┆           ┆           ┆   ┆           ┆           ┆           ┆           │\n",
       "│ …        ┆ …         ┆ …         ┆ …         ┆ … ┆ …         ┆ …         ┆ …         ┆ …         │\n",
       "│ dist0p30 ┆ 00951_TRW ┆ [\"Brooks  ┆ [115]     ┆ … ┆ Little    ┆ kCmi7RAUD ┆ 2012-06-1 ┆ [\"Country │\n",
       "│          ┆ FHWK128F9 ┆ & Dunn\"]  ┆           ┆   ┆ Miss      ┆ no        ┆ 2         ┆ \"]        │\n",
       "│          ┆ 305E83    ┆           ┆           ┆   ┆ Honky     ┆           ┆           ┆           │\n",
       "│          ┆           ┆           ┆           ┆   ┆ Tonk      ┆           ┆           ┆           │\n",
       "│ dist0p20 ┆ 00300_TRM ┆ [\"Michael ┆ [445]     ┆ … ┆ Haven't   ┆ 1AJmKkU5P ┆ 2009-10-0 ┆ [\"Pop\"]   │\n",
       "│          ┆ RHAD12903 ┆ Bublé\"]   ┆           ┆   ┆ Met You   ┆ OA        ┆ 6         ┆           │\n",
       "│          ┆ CC0130    ┆           ┆           ┆   ┆ Yet       ┆           ┆           ┆           │\n",
       "│ dist0p40 ┆ 01293_TRW ┆ [\"Sam &   ┆ [571]     ┆ … ┆ I Thank   ┆ null      ┆ 2018-10-1 ┆ [\"R & B\"] │\n",
       "│          ┆ MAAQ128EF ┆ Dave\"]    ┆           ┆   ┆ You       ┆           ┆ 9         ┆           │\n",
       "│          ┆ 344587    ┆           ┆           ┆   ┆           ┆           ┆           ┆           │\n",
       "│ dist0p40 ┆ 01257_TRR ┆ [\"Blackst ┆ [87]      ┆ … ┆ Good      ┆ TEywd4I_j ┆ 1996-01-0 ┆ [\"Pop\"]   │\n",
       "│          ┆ RYBV128E0 ┆ reet\"]    ┆           ┆   ┆ Lovin'    ┆ X0        ┆ 1         ┆           │\n",
       "│          ┆ 793857    ┆           ┆           ┆   ┆           ┆           ┆           ┆           │\n",
       "│ dist0p30 ┆ 00682_TRB ┆ [\"Britney ┆ [114]     ┆ … ┆ Oops!...  ┆ CduA0TULn ┆ 2013-05-2 ┆ [\"Pop\"]   │\n",
       "│          ┆ AUVN128F9 ┆ Spears\"]  ┆           ┆   ┆ I Did It  ┆ ow        ┆ 4         ┆           │\n",
       "│          ┆ 32FEF8    ┆           ┆           ┆   ┆ Again     ┆           ┆           ┆           │\n",
       "└──────────┴───────────┴───────────┴───────────┴───┴───────────┴───────────┴───────────┴───────────┘"
      ],
      "text/html": [
       "<div><style>\n",
       ".dataframe > thead > tr,\n",
       ".dataframe > tbody > tr {\n",
       "  text-align: right;\n",
       "  white-space: pre-wrap;\n",
       "}\n",
       "</style>\n",
       "<small>shape: (1_565, 9)</small><table border=\"1\" class=\"dataframe\"><thead><tr><th>folder</th><th>identifier</th><th>artists</th><th>artist_id</th><th>group</th><th>title</th><th>ytb_id</th><th>release_date</th><th>genres</th></tr><tr><td>str</td><td>str</td><td>list[str]</td><td>list[i64]</td><td>i64</td><td>str</td><td>str</td><td>date</td><td>list[str]</td></tr></thead><tbody><tr><td>&quot;dist0p40&quot;</td><td>&quot;01281_TRUFCVS12903C9E728&quot;</td><td>[&quot;Depeche Mode&quot;]</td><td>[180]</td><td>785</td><td>&quot;Shout! (Live in Hammersmith)&quot;</td><td>&quot;a4hwQKyT_q0&quot;</td><td>1983-01-01</td><td>[&quot;Rock&quot;]</td></tr><tr><td>&quot;dist0p40&quot;</td><td>&quot;01012_TRBSXPE128F1453DCE&quot;</td><td>[&quot;Bryan Adams&quot;]</td><td>[118]</td><td>783</td><td>&quot;Straight From The Heart&quot;</td><td>&quot;ImCTOtOJyi0&quot;</td><td>2005-01-01</td><td>[&quot;Pop&quot;, &quot;Rock&quot;]</td></tr><tr><td>&quot;dist0p50&quot;</td><td>&quot;01432_TRMKWQX128F4251C93&quot;</td><td>[&quot;Little Tony&quot;]</td><td>[396]</td><td>396</td><td>&quot;Ridera&#x27;&quot;</td><td>&quot;Dpw95LkE9Rc&quot;</td><td>2012-10-12</td><td>[&quot;Pop - Italo&quot;]</td></tr><tr><td>&quot;dist0p40&quot;</td><td>&quot;01036_TRUURXI128F1494970&quot;</td><td>[&quot;Subsonica&quot;]</td><td>[625]</td><td>625</td><td>&quot;Nuova Ossessione&quot;</td><td>&quot;WEOGrMVRDXk&quot;</td><td>2006-12-11</td><td>[&quot;Alternative&quot;, &quot;Pop&quot;]</td></tr><tr><td>&quot;dist0p40&quot;</td><td>&quot;01149_TRDGCIZ128F14640CE&quot;</td><td>[&quot;Rose Royce&quot;]</td><td>[559]</td><td>559</td><td>&quot;Car Wash&quot;</td><td>&quot;PkxaunLybuM&quot;</td><td>2007-01-01</td><td>[&quot;Pop&quot;, &quot;Rock&quot;]</td></tr><tr><td>&hellip;</td><td>&hellip;</td><td>&hellip;</td><td>&hellip;</td><td>&hellip;</td><td>&hellip;</td><td>&hellip;</td><td>&hellip;</td><td>&hellip;</td></tr><tr><td>&quot;dist0p30&quot;</td><td>&quot;00951_TRWFHWK128F9305E83&quot;</td><td>[&quot;Brooks &amp; Dunn&quot;]</td><td>[115]</td><td>115</td><td>&quot;Little Miss Honky Tonk&quot;</td><td>&quot;kCmi7RAUDno&quot;</td><td>2012-06-12</td><td>[&quot;Country&quot;]</td></tr><tr><td>&quot;dist0p20&quot;</td><td>&quot;00300_TRMRHAD12903CC0130&quot;</td><td>[&quot;Michael Bublé&quot;]</td><td>[445]</td><td>445</td><td>&quot;Haven&#x27;t Met You Yet&quot;</td><td>&quot;1AJmKkU5POA&quot;</td><td>2009-10-06</td><td>[&quot;Pop&quot;]</td></tr><tr><td>&quot;dist0p40&quot;</td><td>&quot;01293_TRWMAAQ128EF344587&quot;</td><td>[&quot;Sam &amp; Dave&quot;]</td><td>[571]</td><td>571</td><td>&quot;I Thank You&quot;</td><td>null</td><td>2018-10-19</td><td>[&quot;R &amp; B&quot;]</td></tr><tr><td>&quot;dist0p40&quot;</td><td>&quot;01257_TRRRYBV128E0793857&quot;</td><td>[&quot;Blackstreet&quot;]</td><td>[87]</td><td>87</td><td>&quot;Good Lovin&#x27;&quot;</td><td>&quot;TEywd4I_jX0&quot;</td><td>1996-01-01</td><td>[&quot;Pop&quot;]</td></tr><tr><td>&quot;dist0p30&quot;</td><td>&quot;00682_TRBAUVN128F932FEF8&quot;</td><td>[&quot;Britney Spears&quot;]</td><td>[114]</td><td>114</td><td>&quot;Oops!... I Did It Again&quot;</td><td>&quot;CduA0TULnow&quot;</td><td>2013-05-24</td><td>[&quot;Pop&quot;]</td></tr></tbody></table></div>"
      ]
     },
     "execution_count": 9,
     "metadata": {},
     "output_type": "execute_result"
    }
   ],
   "execution_count": 9
  },
  {
   "metadata": {},
   "cell_type": "markdown",
   "source": "# Inspect A2MD Splits",
   "id": "a1943b05b85aa6a1"
  },
  {
   "metadata": {
    "ExecuteTime": {
     "end_time": "2025-08-13T02:01:24.867123Z",
     "start_time": "2025-08-13T02:01:24.865072Z"
    }
   },
   "cell_type": "code",
   "source": [
    "import os\n",
    "os.chdir(\"..\")"
   ],
   "id": "7a2e8de9ac9856f6",
   "outputs": [],
   "execution_count": 1
  },
  {
   "metadata": {
    "ExecuteTime": {
     "end_time": "2025-08-13T02:01:26.602286Z",
     "start_time": "2025-08-13T02:01:24.878016Z"
    }
   },
   "cell_type": "code",
   "source": [
    "from dataset.A2MD import get_splits, get_annotation\n",
    "import polars as pl\n",
    "import polars.selectors as cs\n",
    "from dataset.mapping import DrumMapping\n",
    "from itertools import combinations\n",
    "from sklearn.model_selection import KFold\n",
    "import numpy as np\n",
    "from typing import Iterable"
   ],
   "id": "adbaabed24b6a801",
   "outputs": [],
   "execution_count": 2
  },
  {
   "metadata": {
    "ExecuteTime": {
     "end_time": "2025-08-13T02:01:28.919515Z",
     "start_time": "2025-08-13T02:01:28.860333Z"
    }
   },
   "cell_type": "code",
   "source": "groups = pl.read_csv(\"./data/a2md_public/groups.csv\", separator=\",\", has_header=True).with_columns(group=pl.col(\"group\").cast(pl.Int64))",
   "id": "ff9f0463a849cfeb",
   "outputs": [],
   "execution_count": 3
  },
  {
   "metadata": {
    "ExecuteTime": {
     "end_time": "2025-08-13T02:02:58.254468Z",
     "start_time": "2025-08-13T02:01:29.520160Z"
    }
   },
   "cell_type": "code",
   "source": [
    "identifiers = groups.select(\"folder\", \"identifier\").unique().sort(\"identifier\").to_dict()\n",
    "annotations = {\n",
    "    identifier: get_annotation(\"./data/a2md_public\", folder, identifier, DrumMapping.THREE_CLASS) for folder, identifier in zip(identifiers[\"folder\"], identifiers[\"identifier\"])\n",
    "}\n",
    "class_names = [DrumMapping.THREE_CLASS.get_name(i) for i in range(len(DrumMapping.THREE_CLASS))]\n",
    "annotations = [(identifier, *[len(ann) for ann in annotation[1]], *[len(ann) for ann in annotation[2]]) for identifier, annotation in annotations.items() if annotation is not None]\n",
    "annotations = pl.DataFrame(annotations, schema=[\"identifier\", *class_names, \"down_beat\", \"beat\"], orient=\"row\")"
   ],
   "id": "b42fc56ab3483bf1",
   "outputs": [],
   "execution_count": 4
  },
  {
   "metadata": {},
   "cell_type": "code",
   "source": "possible_seeds = sorted(set([get_splits(\"S\",  [0.8, 0.2, 0.], \"../data/a2md_public\", seed=seed, return_seed=True)[1] for seed in range(1000)]))",
   "id": "cd394d3ed8282b0f",
   "outputs": [],
   "execution_count": null
  },
  {
   "metadata": {},
   "cell_type": "code",
   "source": "splits = {seed: get_splits(\"S\", [0.8, 0.2, 0.], \"../data/a2md_public\", seed=seed, return_seed=False) for seed in possible_seeds}",
   "id": "e2f19c34386681d3",
   "outputs": [],
   "execution_count": null
  },
  {
   "metadata": {
    "ExecuteTime": {
     "end_time": "2025-07-28T16:22:11.130732Z",
     "start_time": "2025-07-28T16:22:11.127224Z"
    }
   },
   "cell_type": "code",
   "outputs": [],
   "execution_count": 3,
   "source": [
    "def get_group(identifier: str, _groups: pl.DataFrame) -> int:\n",
    "    group = _groups.lazy().filter(pl.col(\"identifier\") == identifier).select(\"group\").collect().to_series().to_list()\n",
    "    if len(group) == 0:\n",
    "        return -1\n",
    "    return group[0]"
   ],
   "id": "e8b3627ef666dd2f"
  },
  {
   "metadata": {
    "ExecuteTime": {
     "end_time": "2025-07-24T14:04:12.854644Z",
     "start_time": "2025-07-24T14:04:12.800995Z"
    }
   },
   "cell_type": "code",
   "outputs": [],
   "execution_count": 23,
   "source": [
    "flat_splits = [(seed, folder, identifier, \"train\") for seed in possible_seeds for folder, idens in splits[seed][0].items() for identifier in idens] + \\\n",
    "              [(seed, folder, identifier, \"val\") for seed in possible_seeds for folder, idens in splits[seed][1].items() for identifier in idens] + \\\n",
    "              [(seed, folder, identifier, \"test\") for seed in possible_seeds for folder, idens in splits[seed][2].items() for identifier in idens]\n",
    "flat_splits = pl.DataFrame(flat_splits, schema=[\"seed\", \"folder\", \"identifier\", \"split\"], orient=\"row\")\n",
    "flat_splits = flat_splits.join(groups, on=(\"folder\", \"identifier\"), how=\"inner\", validate=\"m:1\")"
   ],
   "id": "9bdab56b16bd2db2"
  },
  {
   "metadata": {
    "ExecuteTime": {
     "end_time": "2025-07-24T18:29:21.598235Z",
     "start_time": "2025-07-24T18:29:21.589987Z"
    }
   },
   "cell_type": "code",
   "source": "flat_splits = flat_splits.join(annotations, on=\"identifier\", how=\"inner\", validate=\"m:1\")",
   "id": "60c568d3900af322",
   "outputs": [],
   "execution_count": 52
  },
  {
   "metadata": {
    "ExecuteTime": {
     "end_time": "2025-07-24T19:08:27.869236Z",
     "start_time": "2025-07-24T19:08:27.840461Z"
    }
   },
   "cell_type": "code",
   "source": [
    "ratios = flat_splits.group_by(\"seed\", \"split\").agg(\n",
    "    pl.col(*class_names).sum(),\n",
    ").with_columns(\n",
    "    total=pl.sum_horizontal(*class_names)\n",
    ").with_columns(\n",
    "    (pl.col(*class_names) / pl.col(\"total\") * 100)\n",
    ").sort(\"seed\", \"split\")"
   ],
   "id": "cb49e0b56739577d",
   "outputs": [],
   "execution_count": 67
  },
  {
   "metadata": {
    "ExecuteTime": {
     "end_time": "2025-07-24T21:43:36.977457Z",
     "start_time": "2025-07-24T21:43:36.969299Z"
    }
   },
   "cell_type": "code",
   "source": [
    "ratios.group_by(\"seed\").agg(\n",
    "    pl.col(class_names).std()\n",
    ")"
   ],
   "id": "22474587382a21a2",
   "outputs": [
    {
     "data": {
      "text/plain": [
       "shape: (179, 4)\n",
       "┌──────┬──────────┬──────────┬──────────┐\n",
       "│ seed ┆ BD       ┆ SD       ┆ HH       │\n",
       "│ ---  ┆ ---      ┆ ---      ┆ ---      │\n",
       "│ i64  ┆ f64      ┆ f64      ┆ f64      │\n",
       "╞══════╪══════════╪══════════╪══════════╡\n",
       "│ 9    ┆ 1.649048 ┆ 0.345792 ┆ 1.99484  │\n",
       "│ 12   ┆ 0.807109 ┆ 1.968988 ┆ 1.161879 │\n",
       "│ 21   ┆ 1.645274 ┆ 0.990823 ┆ 0.654451 │\n",
       "│ 23   ┆ 3.928319 ┆ 0.173146 ┆ 3.755173 │\n",
       "│ 26   ┆ 1.013447 ┆ 0.581445 ┆ 1.594892 │\n",
       "│ …    ┆ …        ┆ …        ┆ …        │\n",
       "│ 975  ┆ 1.81161  ┆ 3.033956 ┆ 1.222346 │\n",
       "│ 982  ┆ 1.245749 ┆ 0.675034 ┆ 0.570715 │\n",
       "│ 989  ┆ 1.375396 ┆ 0.259135 ┆ 1.116261 │\n",
       "│ 995  ┆ 0.245936 ┆ 1.706094 ┆ 1.952029 │\n",
       "│ 1006 ┆ 1.629513 ┆ 1.107687 ┆ 2.737201 │\n",
       "└──────┴──────────┴──────────┴──────────┘"
      ],
      "text/html": [
       "<div><style>\n",
       ".dataframe > thead > tr,\n",
       ".dataframe > tbody > tr {\n",
       "  text-align: right;\n",
       "  white-space: pre-wrap;\n",
       "}\n",
       "</style>\n",
       "<small>shape: (179, 4)</small><table border=\"1\" class=\"dataframe\"><thead><tr><th>seed</th><th>BD</th><th>SD</th><th>HH</th></tr><tr><td>i64</td><td>f64</td><td>f64</td><td>f64</td></tr></thead><tbody><tr><td>9</td><td>1.649048</td><td>0.345792</td><td>1.99484</td></tr><tr><td>12</td><td>0.807109</td><td>1.968988</td><td>1.161879</td></tr><tr><td>21</td><td>1.645274</td><td>0.990823</td><td>0.654451</td></tr><tr><td>23</td><td>3.928319</td><td>0.173146</td><td>3.755173</td></tr><tr><td>26</td><td>1.013447</td><td>0.581445</td><td>1.594892</td></tr><tr><td>&hellip;</td><td>&hellip;</td><td>&hellip;</td><td>&hellip;</td></tr><tr><td>975</td><td>1.81161</td><td>3.033956</td><td>1.222346</td></tr><tr><td>982</td><td>1.245749</td><td>0.675034</td><td>0.570715</td></tr><tr><td>989</td><td>1.375396</td><td>0.259135</td><td>1.116261</td></tr><tr><td>995</td><td>0.245936</td><td>1.706094</td><td>1.952029</td></tr><tr><td>1006</td><td>1.629513</td><td>1.107687</td><td>2.737201</td></tr></tbody></table></div>"
      ]
     },
     "execution_count": 142,
     "metadata": {},
     "output_type": "execute_result"
    }
   ],
   "execution_count": 142
  },
  {
   "metadata": {
    "ExecuteTime": {
     "end_time": "2025-07-24T21:45:10.751142Z",
     "start_time": "2025-07-24T21:45:08.329648Z"
    }
   },
   "cell_type": "code",
   "source": [
    "seeded_groups = flat_splits.group_by(\"seed\", \"split\").agg(\n",
    "    pl.col(\"group\")\n",
    ").filter(\n",
    "    pl.col(\"split\") == \"val\"\n",
    ").select(\n",
    "    \"seed\", \"group\"\n",
    ").to_dict(as_series=False)\n",
    "seeded_groups = zip(seeded_groups[\"seed\"], seeded_groups[\"group\"])\n",
    "overlap_count = []\n",
    "current_min = 99999999\n",
    "for combination in combinations(seeded_groups, 3):\n",
    "    overlapping = len(set([iden for seed, group in combination for iden in group]))\n",
    "    current_min = min(current_min, overlapping)\n",
    "    if overlapping < current_min * 1.05:\n",
    "        overlap_count.append((*(list(zip(*combination))[0]), overlapping))"
   ],
   "id": "e704f08aa52175bb",
   "outputs": [],
   "execution_count": 144
  },
  {
   "metadata": {
    "ExecuteTime": {
     "end_time": "2025-07-24T19:50:26.781254Z",
     "start_time": "2025-07-24T19:50:26.773186Z"
    }
   },
   "cell_type": "code",
   "source": "np.argpartition(np.array(overlap_count)[:, -1], -10)[-10:]",
   "id": "6c6347737605d87a",
   "outputs": [
    {
     "data": {
      "text/plain": [
       "array([ 2, 14,  3,  7, 16,  8, 10, 11, 15,  0])"
      ]
     },
     "execution_count": 106,
     "metadata": {},
     "output_type": "execute_result"
    }
   ],
   "execution_count": 106
  },
  {
   "metadata": {
    "ExecuteTime": {
     "end_time": "2025-07-24T21:45:13.957485Z",
     "start_time": "2025-07-24T21:45:13.952950Z"
    }
   },
   "cell_type": "code",
   "source": "np.array(overlap_count)",
   "id": "1d816395c9378ca5",
   "outputs": [
    {
     "data": {
      "text/plain": [
       "array([[184, 952, 210,  64],\n",
       "       [184, 952, 884,  64],\n",
       "       [184, 952,  82,  67],\n",
       "       [184, 952, 493,  67],\n",
       "       [184, 952, 536,  67],\n",
       "       [184, 952,  49,  66],\n",
       "       [184, 952, 564,  66],\n",
       "       [184, 952, 982,  62],\n",
       "       [184, 952, 695,  65],\n",
       "       [184, 952, 758,  65],\n",
       "       [184, 952, 906,  65],\n",
       "       [184, 952, 638,  65],\n",
       "       [184, 952, 961,  63],\n",
       "       [184, 952, 911,  64],\n",
       "       [184, 952, 879,  65],\n",
       "       [184, 952, 490,  65],\n",
       "       [184, 952, 450,  63],\n",
       "       [184, 952, 577,  65],\n",
       "       [184, 952, 215,  63],\n",
       "       [184, 952, 561,  65],\n",
       "       [184, 952, 355,  64],\n",
       "       [184, 952, 684,  64],\n",
       "       [184, 952, 900,  65],\n",
       "       [184, 952, 989,  65],\n",
       "       [184, 952, 121,  65],\n",
       "       [184, 952, 737,  62],\n",
       "       [184, 952, 623,  65],\n",
       "       [184, 952, 460,  64],\n",
       "       [184, 952, 614,  65],\n",
       "       [184, 952,  60,  64],\n",
       "       [184, 952, 252,  64],\n",
       "       [184, 952, 662,  61],\n",
       "       [184, 952, 939,  64],\n",
       "       [184, 952, 605,  64],\n",
       "       [184, 952, 934,  64],\n",
       "       [184, 952,  89,  62],\n",
       "       [184, 952, 432,  64],\n",
       "       [184, 952,  84,  63],\n",
       "       [184, 952,  21,  63],\n",
       "       [184, 952, 588,  64],\n",
       "       [184, 952, 606,  63],\n",
       "       [184, 952, 217,  63],\n",
       "       [184, 952, 958,  63],\n",
       "       [184, 952, 736,  60],\n",
       "       [184, 952, 452,  62],\n",
       "       [184, 884, 450,  62],\n",
       "       [184, 884, 215,  62],\n",
       "       [184, 884, 724,  62],\n",
       "       [184,  82, 510,  62],\n",
       "       [184, 536, 354,  62],\n",
       "       [184,  49, 311,  61],\n",
       "       [184, 287, 662,  62],\n",
       "       [184, 982, 911,  62],\n",
       "       [184, 982, 606,  62],\n",
       "       [184, 982, 868,  62],\n",
       "       [184, 982, 361,  62],\n",
       "       [184, 354, 963,  62],\n",
       "       [184, 354, 911,  62],\n",
       "       [184, 354, 450,  61],\n",
       "       [184, 354,  60,  62],\n",
       "       [184, 354, 713,  62],\n",
       "       [184, 354, 252,  62],\n",
       "       [184, 354, 662,  61],\n",
       "       [184, 354, 948,  62],\n",
       "       [184, 354,  21,  62],\n",
       "       [184, 354, 736,  62],\n",
       "       [184, 354, 136,  62],\n",
       "       [184, 354, 510,  62],\n",
       "       [184, 354, 330,  62],\n",
       "       [184, 354, 548,  59],\n",
       "       [184, 354, 741,  61],\n",
       "       [184, 771, 450,  61],\n",
       "       [184, 771,  21,  61],\n",
       "       [184, 638, 450,  61],\n",
       "       [184, 638, 623,  60],\n",
       "       [184, 638, 605,  61],\n",
       "       [184, 638, 588,  60],\n",
       "       [184, 911, 510,  61],\n",
       "       [184, 241, 450,  61],\n",
       "       [184, 241,  21,  61],\n",
       "       [184, 450, 215,  60],\n",
       "       [184, 450, 355,  61],\n",
       "       [184, 450, 655,  60],\n",
       "       [184, 450, 614,  60],\n",
       "       [184, 450, 662,  58],\n",
       "       [184, 450,  30,  60],\n",
       "       [184, 655, 662,  60],\n",
       "       [184, 623, 662,  60],\n",
       "       [184, 662,  21,  60],\n",
       "       [184, 662, 789,  59],\n",
       "       [184, 662, 510,  60],\n",
       "       [184, 662, 330,  60],\n",
       "       [184,  21, 736,  60],\n",
       "       [184, 958, 510,  60],\n",
       "       [952, 210, 217,  60],\n",
       "       [952, 210, 974,  60],\n",
       "       [952, 210, 531,  60],\n",
       "       [952, 884, 134,  60],\n",
       "       [952, 536, 217,  59],\n",
       "       [952, 982, 934,  60],\n",
       "       [952, 982, 606,  60],\n",
       "       [952, 982, 217,  60],\n",
       "       [952, 695, 121,  59],\n",
       "       [952, 695, 217,  60],\n",
       "       [952, 695, 646,  60],\n",
       "       [952, 963, 217,  59],\n",
       "       [952, 963, 134,  59],\n",
       "       [952, 481, 101,  59],\n",
       "       [952, 481, 289,  60],\n",
       "       [952, 514, 217,  60],\n",
       "       [952, 514,  23,  60],\n",
       "       [952, 758, 737,  60],\n",
       "       [952, 961, 531,  60],\n",
       "       [952,  99, 989,  58],\n",
       "       [952, 739, 989,  60],\n",
       "       [952, 739, 217,  60],\n",
       "       [952, 561, 217,  59],\n",
       "       [952, 355, 217,  59],\n",
       "       [952, 873, 217,  60],\n",
       "       [952, 684, 101,  60],\n",
       "       [952, 900, 134,  60],\n",
       "       [952, 900, 320,  60],\n",
       "       [952, 989, 217,  58],\n",
       "       [952, 655, 665,  60],\n",
       "       [952, 655, 974,  60],\n",
       "       [952, 737,  89,  59],\n",
       "       [952, 960, 217,  60],\n",
       "       [952,  60, 217,  57],\n",
       "       [952, 252, 134,  59],\n",
       "       [952, 327, 217,  59],\n",
       "       [952,  89,  84,  59],\n",
       "       [952,  89, 217,  59],\n",
       "       [952,  89,  23,  58],\n",
       "       [952,  84, 217,  58],\n",
       "       [952, 606, 217,  58],\n",
       "       [952, 217, 958,  59],\n",
       "       [952, 217, 736,  57],\n",
       "       [952, 217, 134,  55],\n",
       "       [493, 655, 974,  57],\n",
       "       [536, 213, 548,  57],\n",
       "       [695,   9, 646,  57],\n",
       "       [695,  61, 646,  56],\n",
       "       [354, 524, 391,  57],\n",
       "       [354, 213, 548,  57],\n",
       "       [822, 327, 622,  57],\n",
       "       [481, 101, 289,  56],\n",
       "       [975, 584, 960,  57],\n",
       "       [771,  35, 237,  56],\n",
       "       [299, 655, 665,  57],\n",
       "       [ 99, 655, 665,  57],\n",
       "       [823,  61, 646,  57],\n",
       "       [241, 605, 646,  57],\n",
       "       [241,  61, 646,  56],\n",
       "       [241, 389, 724,  57],\n",
       "       [575, 873, 933,  57],\n",
       "       [371, 855, 214,  57],\n",
       "       [215, 355, 510,  57],\n",
       "       [215, 432, 719,  56],\n",
       "       [215, 958, 510,  57],\n",
       "       [561, 958, 510,  57],\n",
       "       [355, 958, 510,  57],\n",
       "       [873, 161,  26,  55],\n",
       "       [873, 213, 373,  57],\n",
       "       [161, 560, 548,  57],\n",
       "       [161, 461,  26,  56],\n",
       "       [161,  26, 566,  56],\n",
       "       [605,  61, 646,  56],\n",
       "       [858, 855, 933,  57],\n",
       "       [213, 560, 548,  57],\n",
       "       [560, 824, 193,  56],\n",
       "       [ 61, 719, 646,  57],\n",
       "       [136, 548, 509,  57],\n",
       "       [ 35, 193, 781,  57]])"
      ]
     },
     "execution_count": 145,
     "metadata": {},
     "output_type": "execute_result"
    }
   ],
   "execution_count": 145
  },
  {
   "metadata": {},
   "cell_type": "markdown",
   "source": "## Create K-Fold Splits",
   "id": "deb8691f6c22eb97"
  },
  {
   "metadata": {
    "ExecuteTime": {
     "end_time": "2025-07-28T22:37:27.586880Z",
     "start_time": "2025-07-28T22:37:27.581780Z"
    }
   },
   "cell_type": "code",
   "source": "group_ids = np.array(groups.select(\"group\").unique().sort(\"group\").to_series().to_list())",
   "id": "c3a10441ea153e4d",
   "outputs": [],
   "execution_count": 30
  },
  {
   "metadata": {
    "ExecuteTime": {
     "end_time": "2025-07-28T22:13:45.693079Z",
     "start_time": "2025-07-28T22:13:45.689192Z"
    }
   },
   "cell_type": "code",
   "source": [
    "def count_folders(_groups: pl.DataFrame, group_ids: list[int]) -> dict[int, int]:\n",
    "    folders = _groups.lazy().select(\"folder\").unique().sort(\"folder\").collect().to_series().to_list()\n",
    "    folder_counts = {folder: 0 for folder in folders}\n",
    "    for folder in folders:\n",
    "        folder_counts[folder] = _groups.lazy().filter(pl.col(\"folder\") == folder).filter(pl.col(\"group\").is_in(group_ids)).select(pl.len()).collect().to_series().to_list()[0]\n",
    "    return folder_counts"
   ],
   "id": "a77e2740fbae74d4",
   "outputs": [],
   "execution_count": 6
  },
  {
   "metadata": {
    "ExecuteTime": {
     "end_time": "2025-07-28T23:39:04.665736Z",
     "start_time": "2025-07-28T23:17:15.839510Z"
    }
   },
   "cell_type": "code",
   "source": [
    "n_folds = 10\n",
    "\n",
    "folder_dist = [(seed, fold, *list(count_folders(groups, group_ids[val]).values())) for seed in range(10000) for fold, (train, val) in enumerate(KFold(n_splits=n_folds, shuffle=True, random_state=seed).split(group_ids))]\n",
    "folder_dist = pl.DataFrame(folder_dist, schema=[\"seed\", \"fold\", *groups.select(\"folder\").unique().sort(\"folder\").to_series().to_list()], orient=\"row\")"
   ],
   "id": "c2aa1cf74b686e1",
   "outputs": [],
   "execution_count": 80
  },
  {
   "metadata": {
    "ExecuteTime": {
     "end_time": "2025-07-28T23:39:04.734280Z",
     "start_time": "2025-07-28T23:39:04.716166Z"
    }
   },
   "cell_type": "code",
   "source": [
    "window_to_consider = 100\n",
    "folder_deviance = (\n",
    "    folder_dist.lazy()\n",
    "    .group_by(\"seed\")\n",
    "    .agg(\n",
    "        cs.starts_with(\"dist\").std(),\n",
    "    ).select(\n",
    "        \"seed\",\n",
    "        mean_folder_deviance=pl.mean_horizontal(cs.starts_with(\"dist\"))\n",
    "    ).sort(\"mean_folder_deviance\")\n",
    "    .head(window_to_consider)\n",
    "    .with_row_index(\"folder_rank\")\n",
    "    .collect()\n",
    ")\n",
    "selected_seeds = folder_deviance.select(\"seed\").to_series().to_list()"
   ],
   "id": "7574e38e6ef2374e",
   "outputs": [],
   "execution_count": 81
  },
  {
   "metadata": {
    "ExecuteTime": {
     "end_time": "2025-07-28T23:39:04.782572Z",
     "start_time": "2025-07-28T23:39:04.777033Z"
    }
   },
   "cell_type": "code",
   "source": "folder_deviance",
   "id": "4e39278c32f0d063",
   "outputs": [
    {
     "data": {
      "text/plain": [
       "shape: (100, 3)\n",
       "┌─────────────┬──────┬──────────────────────┐\n",
       "│ folder_rank ┆ seed ┆ mean_folder_deviance │\n",
       "│ ---         ┆ ---  ┆ ---                  │\n",
       "│ u32         ┆ i64  ┆ f64                  │\n",
       "╞═════════════╪══════╪══════════════════════╡\n",
       "│ 0           ┆ 7301 ┆ 3.272586             │\n",
       "│ 1           ┆ 9777 ┆ 3.522954             │\n",
       "│ 2           ┆ 4616 ┆ 3.588141             │\n",
       "│ 3           ┆ 2515 ┆ 3.626523             │\n",
       "│ 4           ┆ 3995 ┆ 3.679613             │\n",
       "│ …           ┆ …    ┆ …                    │\n",
       "│ 95          ┆ 6532 ┆ 4.023204             │\n",
       "│ 96          ┆ 1631 ┆ 4.023393             │\n",
       "│ 97          ┆ 662  ┆ 4.025235             │\n",
       "│ 98          ┆ 9022 ┆ 4.025997             │\n",
       "│ 99          ┆ 4124 ┆ 4.026027             │\n",
       "└─────────────┴──────┴──────────────────────┘"
      ],
      "text/html": [
       "<div><style>\n",
       ".dataframe > thead > tr,\n",
       ".dataframe > tbody > tr {\n",
       "  text-align: right;\n",
       "  white-space: pre-wrap;\n",
       "}\n",
       "</style>\n",
       "<small>shape: (100, 3)</small><table border=\"1\" class=\"dataframe\"><thead><tr><th>folder_rank</th><th>seed</th><th>mean_folder_deviance</th></tr><tr><td>u32</td><td>i64</td><td>f64</td></tr></thead><tbody><tr><td>0</td><td>7301</td><td>3.272586</td></tr><tr><td>1</td><td>9777</td><td>3.522954</td></tr><tr><td>2</td><td>4616</td><td>3.588141</td></tr><tr><td>3</td><td>2515</td><td>3.626523</td></tr><tr><td>4</td><td>3995</td><td>3.679613</td></tr><tr><td>&hellip;</td><td>&hellip;</td><td>&hellip;</td></tr><tr><td>95</td><td>6532</td><td>4.023204</td></tr><tr><td>96</td><td>1631</td><td>4.023393</td></tr><tr><td>97</td><td>662</td><td>4.025235</td></tr><tr><td>98</td><td>9022</td><td>4.025997</td></tr><tr><td>99</td><td>4124</td><td>4.026027</td></tr></tbody></table></div>"
      ]
     },
     "execution_count": 82,
     "metadata": {},
     "output_type": "execute_result"
    }
   ],
   "execution_count": 82
  },
  {
   "metadata": {
    "ExecuteTime": {
     "end_time": "2025-07-28T23:39:05.030398Z",
     "start_time": "2025-07-28T23:39:04.898316Z"
    }
   },
   "cell_type": "code",
   "source": [
    "top_splits = [(seed, fold, list(group_ids[list(val)])) for seed in selected_seeds for fold, (train, val) in enumerate(KFold(n_splits=n_folds, shuffle=True, random_state=seed).split(group_ids))]\n",
    "top_splits = pl.DataFrame(top_splits, schema=[\"seed\", \"fold\", \"groups\"], orient=\"row\").explode(\"groups\").rename({\"groups\": \"group\"})\n",
    "top_splits = top_splits.join(groups, on=\"group\", how=\"right\").sort(\"seed\", \"fold\", \"group\")\n",
    "top_splits = top_splits.join(annotations, on=\"identifier\", how=\"inner\", validate=\"m:1\")"
   ],
   "id": "7bb2c53e87d0747",
   "outputs": [],
   "execution_count": 83
  },
  {
   "metadata": {
    "ExecuteTime": {
     "end_time": "2025-07-28T23:39:05.077820Z",
     "start_time": "2025-07-28T23:39:05.068371Z"
    }
   },
   "cell_type": "code",
   "source": [
    "selected_groups = top_splits.select(\"group\").unique().to_series().to_list()\n",
    "set(selected_groups) ^ set(group_ids)"
   ],
   "id": "b4f7f4d2af4105dd",
   "outputs": [
    {
     "data": {
      "text/plain": [
       "{50, 162}"
      ]
     },
     "execution_count": 84,
     "metadata": {},
     "output_type": "execute_result"
    }
   ],
   "execution_count": 84
  },
  {
   "metadata": {
    "ExecuteTime": {
     "end_time": "2025-07-28T23:39:05.177721Z",
     "start_time": "2025-07-28T23:39:05.152338Z"
    }
   },
   "cell_type": "code",
   "source": [
    "class_deviance =(\n",
    "    top_splits.lazy()\n",
    "    .group_by(\"seed\", \"fold\")\n",
    "    .agg(\n",
    "        pl.col(*class_names).sum(),\n",
    "    ).with_columns(\n",
    "        total=pl.sum_horizontal(*class_names)\n",
    "    ).with_columns(\n",
    "        (pl.col(*class_names) / pl.col(\"total\") * 100)\n",
    "    ).group_by(\"seed\").agg(\n",
    "        pl.col(*class_names).std(),\n",
    "    ).select(\n",
    "        \"seed\",\n",
    "    mean_class_deviance=pl.mean_horizontal(*class_names)\n",
    "    ).sort(\"mean_class_deviance\")\n",
    "    .with_row_index(\"class_rank\")\n",
    "    .collect()\n",
    " )\n",
    "class_deviance"
   ],
   "id": "2af98b07f34f112f",
   "outputs": [
    {
     "data": {
      "text/plain": [
       "shape: (100, 3)\n",
       "┌────────────┬──────┬─────────────────────┐\n",
       "│ class_rank ┆ seed ┆ mean_class_deviance │\n",
       "│ ---        ┆ ---  ┆ ---                 │\n",
       "│ u32        ┆ i64  ┆ f64                 │\n",
       "╞════════════╪══════╪═════════════════════╡\n",
       "│ 0          ┆ 6276 ┆ 0.746895            │\n",
       "│ 1          ┆ 541  ┆ 0.863384            │\n",
       "│ 2          ┆ 5881 ┆ 0.930949            │\n",
       "│ 3          ┆ 546  ┆ 0.959446            │\n",
       "│ 4          ┆ 4732 ┆ 1.012635            │\n",
       "│ …          ┆ …    ┆ …                   │\n",
       "│ 95         ┆ 356  ┆ 1.846893            │\n",
       "│ 96         ┆ 6928 ┆ 1.962526            │\n",
       "│ 97         ┆ 4665 ┆ 1.987367            │\n",
       "│ 98         ┆ 7301 ┆ 2.001316            │\n",
       "│ 99         ┆ 2225 ┆ 2.04173             │\n",
       "└────────────┴──────┴─────────────────────┘"
      ],
      "text/html": [
       "<div><style>\n",
       ".dataframe > thead > tr,\n",
       ".dataframe > tbody > tr {\n",
       "  text-align: right;\n",
       "  white-space: pre-wrap;\n",
       "}\n",
       "</style>\n",
       "<small>shape: (100, 3)</small><table border=\"1\" class=\"dataframe\"><thead><tr><th>class_rank</th><th>seed</th><th>mean_class_deviance</th></tr><tr><td>u32</td><td>i64</td><td>f64</td></tr></thead><tbody><tr><td>0</td><td>6276</td><td>0.746895</td></tr><tr><td>1</td><td>541</td><td>0.863384</td></tr><tr><td>2</td><td>5881</td><td>0.930949</td></tr><tr><td>3</td><td>546</td><td>0.959446</td></tr><tr><td>4</td><td>4732</td><td>1.012635</td></tr><tr><td>&hellip;</td><td>&hellip;</td><td>&hellip;</td></tr><tr><td>95</td><td>356</td><td>1.846893</td></tr><tr><td>96</td><td>6928</td><td>1.962526</td></tr><tr><td>97</td><td>4665</td><td>1.987367</td></tr><tr><td>98</td><td>7301</td><td>2.001316</td></tr><tr><td>99</td><td>2225</td><td>2.04173</td></tr></tbody></table></div>"
      ]
     },
     "execution_count": 85,
     "metadata": {},
     "output_type": "execute_result"
    }
   ],
   "execution_count": 85
  },
  {
   "metadata": {
    "ExecuteTime": {
     "end_time": "2025-07-28T23:39:05.308910Z",
     "start_time": "2025-07-28T23:39:05.301454Z"
    }
   },
   "cell_type": "code",
   "source": [
    "ranking = class_deviance.join(folder_deviance, on=\"seed\", how=\"inner\").with_columns(\n",
    "    rank=pl.col(\"class_rank\") + pl.col(\"folder_rank\")\n",
    ").sort(\"rank\")\n",
    "ranking"
   ],
   "id": "e8e1242812d64d57",
   "outputs": [
    {
     "data": {
      "text/plain": [
       "shape: (100, 6)\n",
       "┌────────────┬──────┬─────────────────────┬─────────────┬──────────────────────┬──────┐\n",
       "│ class_rank ┆ seed ┆ mean_class_deviance ┆ folder_rank ┆ mean_folder_deviance ┆ rank │\n",
       "│ ---        ┆ ---  ┆ ---                 ┆ ---         ┆ ---                  ┆ ---  │\n",
       "│ u32        ┆ i64  ┆ f64                 ┆ u32         ┆ f64                  ┆ u32  │\n",
       "╞════════════╪══════╪═════════════════════╪═════════════╪══════════════════════╪══════╡\n",
       "│ 9          ┆ 3272 ┆ 1.084436            ┆ 6           ┆ 3.708909             ┆ 15   │\n",
       "│ 17         ┆ 9777 ┆ 1.136417            ┆ 1           ┆ 3.522954             ┆ 18   │\n",
       "│ 0          ┆ 6276 ┆ 0.746895            ┆ 19          ┆ 3.811847             ┆ 19   │\n",
       "│ 12         ┆ 8364 ┆ 1.102338            ┆ 8           ┆ 3.732766             ┆ 20   │\n",
       "│ 15         ┆ 956  ┆ 1.110946            ┆ 10          ┆ 3.739863             ┆ 25   │\n",
       "│ …          ┆ …    ┆ …                   ┆ …           ┆ …                    ┆ …    │\n",
       "│ 82         ┆ 8383 ┆ 1.633806            ┆ 85          ┆ 4.010891             ┆ 167  │\n",
       "│ 99         ┆ 2225 ┆ 2.04173             ┆ 69          ┆ 3.98774              ┆ 168  │\n",
       "│ 71         ┆ 4124 ┆ 1.555989            ┆ 99          ┆ 4.026027             ┆ 170  │\n",
       "│ 90         ┆ 9569 ┆ 1.74683             ┆ 93          ┆ 4.018202             ┆ 183  │\n",
       "│ 95         ┆ 356  ┆ 1.846893            ┆ 92          ┆ 4.018178             ┆ 187  │\n",
       "└────────────┴──────┴─────────────────────┴─────────────┴──────────────────────┴──────┘"
      ],
      "text/html": [
       "<div><style>\n",
       ".dataframe > thead > tr,\n",
       ".dataframe > tbody > tr {\n",
       "  text-align: right;\n",
       "  white-space: pre-wrap;\n",
       "}\n",
       "</style>\n",
       "<small>shape: (100, 6)</small><table border=\"1\" class=\"dataframe\"><thead><tr><th>class_rank</th><th>seed</th><th>mean_class_deviance</th><th>folder_rank</th><th>mean_folder_deviance</th><th>rank</th></tr><tr><td>u32</td><td>i64</td><td>f64</td><td>u32</td><td>f64</td><td>u32</td></tr></thead><tbody><tr><td>9</td><td>3272</td><td>1.084436</td><td>6</td><td>3.708909</td><td>15</td></tr><tr><td>17</td><td>9777</td><td>1.136417</td><td>1</td><td>3.522954</td><td>18</td></tr><tr><td>0</td><td>6276</td><td>0.746895</td><td>19</td><td>3.811847</td><td>19</td></tr><tr><td>12</td><td>8364</td><td>1.102338</td><td>8</td><td>3.732766</td><td>20</td></tr><tr><td>15</td><td>956</td><td>1.110946</td><td>10</td><td>3.739863</td><td>25</td></tr><tr><td>&hellip;</td><td>&hellip;</td><td>&hellip;</td><td>&hellip;</td><td>&hellip;</td><td>&hellip;</td></tr><tr><td>82</td><td>8383</td><td>1.633806</td><td>85</td><td>4.010891</td><td>167</td></tr><tr><td>99</td><td>2225</td><td>2.04173</td><td>69</td><td>3.98774</td><td>168</td></tr><tr><td>71</td><td>4124</td><td>1.555989</td><td>99</td><td>4.026027</td><td>170</td></tr><tr><td>90</td><td>9569</td><td>1.74683</td><td>93</td><td>4.018202</td><td>183</td></tr><tr><td>95</td><td>356</td><td>1.846893</td><td>92</td><td>4.018178</td><td>187</td></tr></tbody></table></div>"
      ]
     },
     "execution_count": 86,
     "metadata": {},
     "output_type": "execute_result"
    }
   ],
   "execution_count": 86
  },
  {
   "metadata": {
    "ExecuteTime": {
     "end_time": "2025-07-28T23:39:05.482067Z",
     "start_time": "2025-07-28T23:39:05.478216Z"
    }
   },
   "cell_type": "code",
   "source": [
    "# final_seeds = [4785, 8957, 635] # 3 folds\n",
    "# final_seeds = [7194, 1118, 758] # 5 folds\n",
    "# final_seeds = [3272, 9777, 6276] # 10 folds\n",
    "final_seeds = ranking.select(\"seed\").to_series().to_list()[:3]"
   ],
   "id": "8765d3fe9a5ab01",
   "outputs": [],
   "execution_count": 87
  },
  {
   "metadata": {
    "ExecuteTime": {
     "end_time": "2025-07-28T23:39:05.847638Z",
     "start_time": "2025-07-28T23:39:05.731002Z"
    }
   },
   "cell_type": "code",
   "source": [
    "for i, seed in enumerate(final_seeds):\n",
    "    top_splits.filter(pl.col(\"seed\") == seed).select(\"folder\", \"identifier\", \"fold\").sort(\"fold\", \"identifier\").write_csv(f\"../data/a2md_public/splits_{n_folds}-folds_{i}.csv\", include_header=True, separator=\",\")"
   ],
   "id": "9ba21cd4592923ae",
   "outputs": [],
   "execution_count": 88
  },
  {
   "metadata": {
    "ExecuteTime": {
     "end_time": "2025-08-13T02:02:58.388092Z",
     "start_time": "2025-08-13T02:02:58.380509Z"
    }
   },
   "cell_type": "code",
   "source": "group_ids = np.array(groups.select(\"group\").unique().sort(\"group\").to_series().to_list())",
   "id": "a9f6da59590f4b6b",
   "outputs": [],
   "execution_count": 5
  },
  {
   "metadata": {
    "ExecuteTime": {
     "end_time": "2025-08-13T02:19:07.482088Z",
     "start_time": "2025-08-13T02:19:07.452720Z"
    }
   },
   "cell_type": "code",
   "source": [
    "def get_top_seeds(ids: np.ndarray, n_folds: int, search_space: Iterable[int], n_seeds=10, min_rank=1000) -> list[int]:\n",
    "    splits = [(seed, fold, list(ids[list(val)])) for seed in search_space for fold, (_, val) in enumerate(KFold(n_splits=n_folds, shuffle=True, random_state=seed).split(ids))]\n",
    "    splits = pl.DataFrame(splits, schema=[\"seed\", \"fold\", \"groups\"], orient=\"row\").explode(\"groups\").rename({\"groups\": \"group\"})\n",
    "\n",
    "    folder_deviance = (\n",
    "        splits.lazy().join(\n",
    "            groups.lazy(),\n",
    "            on=\"group\",\n",
    "            how=\"inner\",\n",
    "        )\n",
    "        .group_by(\"seed\", \"fold\", \"folder\")\n",
    "        .agg(\n",
    "            pl.col(\"identifier\").count().alias(\"count\")\n",
    "        )\n",
    "        .group_by(\"seed\", \"folder\")\n",
    "        .agg(\n",
    "            pl.col(\"count\").std()\n",
    "        )\n",
    "        .group_by(\"seed\")\n",
    "        .agg(\n",
    "            pl.col(\"count\").mean().alias(\"mean_folder_deviance\")\n",
    "        )\n",
    "        # center around 1 to make it easier to compare\n",
    "        .with_columns(\n",
    "            pl.col(\"mean_folder_deviance\") / pl.col(\"mean_folder_deviance\").mean()\n",
    "        )\n",
    "        .sort(\"mean_folder_deviance\")\n",
    "        .head(min_rank)\n",
    "        .with_row_index(\"folder_rank\")\n",
    "    )\n",
    "\n",
    "    folder_aggregate = (\n",
    "        splits.lazy()\n",
    "        .join(\n",
    "            groups.lazy(),\n",
    "            on=\"group\",\n",
    "            how=\"inner\",\n",
    "        )\n",
    "        .join(\n",
    "            annotations.lazy(),\n",
    "            on=\"identifier\",\n",
    "            how=\"inner\",\n",
    "            validate=\"m:1\"\n",
    "        )\n",
    "        .group_by(\"seed\", \"fold\", \"folder\")\n",
    "        .agg(\n",
    "            pl.col(*class_names).sum()\n",
    "        )\n",
    "    )\n",
    "\n",
    "    folders = folder_aggregate.select(\"folder\").unique().sort(\"folder\").collect().to_series().to_list()\n",
    "    folder_subsets = []\n",
    "    for i, folder in enumerate(folders):\n",
    "        folder_subsets.append(folders[:i + 1])\n",
    "\n",
    "    subset_ranks = []\n",
    "\n",
    "    for i, subset in enumerate(folder_subsets):\n",
    "        subset_ranking = (\n",
    "            folder_aggregate\n",
    "            .filter(pl.col(\"folder\").is_in(subset))\n",
    "            .group_by(\"seed\", \"fold\")\n",
    "            .agg(\n",
    "                pl.col(*class_names).sum(),\n",
    "            )\n",
    "            .with_columns(\n",
    "                total=pl.sum_horizontal(*class_names)\n",
    "            ).with_columns(\n",
    "                (pl.col(*class_names) / pl.col(\"total\") * 100)\n",
    "            )\n",
    "            .group_by(\"seed\")\n",
    "            .agg(\n",
    "                pl.col(*class_names).std(),\n",
    "            )\n",
    "            .select(\n",
    "                \"seed\",\n",
    "                pl.mean_horizontal(*class_names).alias(f\"mean_class_deviance_{i}\"),\n",
    "            )\n",
    "        )\n",
    "        subset_ranks.append(subset_ranking)\n",
    "\n",
    "    subset_ranking = subset_ranks[0]\n",
    "    for i in range(1, len(subset_ranks)):\n",
    "        subset_ranking = subset_ranking.join(\n",
    "            subset_ranks[i],\n",
    "            on=\"seed\",\n",
    "            how=\"inner\"\n",
    "        )\n",
    "\n",
    "    subset_ranking = (\n",
    "        subset_ranking.with_columns(\n",
    "            mean_subset_deviance=pl.mean_horizontal(cs.starts_with(\"mean_class_deviance_\"))\n",
    "        )\n",
    "        .sort(\"mean_subset_deviance\")\n",
    "        .with_columns(\n",
    "            pl.col(\"mean_subset_deviance\") / pl.col(\"mean_subset_deviance\").mean()\n",
    "        )\n",
    "        .head(min_rank).with_row_index(\"subset_rank\")# center around 1 to make it easier to compare\n",
    "\n",
    "    )\n",
    "\n",
    "\n",
    "    total_class_deviance = (\n",
    "        folder_aggregate.lazy()\n",
    "        .group_by(\"seed\", \"fold\")\n",
    "        .agg(\n",
    "            pl.col(*class_names).sum(),\n",
    "        )\n",
    "        .with_columns(\n",
    "            total=pl.sum_horizontal(*class_names)\n",
    "        ).with_columns(\n",
    "            (pl.col(*class_names) / pl.col(\"total\") * 100)\n",
    "        )\n",
    "        .group_by(\"seed\")\n",
    "        .agg(\n",
    "            pl.col(*class_names).std(),\n",
    "        )\n",
    "        .select(\n",
    "            \"seed\",\n",
    "            mean_class_deviance=pl.mean_horizontal(*class_names)\n",
    "        )\n",
    "        # center around 1 to make it easier to compare\n",
    "        .with_columns(\n",
    "            pl.col(\"mean_class_deviance\") / pl.col(\"mean_class_deviance\").mean()\n",
    "        )\n",
    "        .sort(\"mean_class_deviance\")\n",
    "        .head(min_rank)\n",
    "        .with_row_index(\"total_class_rank\")\n",
    "    )\n",
    "\n",
    "    # folder_class_deviance = (\n",
    "    #     folder_aggregate.lazy()\n",
    "    #     .with_columns(\n",
    "    #         total=pl.sum_horizontal(*class_names)\n",
    "    #     ).with_columns(\n",
    "    #         (pl.col(*class_names) / pl.col(\"total\") * 100)\n",
    "    #     )\n",
    "    #     .group_by(\"seed\", \"folder\")\n",
    "    #     .agg(\n",
    "    #         pl.col(*class_names).std(),\n",
    "    #     )\n",
    "    #     .select(\n",
    "    #         \"seed\",\n",
    "    #         \"folder\",\n",
    "    #         mean_class_deviance=pl.mean_horizontal(*class_names)\n",
    "    #     )\n",
    "    #     .with_columns(\n",
    "    #         weight=pl.col(\"folder\").replace_strict({\n",
    "    #             \"dist0p00\": 7,\n",
    "    #             \"dist0p10\": 6,\n",
    "    #             \"dist0p20\": 5,\n",
    "    #             \"dist0p30\": 4,\n",
    "    #             \"dist0p40\": 3,\n",
    "    #             \"dist0p50\": 2,\n",
    "    #             \"dist0p60\": 1,\n",
    "    #         }, return_dtype=pl.Int8)\n",
    "    #     )\n",
    "    #     .with_columns(\n",
    "    #         # weigh earlier folders more, because they get combined cumulatively\n",
    "    #         mean_class_deviance=pl.col(\"mean_class_deviance\") * pl.col(\"weight\")\n",
    "    #     )\n",
    "    #     .group_by(\"seed\")\n",
    "    #     .agg(\n",
    "    #         folder_class_deviance=pl.col(\"mean_class_deviance\").mean(),\n",
    "    #     )\n",
    "    #     # center around 1 to make it easier to compare\n",
    "    #     .with_columns(\n",
    "    #         pl.col(\"folder_class_deviance\") / pl.col(\"folder_class_deviance\").mean()\n",
    "    #     )\n",
    "    #     .sort(\"folder_class_deviance\")\n",
    "    #     .head(min_rank)\n",
    "    #     .with_row_index(\"folder_class_rank\")\n",
    "    # )\n",
    "\n",
    "    ranking = (\n",
    "        folder_deviance\n",
    "        .join(\n",
    "            total_class_deviance,\n",
    "            on=\"seed\",\n",
    "            how=\"inner\"\n",
    "        )\n",
    "        .join(\n",
    "            subset_ranking,\n",
    "            on=\"seed\",\n",
    "            how=\"inner\"\n",
    "        )\n",
    "        .with_columns(\n",
    "            deviance_score=(\n",
    "                pl.col(\"mean_folder_deviance\")\n",
    "                +\n",
    "                pl.col(\"mean_class_deviance\")\n",
    "                +\n",
    "                pl.col(\"mean_subset_deviance\") * 2\n",
    "            )\n",
    "        )\n",
    "        .select(\"seed\", \"deviance_score\", pl.exclude(\"seed\", \"deviance_score\"))\n",
    "        .sort(\"deviance_score\")\n",
    "        .head(n_seeds)\n",
    "    )\n",
    "\n",
    "    return ranking.collect(engine=\"streaming\")"
   ],
   "id": "f7c73d0104e98bc4",
   "outputs": [],
   "execution_count": 14
  },
  {
   "metadata": {
    "ExecuteTime": {
     "end_time": "2025-08-13T02:27:40.476722Z",
     "start_time": "2025-08-13T02:19:10.607206Z"
    }
   },
   "cell_type": "code",
   "source": [
    "best_seeds = {}\n",
    "for n_folds in [3, 5, 10]:\n",
    "    print(n_folds)\n",
    "    best_seeds[n_folds] = get_top_seeds(group_ids, n_folds, range(100_000), n_seeds=10, min_rank=5000)"
   ],
   "id": "d1bd5c591843e212",
   "outputs": [
    {
     "name": "stdout",
     "output_type": "stream",
     "text": [
      "3\n",
      "5\n",
      "10\n"
     ]
    }
   ],
   "execution_count": 15
  },
  {
   "metadata": {
    "ExecuteTime": {
     "end_time": "2025-08-13T02:28:18.023030Z",
     "start_time": "2025-08-13T02:28:17.963024Z"
    }
   },
   "cell_type": "code",
   "source": "best_seeds[3]",
   "id": "e8175538d8899b35",
   "outputs": [
    {
     "data": {
      "text/plain": [
       "shape: (10, 15)\n",
       "┌───────┬────────────┬────────────┬────────────┬───┬───────────┬───────────┬───────────┬───────────┐\n",
       "│ seed  ┆ deviance_s ┆ folder_ran ┆ mean_folde ┆ … ┆ mean_clas ┆ mean_clas ┆ mean_clas ┆ mean_subs │\n",
       "│ ---   ┆ core       ┆ k          ┆ r_deviance ┆   ┆ s_devianc ┆ s_devianc ┆ s_devianc ┆ et_devian │\n",
       "│ i64   ┆ ---        ┆ ---        ┆ ---        ┆   ┆ e_4       ┆ e_5       ┆ e_6       ┆ ce        │\n",
       "│       ┆ f64        ┆ u32        ┆ f64        ┆   ┆ ---       ┆ ---       ┆ ---       ┆ ---       │\n",
       "│       ┆            ┆            ┆            ┆   ┆ f64       ┆ f64       ┆ f64       ┆ f64       │\n",
       "╞═══════╪════════════╪════════════╪════════════╪═══╪═══════════╪═══════════╪═══════════╪═══════════╡\n",
       "│ 94895 ┆ 1.702761   ┆ 344        ┆ 0.490148   ┆ … ┆ 0.318101  ┆ 0.276931  ┆ 0.257266  ┆ 0.425622  │\n",
       "│ 50039 ┆ 1.866371   ┆ 1633       ┆ 0.580937   ┆ … ┆ 0.262185  ┆ 0.28474   ┆ 0.184655  ┆ 0.513029  │\n",
       "│ 1490  ┆ 1.8795     ┆ 2057       ┆ 0.596414   ┆ … ┆ 0.334284  ┆ 0.164411  ┆ 0.180613  ┆ 0.514693  │\n",
       "│ 15162 ┆ 1.887801   ┆ 1732       ┆ 0.584663   ┆ … ┆ 0.337842  ┆ 0.372491  ┆ 0.276473  ┆ 0.457395  │\n",
       "│ 4732  ┆ 1.892205   ┆ 2158       ┆ 0.599995   ┆ … ┆ 0.376499  ┆ 0.258312  ┆ 0.165079  ┆ 0.530166  │\n",
       "│ 51394 ┆ 1.915128   ┆ 2469       ┆ 0.609825   ┆ … ┆ 0.079147  ┆ 0.104165  ┆ 0.141405  ┆ 0.553339  │\n",
       "│ 64202 ┆ 1.921316   ┆ 519        ┆ 0.511432   ┆ … ┆ 0.496287  ┆ 0.284975  ┆ 0.282671  ┆ 0.506414  │\n",
       "│ 5675  ┆ 1.930008   ┆ 2956       ┆ 0.623396   ┆ … ┆ 0.136142  ┆ 0.240411  ┆ 0.1345    ┆ 0.558843  │\n",
       "│ 15014 ┆ 1.940974   ┆ 4269       ┆ 0.651053   ┆ … ┆ 0.312156  ┆ 0.292176  ┆ 0.151235  ┆ 0.538743  │\n",
       "│ 81608 ┆ 1.944046   ┆ 1610       ┆ 0.580012   ┆ … ┆ 0.314534  ┆ 0.361067  ┆ 0.121783  ┆ 0.596485  │\n",
       "└───────┴────────────┴────────────┴────────────┴───┴───────────┴───────────┴───────────┴───────────┘"
      ],
      "text/html": [
       "<div><style>\n",
       ".dataframe > thead > tr,\n",
       ".dataframe > tbody > tr {\n",
       "  text-align: right;\n",
       "  white-space: pre-wrap;\n",
       "}\n",
       "</style>\n",
       "<small>shape: (10, 15)</small><table border=\"1\" class=\"dataframe\"><thead><tr><th>seed</th><th>deviance_score</th><th>folder_rank</th><th>mean_folder_deviance</th><th>total_class_rank</th><th>mean_class_deviance</th><th>subset_rank</th><th>mean_class_deviance_0</th><th>mean_class_deviance_1</th><th>mean_class_deviance_2</th><th>mean_class_deviance_3</th><th>mean_class_deviance_4</th><th>mean_class_deviance_5</th><th>mean_class_deviance_6</th><th>mean_subset_deviance</th></tr><tr><td>i64</td><td>f64</td><td>u32</td><td>f64</td><td>u32</td><td>f64</td><td>u32</td><td>f64</td><td>f64</td><td>f64</td><td>f64</td><td>f64</td><td>f64</td><td>f64</td><td>f64</td></tr></thead><tbody><tr><td>94895</td><td>1.702761</td><td>344</td><td>0.490148</td><td>3308</td><td>0.361369</td><td>71</td><td>0.598833</td><td>1.263525</td><td>0.813471</td><td>0.320312</td><td>0.318101</td><td>0.276931</td><td>0.257266</td><td>0.425622</td></tr><tr><td>50039</td><td>1.866371</td><td>1633</td><td>0.580937</td><td>998</td><td>0.259376</td><td>595</td><td>2.030996</td><td>1.080875</td><td>0.436978</td><td>0.358341</td><td>0.262185</td><td>0.28474</td><td>0.184655</td><td>0.513029</td></tr><tr><td>1490</td><td>1.8795</td><td>2057</td><td>0.596414</td><td>912</td><td>0.253699</td><td>612</td><td>1.604316</td><td>1.472584</td><td>0.500296</td><td>0.397315</td><td>0.334284</td><td>0.164411</td><td>0.180613</td><td>0.514693</td></tr><tr><td>15162</td><td>1.887801</td><td>1732</td><td>0.584663</td><td>4275</td><td>0.388349</td><td>163</td><td>1.002689</td><td>1.484428</td><td>0.212103</td><td>0.449707</td><td>0.337842</td><td>0.372491</td><td>0.276473</td><td>0.457395</td></tr><tr><td>4732</td><td>1.892205</td><td>2158</td><td>0.599995</td><td>653</td><td>0.231879</td><td>856</td><td>0.93727</td><td>2.400932</td><td>0.368104</td><td>0.287525</td><td>0.376499</td><td>0.258312</td><td>0.165079</td><td>0.530166</td></tr><tr><td>51394</td><td>1.915128</td><td>2469</td><td>0.609825</td><td>346</td><td>0.198625</td><td>1337</td><td>2.51763</td><td>1.531802</td><td>0.414644</td><td>0.214459</td><td>0.079147</td><td>0.104165</td><td>0.141405</td><td>0.553339</td></tr><tr><td>64202</td><td>1.921316</td><td>519</td><td>0.511432</td><td>4617</td><td>0.397055</td><td>513</td><td>1.448758</td><td>1.074584</td><td>0.262093</td><td>0.729594</td><td>0.496287</td><td>0.284975</td><td>0.282671</td><td>0.506414</td></tr><tr><td>5675</td><td>1.930008</td><td>2956</td><td>0.623396</td><td>269</td><td>0.188926</td><td>1476</td><td>2.734024</td><td>1.053665</td><td>0.609167</td><td>0.14511</td><td>0.136142</td><td>0.240411</td><td>0.1345</td><td>0.558843</td></tr><tr><td>15014</td><td>1.940974</td><td>4269</td><td>0.651053</td><td>456</td><td>0.212434</td><td>1021</td><td>0.731386</td><td>1.701834</td><td>0.914443</td><td>0.768047</td><td>0.312156</td><td>0.292176</td><td>0.151235</td><td>0.538743</td></tr><tr><td>81608</td><td>1.944046</td><td>1610</td><td>0.580012</td><td>182</td><td>0.171063</td><td>2585</td><td>2.544327</td><td>1.45055</td><td>0.382039</td><td>0.219078</td><td>0.314534</td><td>0.361067</td><td>0.121783</td><td>0.596485</td></tr></tbody></table></div>"
      ]
     },
     "execution_count": 16,
     "metadata": {},
     "output_type": "execute_result"
    }
   ],
   "execution_count": 16
  },
  {
   "metadata": {
    "ExecuteTime": {
     "end_time": "2025-08-13T02:28:21.783058Z",
     "start_time": "2025-08-13T02:28:21.778402Z"
    }
   },
   "cell_type": "code",
   "source": "best_seeds[5]",
   "id": "4a78b6720875eaef",
   "outputs": [
    {
     "data": {
      "text/plain": [
       "shape: (10, 15)\n",
       "┌───────┬────────────┬────────────┬────────────┬───┬───────────┬───────────┬───────────┬───────────┐\n",
       "│ seed  ┆ deviance_s ┆ folder_ran ┆ mean_folde ┆ … ┆ mean_clas ┆ mean_clas ┆ mean_clas ┆ mean_subs │\n",
       "│ ---   ┆ core       ┆ k          ┆ r_deviance ┆   ┆ s_devianc ┆ s_devianc ┆ s_devianc ┆ et_devian │\n",
       "│ i64   ┆ ---        ┆ ---        ┆ ---        ┆   ┆ e_4       ┆ e_5       ┆ e_6       ┆ ce        │\n",
       "│       ┆ f64        ┆ u32        ┆ f64        ┆   ┆ ---       ┆ ---       ┆ ---       ┆ ---       │\n",
       "│       ┆            ┆            ┆            ┆   ┆ f64       ┆ f64       ┆ f64       ┆ f64       │\n",
       "╞═══════╪════════════╪════════════╪════════════╪═══╪═══════════╪═══════════╪═══════════╪═══════════╡\n",
       "│ 67923 ┆ 2.136737   ┆ 5          ┆ 0.49625    ┆ … ┆ 0.238863  ┆ 0.204413  ┆ 0.298741  ┆ 0.667192  │\n",
       "│ 98855 ┆ 2.180626   ┆ 2260       ┆ 0.715575   ┆ … ┆ 0.425232  ┆ 0.370159  ┆ 0.345501  ┆ 0.555518  │\n",
       "│ 59146 ┆ 2.229713   ┆ 3138       ┆ 0.733257   ┆ … ┆ 0.327424  ┆ 0.330401  ┆ 0.339376  ┆ 0.574358  │\n",
       "│ 51354 ┆ 2.24625    ┆ 1523       ┆ 0.695071   ┆ … ┆ 0.328249  ┆ 0.251748  ┆ 0.357991  ┆ 0.592182  │\n",
       "│ 80159 ┆ 2.32185    ┆ 3254       ┆ 0.735158   ┆ … ┆ 0.206461  ┆ 0.135663  ┆ 0.178495  ┆ 0.701899  │\n",
       "│ 17481 ┆ 2.332167   ┆ 574        ┆ 0.648698   ┆ … ┆ 0.453882  ┆ 0.380701  ┆ 0.350892  ┆ 0.661965  │\n",
       "│ 68350 ┆ 2.333815   ┆ 1484       ┆ 0.693887   ┆ … ┆ 0.398792  ┆ 0.481142  ┆ 0.403921  ┆ 0.613026  │\n",
       "│ 64844 ┆ 2.352284   ┆ 109        ┆ 0.587587   ┆ … ┆ 0.447643  ┆ 0.451491  ┆ 0.527985  ┆ 0.61185   │\n",
       "│ 24581 ┆ 2.35859    ┆ 582        ┆ 0.649823   ┆ … ┆ 0.407783  ┆ 0.428304  ┆ 0.351632  ┆ 0.674235  │\n",
       "│ 45584 ┆ 2.377672   ┆ 1069       ┆ 0.677501   ┆ … ┆ 0.470799  ┆ 0.433659  ┆ 0.518591  ┆ 0.5844    │\n",
       "└───────┴────────────┴────────────┴────────────┴───┴───────────┴───────────┴───────────┴───────────┘"
      ],
      "text/html": [
       "<div><style>\n",
       ".dataframe > thead > tr,\n",
       ".dataframe > tbody > tr {\n",
       "  text-align: right;\n",
       "  white-space: pre-wrap;\n",
       "}\n",
       "</style>\n",
       "<small>shape: (10, 15)</small><table border=\"1\" class=\"dataframe\"><thead><tr><th>seed</th><th>deviance_score</th><th>folder_rank</th><th>mean_folder_deviance</th><th>total_class_rank</th><th>mean_class_deviance</th><th>subset_rank</th><th>mean_class_deviance_0</th><th>mean_class_deviance_1</th><th>mean_class_deviance_2</th><th>mean_class_deviance_3</th><th>mean_class_deviance_4</th><th>mean_class_deviance_5</th><th>mean_class_deviance_6</th><th>mean_subset_deviance</th></tr><tr><td>i64</td><td>f64</td><td>u32</td><td>f64</td><td>u32</td><td>f64</td><td>u32</td><td>f64</td><td>f64</td><td>f64</td><td>f64</td><td>f64</td><td>f64</td><td>f64</td><td>f64</td></tr></thead><tbody><tr><td>67923</td><td>2.136737</td><td>5</td><td>0.49625</td><td>100</td><td>0.306103</td><td>1433</td><td>3.567983</td><td>2.624187</td><td>0.85951</td><td>0.548142</td><td>0.238863</td><td>0.204413</td><td>0.298741</td><td>0.667192</td></tr><tr><td>98855</td><td>2.180626</td><td>2260</td><td>0.715575</td><td>280</td><td>0.354016</td><td>73</td><td>2.493609</td><td>1.85792</td><td>0.800839</td><td>0.652321</td><td>0.425232</td><td>0.370159</td><td>0.345501</td><td>0.555518</td></tr><tr><td>59146</td><td>2.229713</td><td>3138</td><td>0.733257</td><td>251</td><td>0.34774</td><td>139</td><td>2.512905</td><td>1.755422</td><td>1.114968</td><td>0.800645</td><td>0.327424</td><td>0.330401</td><td>0.339376</td><td>0.574358</td></tr><tr><td>51354</td><td>2.24625</td><td>1523</td><td>0.695071</td><td>360</td><td>0.366814</td><td>242</td><td>3.348505</td><td>1.573357</td><td>1.01614</td><td>0.528006</td><td>0.328249</td><td>0.251748</td><td>0.357991</td><td>0.592182</td></tr><tr><td>80159</td><td>2.32185</td><td>3254</td><td>0.735158</td><td>1</td><td>0.182894</td><td>2821</td><td>4.454881</td><td>2.249029</td><td>1.072605</td><td>0.478636</td><td>0.206461</td><td>0.135663</td><td>0.178495</td><td>0.701899</td></tr><tr><td>17481</td><td>2.332167</td><td>574</td><td>0.648698</td><td>304</td><td>0.359539</td><td>1305</td><td>4.391789</td><td>1.427595</td><td>0.775338</td><td>0.496288</td><td>0.453882</td><td>0.380701</td><td>0.350892</td><td>0.661965</td></tr><tr><td>68350</td><td>2.333815</td><td>1484</td><td>0.693887</td><td>776</td><td>0.413875</td><td>414</td><td>2.872635</td><td>2.283915</td><td>0.713226</td><td>0.510973</td><td>0.398792</td><td>0.481142</td><td>0.403921</td><td>0.613026</td></tr><tr><td>64844</td><td>2.352284</td><td>109</td><td>0.587587</td><td>4107</td><td>0.540997</td><td>403</td><td>3.508559</td><td>1.180676</td><td>1.053092</td><td>0.480457</td><td>0.447643</td><td>0.451491</td><td>0.527985</td><td>0.61185</td></tr><tr><td>24581</td><td>2.35859</td><td>582</td><td>0.649823</td><td>306</td><td>0.360297</td><td>1661</td><td>3.603078</td><td>1.611364</td><td>1.178087</td><td>0.849644</td><td>0.407783</td><td>0.428304</td><td>0.351632</td><td>0.674235</td></tr><tr><td>45584</td><td>2.377672</td><td>1069</td><td>0.677501</td><td>3747</td><td>0.531371</td><td>195</td><td>1.585928</td><td>2.195763</td><td>1.314488</td><td>0.787465</td><td>0.470799</td><td>0.433659</td><td>0.518591</td><td>0.5844</td></tr></tbody></table></div>"
      ]
     },
     "execution_count": 17,
     "metadata": {},
     "output_type": "execute_result"
    }
   ],
   "execution_count": 17
  },
  {
   "metadata": {
    "ExecuteTime": {
     "end_time": "2025-08-13T02:28:24.708106Z",
     "start_time": "2025-08-13T02:28:24.702590Z"
    }
   },
   "cell_type": "code",
   "source": "best_seeds[10]",
   "id": "bf21c11335e28146",
   "outputs": [
    {
     "data": {
      "text/plain": [
       "shape: (10, 15)\n",
       "┌───────┬────────────┬────────────┬────────────┬───┬───────────┬───────────┬───────────┬───────────┐\n",
       "│ seed  ┆ deviance_s ┆ folder_ran ┆ mean_folde ┆ … ┆ mean_clas ┆ mean_clas ┆ mean_clas ┆ mean_subs │\n",
       "│ ---   ┆ core       ┆ k          ┆ r_deviance ┆   ┆ s_devianc ┆ s_devianc ┆ s_devianc ┆ et_devian │\n",
       "│ i64   ┆ ---        ┆ ---        ┆ ---        ┆   ┆ e_4       ┆ e_5       ┆ e_6       ┆ ce        │\n",
       "│       ┆ f64        ┆ u32        ┆ f64        ┆   ┆ ---       ┆ ---       ┆ ---       ┆ ---       │\n",
       "│       ┆            ┆            ┆            ┆   ┆ f64       ┆ f64       ┆ f64       ┆ f64       │\n",
       "╞═══════╪════════════╪════════════╪════════════╪═══╪═══════════╪═══════════╪═══════════╪═══════════╡\n",
       "│ 79302 ┆ 2.655952   ┆ 269        ┆ 0.740298   ┆ … ┆ 0.764032  ┆ 0.773063  ┆ 0.767518  ┆ 0.688941  │\n",
       "│ 46825 ┆ 2.714891   ┆ 1821       ┆ 0.800024   ┆ … ┆ 0.764175  ┆ 0.733041  ┆ 0.739695  ┆ 0.698295  │\n",
       "│ 60889 ┆ 2.717431   ┆ 1937       ┆ 0.802663   ┆ … ┆ 0.873456  ┆ 0.874691  ┆ 0.759511  ┆ 0.691303  │\n",
       "│ 41037 ┆ 2.735955   ┆ 2040       ┆ 0.804924   ┆ … ┆ 0.627506  ┆ 0.914659  ┆ 0.991084  ┆ 0.618307  │\n",
       "│ 31980 ┆ 2.737204   ┆ 257        ┆ 0.738957   ┆ … ┆ 1.044858  ┆ 0.810598  ┆ 0.6855    ┆ 0.758971  │\n",
       "│ 81940 ┆ 2.751996   ┆ 4275       ┆ 0.834757   ┆ … ┆ 0.951256  ┆ 1.039697  ┆ 0.898172  ┆ 0.643961  │\n",
       "│ 8860  ┆ 2.76974    ┆ 3496       ┆ 0.825902   ┆ … ┆ 0.9074    ┆ 0.822     ┆ 0.890126  ┆ 0.660079  │\n",
       "│ 83175 ┆ 2.772345   ┆ 89         ┆ 0.712674   ┆ … ┆ 0.936918  ┆ 0.81409   ┆ 0.795047  ┆ 0.751305  │\n",
       "│ 31574 ┆ 2.801304   ┆ 1136       ┆ 0.783613   ┆ … ┆ 0.954988  ┆ 0.89204   ┆ 0.830996  ┆ 0.717721  │\n",
       "│ 99314 ┆ 2.813629   ┆ 3179       ┆ 0.821916   ┆ … ┆ 0.988057  ┆ 0.799904  ┆ 0.840141  ┆ 0.701529  │\n",
       "└───────┴────────────┴────────────┴────────────┴───┴───────────┴───────────┴───────────┴───────────┘"
      ],
      "text/html": [
       "<div><style>\n",
       ".dataframe > thead > tr,\n",
       ".dataframe > tbody > tr {\n",
       "  text-align: right;\n",
       "  white-space: pre-wrap;\n",
       "}\n",
       "</style>\n",
       "<small>shape: (10, 15)</small><table border=\"1\" class=\"dataframe\"><thead><tr><th>seed</th><th>deviance_score</th><th>folder_rank</th><th>mean_folder_deviance</th><th>total_class_rank</th><th>mean_class_deviance</th><th>subset_rank</th><th>mean_class_deviance_0</th><th>mean_class_deviance_1</th><th>mean_class_deviance_2</th><th>mean_class_deviance_3</th><th>mean_class_deviance_4</th><th>mean_class_deviance_5</th><th>mean_class_deviance_6</th><th>mean_subset_deviance</th></tr><tr><td>i64</td><td>f64</td><td>u32</td><td>f64</td><td>u32</td><td>f64</td><td>u32</td><td>f64</td><td>f64</td><td>f64</td><td>f64</td><td>f64</td><td>f64</td><td>f64</td><td>f64</td></tr></thead><tbody><tr><td>79302</td><td>2.655952</td><td>269</td><td>0.740298</td><td>285</td><td>0.537773</td><td>264</td><td>4.78416</td><td>2.81138</td><td>1.963535</td><td>1.035573</td><td>0.764032</td><td>0.773063</td><td>0.767518</td><td>0.688941</td></tr><tr><td>46825</td><td>2.714891</td><td>1821</td><td>0.800024</td><td>183</td><td>0.518278</td><td>369</td><td>4.927143</td><td>2.950018</td><td>1.802143</td><td>1.158179</td><td>0.764175</td><td>0.733041</td><td>0.739695</td><td>0.698295</td></tr><tr><td>60889</td><td>2.717431</td><td>1937</td><td>0.802663</td><td>249</td><td>0.532162</td><td>289</td><td>4.672079</td><td>3.422384</td><td>1.420177</td><td>0.921185</td><td>0.873456</td><td>0.874691</td><td>0.759511</td><td>0.691303</td></tr><tr><td>41037</td><td>2.735955</td><td>2040</td><td>0.804924</td><td>4793</td><td>0.694417</td><td>9</td><td>3.995289</td><td>2.975583</td><td>1.299756</td><td>0.772878</td><td>0.627506</td><td>0.914659</td><td>0.991084</td><td>0.618307</td></tr><tr><td>31980</td><td>2.737204</td><td>257</td><td>0.738957</td><td>65</td><td>0.480305</td><td>2183</td><td>6.071442</td><td>2.864615</td><td>1.61451</td><td>1.118935</td><td>1.044858</td><td>0.810598</td><td>0.6855</td><td>0.758971</td></tr><tr><td>81940</td><td>2.751996</td><td>4275</td><td>0.834757</td><td>1807</td><td>0.629317</td><td>42</td><td>4.247807</td><td>2.47497</td><td>1.371406</td><td>1.073789</td><td>0.951256</td><td>1.039697</td><td>0.898172</td><td>0.643961</td></tr><tr><td>8860</td><td>2.76974</td><td>3496</td><td>0.825902</td><td>1650</td><td>0.62368</td><td>82</td><td>5.001753</td><td>2.459833</td><td>1.178401</td><td>1.099358</td><td>0.9074</td><td>0.822</td><td>0.890126</td><td>0.660079</td></tr><tr><td>83175</td><td>2.772345</td><td>89</td><td>0.712674</td><td>460</td><td>0.557061</td><td>1832</td><td>4.330474</td><td>4.086878</td><td>1.843472</td><td>1.260041</td><td>0.936918</td><td>0.81409</td><td>0.795047</td><td>0.751305</td></tr><tr><td>31574</td><td>2.801304</td><td>1136</td><td>0.783613</td><td>779</td><td>0.58225</td><td>670</td><td>5.267625</td><td>3.066416</td><td>1.404599</td><td>1.021452</td><td>0.954988</td><td>0.89204</td><td>0.830996</td><td>0.717721</td></tr><tr><td>99314</td><td>2.813629</td><td>3179</td><td>0.821916</td><td>882</td><td>0.588657</td><td>406</td><td>3.458915</td><td>4.144687</td><td>1.505644</td><td>1.397595</td><td>0.988057</td><td>0.799904</td><td>0.840141</td><td>0.701529</td></tr></tbody></table></div>"
      ]
     },
     "execution_count": 18,
     "metadata": {},
     "output_type": "execute_result"
    }
   ],
   "execution_count": 18
  },
  {
   "metadata": {
    "ExecuteTime": {
     "end_time": "2025-08-13T02:31:46.459202Z",
     "start_time": "2025-08-13T02:31:46.293733Z"
    }
   },
   "cell_type": "code",
   "source": [
    "for k_fold, seeds in best_seeds.items():\n",
    "    for i, seed in enumerate(seeds.select(\"seed\").to_series().to_list()[:3]):\n",
    "        split = [(fold, list(group_ids[list(val)])) for fold, (_, val) in enumerate(KFold(n_splits=n_folds, shuffle=True, random_state=seed).split(group_ids))]\n",
    "        split = (\n",
    "            pl.DataFrame(split, schema=[\"fold\", \"groups\"], orient=\"row\")\n",
    "            .explode(\"groups\")\n",
    "            .rename({\"groups\": \"group\"})\n",
    "            .join(\n",
    "                groups,\n",
    "                on=\"group\",\n",
    "                how=\"inner\"\n",
    "            )\n",
    "            .drop(\"group\")\n",
    "            .sort(\"fold\", \"identifier\")\n",
    "        )\n",
    "        split.write_csv(f\"./data/a2md_public/splits_{k_fold}-folds_{i+3}.csv\", include_header=True, separator=\",\")"
   ],
   "id": "97f56a8e13fee54",
   "outputs": [],
   "execution_count": 19
  },
  {
   "metadata": {},
   "cell_type": "markdown",
   "source": "# A2MD Genre Analysis\n",
   "id": "23cc6a3a64fb87b"
  },
  {
   "metadata": {
    "ExecuteTime": {
     "end_time": "2025-09-16T22:15:26.713033Z",
     "start_time": "2025-09-16T22:15:26.709576Z"
    }
   },
   "cell_type": "code",
   "source": [
    "from itertools import combinations\n",
    "\n",
    "import polars as pl\n",
    "import numpy as np\n",
    "import matplotlib.pyplot as plt"
   ],
   "id": "9ee21a9a4b09f23f",
   "outputs": [],
   "execution_count": 117
  },
  {
   "metadata": {
    "ExecuteTime": {
     "end_time": "2025-09-16T22:43:57.803768Z",
     "start_time": "2025-09-16T22:43:57.787951Z"
    }
   },
   "cell_type": "code",
   "source": "genres = pl.read_csv(\"../data/a2md_public/genres.csv\", separator=\",\", has_header=True).fill_null(\"Unknown\")",
   "id": "9f2919c1a67a24b4",
   "outputs": [],
   "execution_count": 138
  },
  {
   "metadata": {
    "ExecuteTime": {
     "end_time": "2025-09-16T22:43:59.448319Z",
     "start_time": "2025-09-16T22:43:59.408781Z"
    }
   },
   "cell_type": "code",
   "source": [
    "mapped_genres = (\n",
    "    genres.with_columns(\n",
    "        pl.col(\"genres\").alias(\"genre\"),\n",
    "        pl.col(\"genres\")\n",
    "        .str.to_lowercase()\n",
    "    )\n",
    "    .with_columns(\n",
    "        pl.when(\n",
    "            pl.col(\"genres\").str.contains(\"rock\") |\n",
    "            pl.col(\"genres\").str.contains(\"punk\") |\n",
    "            pl.col(\"genres\").str.contains(\"metal\") |\n",
    "            pl.col(\"genres\").str.contains(\"grunge\") |\n",
    "            pl.col(\"genres\").str.contains(\"gothic\") |\n",
    "            pl.col(\"genres\").str.contains(\"alternative\")\n",
    "        )\n",
    "        .then(pl.lit(\"Rock\"))\n",
    "        .otherwise(pl.col(\"genres\"))\n",
    "        .alias(\"genres\")\n",
    "    )\n",
    "    .with_columns(\n",
    "        pl.when(\n",
    "            pl.col(\"genres\").str.contains(\"r&b\") |\n",
    "            pl.col(\"genres\").str.contains(\"r & b\") |\n",
    "            pl.col(\"genres\").str.contains(\"hop\") |\n",
    "            pl.col(\"genres\").str.contains(\"soul\") |\n",
    "            pl.col(\"genres\").str.contains(\"funk\") |\n",
    "            pl.col(\"genres\").str.contains(\"rap\") |\n",
    "            pl.col(\"genres\").str.contains(\"adult contemporary\") |\n",
    "            pl.col(\"genres\").str.contains(\"gospel\") |\n",
    "            pl.col(\"genres\").str.contains(\"christian\")\n",
    "        )\n",
    "        .then(pl.lit(\"R&B/Hip Hop\"))\n",
    "        .otherwise(pl.col(\"genres\"))\n",
    "        .alias(\"genres\")\n",
    "    )\n",
    "    .with_columns(\n",
    "        pl.when(\n",
    "            pl.col(\"genres\").str.contains(\"electro\") |\n",
    "            pl.col(\"genres\").str.contains(\"dance\") |\n",
    "            pl.col(\"genres\").str.contains(\"house\") |\n",
    "            pl.col(\"genres\").str.contains(\"techno\") |\n",
    "            pl.col(\"genres\").str.contains(\"disco\")\n",
    "        )\n",
    "        .then(pl.lit(\"Dance/Electronic\"))\n",
    "        .otherwise(pl.col(\"genres\"))\n",
    "        .alias(\"genres\")\n",
    "    )\n",
    "    # .with_columns(\n",
    "    #     pl.when(\n",
    "    #         pl.col(\"genres\").str.contains(\"gospel\") |\n",
    "    #         pl.col(\"genres\").str.contains(\"christian\") |\n",
    "    #         pl.col(\"genres\").str.contains(\"religious\")\n",
    "    #     )\n",
    "    #     .then(pl.lit(\"Religious\"))\n",
    "    #     .otherwise(pl.col(\"genres\"))\n",
    "    #     .alias(\"genres\")\n",
    "    # )\n",
    "    .with_columns(\n",
    "        pl.when(\n",
    "            pl.col(\"genres\").str.contains(\"film\") |\n",
    "            pl.col(\"genres\").str.contains(\"game\") |\n",
    "            pl.col(\"genres\").str.contains(\"score\") |\n",
    "            pl.col(\"genres\").str.contains(\"soundtrack\") |\n",
    "            pl.col(\"genres\").str.contains(\"musical\") |\n",
    "            pl.col(\"genres\").str.contains(\"classical\") |\n",
    "            pl.col(\"genres\").str.contains(\"orchestra\") |\n",
    "            pl.col(\"genres\").str.contains(\"opera\")\n",
    "        )\n",
    "        .then(pl.lit(\"Soundtrack/Classical\"))\n",
    "        .otherwise(pl.col(\"genres\"))\n",
    "        .alias(\"genres\")\n",
    "    )\n",
    "    .with_columns(\n",
    "        pl.when(\n",
    "            pl.col(\"genres\").str.contains(\"jazz\") |\n",
    "            pl.col(\"genres\").str.contains(\"blues\") |\n",
    "            pl.col(\"genres\").str.contains(\"swing\")\n",
    "        )\n",
    "        .then(pl.lit(\"Jazz\"))\n",
    "        .otherwise(pl.col(\"genres\"))\n",
    "        .alias(\"genres\")\n",
    "    )\n",
    "    .with_columns(\n",
    "        pl.when(\n",
    "            pl.col(\"genres\").str.contains(\"country\") |\n",
    "            pl.col(\"genres\").str.contains(\"bluegrass\") |\n",
    "            pl.col(\"genres\").str.contains(\"folk\") |\n",
    "            pl.col(\"genres\").str.contains(\"volk\") |\n",
    "            pl.col(\"genres\").str.contains(\"children’s music\") |\n",
    "            pl.col(\"genres\").str.contains(\"religious\")\n",
    "        )\n",
    "        .then(pl.lit(\"Folk\"))\n",
    "        .otherwise(pl.col(\"genres\"))\n",
    "        .alias(\"genres\")\n",
    "    )\n",
    "    .with_columns(\n",
    "        pl.when(\n",
    "            pl.col(\"genres\").str.contains(\"reggae\") |\n",
    "            pl.col(\"genres\").str.contains(\"latin\") |\n",
    "            pl.col(\"genres\").str.contains(\"carribean\") |\n",
    "            pl.col(\"genres\").str.contains(\"world\") |\n",
    "            pl.col(\"genres\").str.contains(\"afro\") |\n",
    "            pl.col(\"genres\").str.contains(\"south america\") |\n",
    "            pl.col(\"genres\").str.contains(\"central america\") |\n",
    "            pl.col(\"genres\").str.contains(\"ital\") |\n",
    "            pl.col(\"genres\").str.contains(\"europe\")\n",
    "        )\n",
    "        .then(pl.lit(\"World\"))\n",
    "        .otherwise(pl.col(\"genres\"))\n",
    "        .alias(\"genres\")\n",
    "    )\n",
    "    .with_columns(\n",
    "        pl.when(\n",
    "            pl.col(\"genres\").str.contains(\"pop\")\n",
    "        )\n",
    "        .then(pl.lit(\"Pop\"))\n",
    "        .otherwise(pl.col(\"genres\"))\n",
    "        .alias(\"genres\")\n",
    "    )\n",
    "    .with_columns(\n",
    "        pl.when(\n",
    "            pl.col(\"genres\").str.contains(\"unknown\") |\n",
    "            (pl.col(\"genres\") == \"miscellaneous\")\n",
    "        )\n",
    "        .then(pl.lit(\"Unknown\"))\n",
    "        .otherwise(pl.col(\"genres\"))\n",
    "        .alias(\"genres\")\n",
    "    )\n",
    "    .with_columns(\n",
    "        mapped_genre=pl.col(\"genres\")\n",
    "    )\n",
    "    .drop(\"genres\")\n",
    "    # .unique([\"folder\", \"identifier\", \"mapped_genre\"])\n",
    ")"
   ],
   "id": "7db6f4efdef24f6",
   "outputs": [],
   "execution_count": 139
  },
  {
   "metadata": {
    "ExecuteTime": {
     "end_time": "2025-09-16T22:44:03.669795Z",
     "start_time": "2025-09-16T22:44:03.650315Z"
    }
   },
   "cell_type": "code",
   "source": [
    "genre_count = mapped_genres.select(\"mapped_genre\").group_by(\"mapped_genre\").agg(count=pl.len()).sort(\"count\", descending=True)\n",
    "genres_with_count = mapped_genres.join(genre_count, on=\"mapped_genre\", how=\"left\")\n",
    "\n",
    "genres_with_count.filter(pl.col(\"mapped_genre\") == \"Folk\").select(\"genre\").unique().sort(\"genre\")"
   ],
   "id": "f38d1b1ddf1fb9e",
   "outputs": [
    {
     "data": {
      "text/plain": [
       "shape: (6, 1)\n",
       "┌─────────────────────┐\n",
       "│ genre               │\n",
       "│ ---                 │\n",
       "│ str                 │\n",
       "╞═════════════════════╡\n",
       "│ Bluegrass           │\n",
       "│ Children’s Music    │\n",
       "│ Country             │\n",
       "│ Folk                │\n",
       "│ Indie Pop/Folk      │\n",
       "│ Schlager/Volksmusik │\n",
       "└─────────────────────┘"
      ],
      "text/html": [
       "<div><style>\n",
       ".dataframe > thead > tr,\n",
       ".dataframe > tbody > tr {\n",
       "  text-align: right;\n",
       "  white-space: pre-wrap;\n",
       "}\n",
       "</style>\n",
       "<small>shape: (6, 1)</small><table border=\"1\" class=\"dataframe\"><thead><tr><th>genre</th></tr><tr><td>str</td></tr></thead><tbody><tr><td>&quot;Bluegrass&quot;</td></tr><tr><td>&quot;Children’s Music&quot;</td></tr><tr><td>&quot;Country&quot;</td></tr><tr><td>&quot;Folk&quot;</td></tr><tr><td>&quot;Indie Pop/Folk&quot;</td></tr><tr><td>&quot;Schlager/Volksmusik&quot;</td></tr></tbody></table></div>"
      ]
     },
     "execution_count": 140,
     "metadata": {},
     "output_type": "execute_result"
    }
   ],
   "execution_count": 140
  },
  {
   "metadata": {
    "ExecuteTime": {
     "end_time": "2025-09-16T22:44:05.859112Z",
     "start_time": "2025-09-16T22:44:05.855048Z"
    }
   },
   "cell_type": "code",
   "source": "genre_count",
   "id": "6958665a58cf1331",
   "outputs": [
    {
     "data": {
      "text/plain": [
       "shape: (9, 2)\n",
       "┌──────────────────────┬───────┐\n",
       "│ mapped_genre         ┆ count │\n",
       "│ ---                  ┆ ---   │\n",
       "│ str                  ┆ u32   │\n",
       "╞══════════════════════╪═══════╡\n",
       "│ Rock                 ┆ 1005  │\n",
       "│ Pop                  ┆ 977   │\n",
       "│ R&B/Hip Hop          ┆ 198   │\n",
       "│ Dance/Electronic     ┆ 150   │\n",
       "│ Folk                 ┆ 149   │\n",
       "│ World                ┆ 115   │\n",
       "│ Unknown              ┆ 71    │\n",
       "│ Soundtrack/Classical ┆ 36    │\n",
       "│ Jazz                 ┆ 20    │\n",
       "└──────────────────────┴───────┘"
      ],
      "text/html": [
       "<div><style>\n",
       ".dataframe > thead > tr,\n",
       ".dataframe > tbody > tr {\n",
       "  text-align: right;\n",
       "  white-space: pre-wrap;\n",
       "}\n",
       "</style>\n",
       "<small>shape: (9, 2)</small><table border=\"1\" class=\"dataframe\"><thead><tr><th>mapped_genre</th><th>count</th></tr><tr><td>str</td><td>u32</td></tr></thead><tbody><tr><td>&quot;Rock&quot;</td><td>1005</td></tr><tr><td>&quot;Pop&quot;</td><td>977</td></tr><tr><td>&quot;R&amp;B/Hip Hop&quot;</td><td>198</td></tr><tr><td>&quot;Dance/Electronic&quot;</td><td>150</td></tr><tr><td>&quot;Folk&quot;</td><td>149</td></tr><tr><td>&quot;World&quot;</td><td>115</td></tr><tr><td>&quot;Unknown&quot;</td><td>71</td></tr><tr><td>&quot;Soundtrack/Classical&quot;</td><td>36</td></tr><tr><td>&quot;Jazz&quot;</td><td>20</td></tr></tbody></table></div>"
      ]
     },
     "execution_count": 141,
     "metadata": {},
     "output_type": "execute_result"
    }
   ],
   "execution_count": 141
  },
  {
   "metadata": {
    "ExecuteTime": {
     "end_time": "2025-09-16T22:44:28.871980Z",
     "start_time": "2025-09-16T22:44:28.858692Z"
    }
   },
   "cell_type": "code",
   "source": [
    "all_genres = genre_count.sort(\"count\", descending=True).select(\"mapped_genre\").to_series().to_list()\n",
    "all_genres.remove(\"Unknown\")\n",
    "all_genres = all_genres + [\"Unknown\"]\n",
    "co_occurrence_matrix = np.zeros((len(all_genres), len(all_genres)), dtype=int)\n",
    "\n",
    "genre_list = mapped_genres.group_by(\"identifier\").agg(\n",
    "    pl.col(\"mapped_genre\").unique().alias(\"genres\")\n",
    ").select(\"genres\").to_series().to_list()\n",
    "for genres in genre_list:\n",
    "    if len(genres) == 1:\n",
    "        co_occurrence_matrix[all_genres.index(genres[0]), all_genres.index(genres[0])] += 1\n",
    "        continue\n",
    "    for genre_a, genre_b in combinations(genres, 2):\n",
    "        idx_a = all_genres.index(genre_a)\n",
    "        idx_b = all_genres.index(genre_b)\n",
    "        co_occurrence_matrix[idx_a, idx_b] += 1\n",
    "        co_occurrence_matrix[idx_b, idx_a] += 1\n"
   ],
   "id": "3e8bba141df9fc47",
   "outputs": [],
   "execution_count": 142
  },
  {
   "metadata": {
    "ExecuteTime": {
     "end_time": "2025-09-16T22:44:30.893699Z",
     "start_time": "2025-09-16T22:44:30.708392Z"
    }
   },
   "cell_type": "code",
   "source": [
    "# Plot heatmap\n",
    "plt.figure(figsize=(10, 8))\n",
    "plt.imshow(co_occurrence_matrix, cmap='viridis', interpolation='nearest')\n",
    "plt.colorbar(label='Number of Co-occurrences')\n",
    "plt.xticks(ticks=np.arange(len(all_genres)), labels=all_genres, rotation=90)\n",
    "plt.yticks(ticks=np.arange(len(all_genres)), labels=all_genres)\n",
    "plt.title('Genre Co-occurrence Heatmap')\n",
    "plt.tight_layout()\n",
    "plt.show()"
   ],
   "id": "562de0452cbf86a5",
   "outputs": [
    {
     "data": {
      "text/plain": [
       "<Figure size 1000x800 with 2 Axes>"
      ],
      "image/png": "[encoded data removed]"
     },
     "metadata": {},
     "output_type": "display_data",
     "jetTransient": {
      "display_id": null
     }
    }
   ],
   "execution_count": 143
  }
 ],
 "metadata": {
  "kernelspec": {
   "display_name": "Python 3",
   "language": "python",
   "name": "python3"
  },
  "language_info": {
   "codemirror_mode": {
    "name": "ipython",
    "version": 2
   },
   "file_extension": ".py",
   "mimetype": "text/x-python",
   "name": "python",
   "nbconvert_exporter": "python",
   "pygments_lexer": "ipython2",
   "version": "2.7.6"
  }
 },
 "nbformat": 4,
 "nbformat_minor": 5
}
